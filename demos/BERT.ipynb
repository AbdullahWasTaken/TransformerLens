{
 "cells": [
  {
   "cell_type": "markdown",
   "metadata": {},
   "source": [
    "<a target=\"_blank\" href=\"https://colab.research.google.com/github/neelnanda-io/TransformerLens/blob/main/demos/BERT.ipynb\">\n",
    "  <img src=\"https://colab.research.google.com/assets/colab-badge.svg\" alt=\"Open In Colab\"/>\n",
    "</a>"
   ]
  },
  {
   "attachments": {},
   "cell_type": "markdown",
   "metadata": {},
   "source": [
    "# BERT in TransformerLens\n",
    "This demo shows how to use BERT in TransformerLens for the Masked Language Modelling task."
   ]
  },
  {
   "attachments": {},
   "cell_type": "markdown",
   "metadata": {},
   "source": [
    "# Setup\n",
    "(No need to read)"
   ]
  },
  {
   "cell_type": "code",
   "execution_count": 9,
   "metadata": {},
   "outputs": [
    {
     "name": "stdout",
     "output_type": "stream",
     "text": [
      "Requirement already satisfied: transformer_lens in /Users/bryce/Projects/Lingwave/TransformerLens/.venv/lib/python3.11/site-packages (0.0.0)\n",
      "Requirement already satisfied: accelerate>=0.23.0 in /Users/bryce/Projects/Lingwave/TransformerLens/.venv/lib/python3.11/site-packages (from transformer_lens) (0.29.1)\n",
      "Requirement already satisfied: beartype<0.15.0,>=0.14.1 in /Users/bryce/Projects/Lingwave/TransformerLens/.venv/lib/python3.11/site-packages (from transformer_lens) (0.14.1)\n",
      "Requirement already satisfied: better-abc<0.0.4,>=0.0.3 in /Users/bryce/Projects/Lingwave/TransformerLens/.venv/lib/python3.11/site-packages (from transformer_lens) (0.0.3)\n",
      "Requirement already satisfied: datasets>=2.7.1 in /Users/bryce/Projects/Lingwave/TransformerLens/.venv/lib/python3.11/site-packages (from transformer_lens) (2.18.0)\n",
      "Requirement already satisfied: einops>=0.6.0 in /Users/bryce/Projects/Lingwave/TransformerLens/.venv/lib/python3.11/site-packages (from transformer_lens) (0.7.0)\n",
      "Requirement already satisfied: fancy-einsum>=0.0.3 in /Users/bryce/Projects/Lingwave/TransformerLens/.venv/lib/python3.11/site-packages (from transformer_lens) (0.0.3)\n",
      "Requirement already satisfied: jaxtyping>=0.2.11 in /Users/bryce/Projects/Lingwave/TransformerLens/.venv/lib/python3.11/site-packages (from transformer_lens) (0.2.19)\n",
      "Requirement already satisfied: numpy>=1.24 in /Users/bryce/Projects/Lingwave/TransformerLens/.venv/lib/python3.11/site-packages (from transformer_lens) (1.26.4)\n",
      "Requirement already satisfied: pandas>=1.1.5 in /Users/bryce/Projects/Lingwave/TransformerLens/.venv/lib/python3.11/site-packages (from transformer_lens) (2.0.3)\n",
      "Requirement already satisfied: rich>=12.6.0 in /Users/bryce/Projects/Lingwave/TransformerLens/.venv/lib/python3.11/site-packages (from transformer_lens) (13.7.1)\n",
      "Requirement already satisfied: sentencepiece in /Users/bryce/Projects/Lingwave/TransformerLens/.venv/lib/python3.11/site-packages (from transformer_lens) (0.2.0)\n",
      "Requirement already satisfied: torch!=2.0,!=2.1.0,>=1.10 in /Users/bryce/Projects/Lingwave/TransformerLens/.venv/lib/python3.11/site-packages (from transformer_lens) (2.1.2)\n",
      "Requirement already satisfied: tqdm>=4.64.1 in /Users/bryce/Projects/Lingwave/TransformerLens/.venv/lib/python3.11/site-packages (from transformer_lens) (4.66.2)\n",
      "Requirement already satisfied: transformers>=4.37.2 in /Users/bryce/Projects/Lingwave/TransformerLens/.venv/lib/python3.11/site-packages (from transformer_lens) (4.39.3)\n",
      "Requirement already satisfied: typing-extensions in /Users/bryce/Projects/Lingwave/TransformerLens/.venv/lib/python3.11/site-packages (from transformer_lens) (4.11.0)\n",
      "Requirement already satisfied: wandb>=0.13.5 in /Users/bryce/Projects/Lingwave/TransformerLens/.venv/lib/python3.11/site-packages (from transformer_lens) (0.16.6)\n",
      "Requirement already satisfied: packaging>=20.0 in /Users/bryce/Projects/Lingwave/TransformerLens/.venv/lib/python3.11/site-packages (from accelerate>=0.23.0->transformer_lens) (24.0)\n",
      "Requirement already satisfied: psutil in /Users/bryce/Projects/Lingwave/TransformerLens/.venv/lib/python3.11/site-packages (from accelerate>=0.23.0->transformer_lens) (5.9.8)\n",
      "Requirement already satisfied: pyyaml in /Users/bryce/Projects/Lingwave/TransformerLens/.venv/lib/python3.11/site-packages (from accelerate>=0.23.0->transformer_lens) (6.0.1)\n",
      "Requirement already satisfied: huggingface-hub in /Users/bryce/Projects/Lingwave/TransformerLens/.venv/lib/python3.11/site-packages (from accelerate>=0.23.0->transformer_lens) (0.22.2)\n",
      "Requirement already satisfied: safetensors>=0.3.1 in /Users/bryce/Projects/Lingwave/TransformerLens/.venv/lib/python3.11/site-packages (from accelerate>=0.23.0->transformer_lens) (0.4.2)\n",
      "Requirement already satisfied: filelock in /Users/bryce/Projects/Lingwave/TransformerLens/.venv/lib/python3.11/site-packages (from datasets>=2.7.1->transformer_lens) (3.13.3)\n",
      "Requirement already satisfied: pyarrow>=12.0.0 in /Users/bryce/Projects/Lingwave/TransformerLens/.venv/lib/python3.11/site-packages (from datasets>=2.7.1->transformer_lens) (15.0.2)\n",
      "Requirement already satisfied: pyarrow-hotfix in /Users/bryce/Projects/Lingwave/TransformerLens/.venv/lib/python3.11/site-packages (from datasets>=2.7.1->transformer_lens) (0.6)\n",
      "Requirement already satisfied: dill<0.3.9,>=0.3.0 in /Users/bryce/Projects/Lingwave/TransformerLens/.venv/lib/python3.11/site-packages (from datasets>=2.7.1->transformer_lens) (0.3.8)\n",
      "Requirement already satisfied: requests>=2.19.0 in /Users/bryce/Projects/Lingwave/TransformerLens/.venv/lib/python3.11/site-packages (from datasets>=2.7.1->transformer_lens) (2.31.0)\n",
      "Requirement already satisfied: xxhash in /Users/bryce/Projects/Lingwave/TransformerLens/.venv/lib/python3.11/site-packages (from datasets>=2.7.1->transformer_lens) (3.4.1)\n",
      "Requirement already satisfied: multiprocess in /Users/bryce/Projects/Lingwave/TransformerLens/.venv/lib/python3.11/site-packages (from datasets>=2.7.1->transformer_lens) (0.70.16)\n",
      "Requirement already satisfied: fsspec<=2024.2.0,>=2023.1.0 in /Users/bryce/Projects/Lingwave/TransformerLens/.venv/lib/python3.11/site-packages (from fsspec[http]<=2024.2.0,>=2023.1.0->datasets>=2.7.1->transformer_lens) (2024.2.0)\n",
      "Requirement already satisfied: aiohttp in /Users/bryce/Projects/Lingwave/TransformerLens/.venv/lib/python3.11/site-packages (from datasets>=2.7.1->transformer_lens) (3.9.3)\n",
      "Requirement already satisfied: typeguard>=2.13.3 in /Users/bryce/Projects/Lingwave/TransformerLens/.venv/lib/python3.11/site-packages (from jaxtyping>=0.2.11->transformer_lens) (4.2.1)\n",
      "Requirement already satisfied: python-dateutil>=2.8.2 in /Users/bryce/Projects/Lingwave/TransformerLens/.venv/lib/python3.11/site-packages (from pandas>=1.1.5->transformer_lens) (2.9.0.post0)\n",
      "Requirement already satisfied: pytz>=2020.1 in /Users/bryce/Projects/Lingwave/TransformerLens/.venv/lib/python3.11/site-packages (from pandas>=1.1.5->transformer_lens) (2024.1)\n",
      "Requirement already satisfied: tzdata>=2022.1 in /Users/bryce/Projects/Lingwave/TransformerLens/.venv/lib/python3.11/site-packages (from pandas>=1.1.5->transformer_lens) (2024.1)\n",
      "Requirement already satisfied: markdown-it-py>=2.2.0 in /Users/bryce/Projects/Lingwave/TransformerLens/.venv/lib/python3.11/site-packages (from rich>=12.6.0->transformer_lens) (2.2.0)\n",
      "Requirement already satisfied: pygments<3.0.0,>=2.13.0 in /Users/bryce/Projects/Lingwave/TransformerLens/.venv/lib/python3.11/site-packages (from rich>=12.6.0->transformer_lens) (2.17.2)\n",
      "Requirement already satisfied: sympy in /Users/bryce/Projects/Lingwave/TransformerLens/.venv/lib/python3.11/site-packages (from torch!=2.0,!=2.1.0,>=1.10->transformer_lens) (1.12)\n",
      "Requirement already satisfied: networkx in /Users/bryce/Projects/Lingwave/TransformerLens/.venv/lib/python3.11/site-packages (from torch!=2.0,!=2.1.0,>=1.10->transformer_lens) (3.1)\n",
      "Requirement already satisfied: jinja2 in /Users/bryce/Projects/Lingwave/TransformerLens/.venv/lib/python3.11/site-packages (from torch!=2.0,!=2.1.0,>=1.10->transformer_lens) (3.1.3)\n",
      "Requirement already satisfied: regex!=2019.12.17 in /Users/bryce/Projects/Lingwave/TransformerLens/.venv/lib/python3.11/site-packages (from transformers>=4.37.2->transformer_lens) (2023.12.25)\n",
      "Requirement already satisfied: tokenizers<0.19,>=0.14 in /Users/bryce/Projects/Lingwave/TransformerLens/.venv/lib/python3.11/site-packages (from transformers>=4.37.2->transformer_lens) (0.15.2)\n",
      "Requirement already satisfied: Click!=8.0.0,>=7.1 in /Users/bryce/Projects/Lingwave/TransformerLens/.venv/lib/python3.11/site-packages (from wandb>=0.13.5->transformer_lens) (8.1.7)\n",
      "Requirement already satisfied: GitPython!=3.1.29,>=1.0.0 in /Users/bryce/Projects/Lingwave/TransformerLens/.venv/lib/python3.11/site-packages (from wandb>=0.13.5->transformer_lens) (3.1.43)\n",
      "Requirement already satisfied: sentry-sdk>=1.0.0 in /Users/bryce/Projects/Lingwave/TransformerLens/.venv/lib/python3.11/site-packages (from wandb>=0.13.5->transformer_lens) (1.44.1)\n",
      "Requirement already satisfied: docker-pycreds>=0.4.0 in /Users/bryce/Projects/Lingwave/TransformerLens/.venv/lib/python3.11/site-packages (from wandb>=0.13.5->transformer_lens) (0.4.0)\n",
      "Requirement already satisfied: setproctitle in /Users/bryce/Projects/Lingwave/TransformerLens/.venv/lib/python3.11/site-packages (from wandb>=0.13.5->transformer_lens) (1.3.3)\n",
      "Requirement already satisfied: setuptools in /Users/bryce/Projects/Lingwave/TransformerLens/.venv/lib/python3.11/site-packages (from wandb>=0.13.5->transformer_lens) (69.2.0)\n",
      "Requirement already satisfied: appdirs>=1.4.3 in /Users/bryce/Projects/Lingwave/TransformerLens/.venv/lib/python3.11/site-packages (from wandb>=0.13.5->transformer_lens) (1.4.4)\n",
      "Requirement already satisfied: protobuf!=4.21.0,<5,>=3.19.0 in /Users/bryce/Projects/Lingwave/TransformerLens/.venv/lib/python3.11/site-packages (from wandb>=0.13.5->transformer_lens) (4.25.3)\n",
      "Requirement already satisfied: six>=1.4.0 in /Users/bryce/Projects/Lingwave/TransformerLens/.venv/lib/python3.11/site-packages (from docker-pycreds>=0.4.0->wandb>=0.13.5->transformer_lens) (1.16.0)\n",
      "Requirement already satisfied: aiosignal>=1.1.2 in /Users/bryce/Projects/Lingwave/TransformerLens/.venv/lib/python3.11/site-packages (from aiohttp->datasets>=2.7.1->transformer_lens) (1.3.1)\n",
      "Requirement already satisfied: attrs>=17.3.0 in /Users/bryce/Projects/Lingwave/TransformerLens/.venv/lib/python3.11/site-packages (from aiohttp->datasets>=2.7.1->transformer_lens) (23.2.0)\n",
      "Requirement already satisfied: frozenlist>=1.1.1 in /Users/bryce/Projects/Lingwave/TransformerLens/.venv/lib/python3.11/site-packages (from aiohttp->datasets>=2.7.1->transformer_lens) (1.4.1)\n",
      "Requirement already satisfied: multidict<7.0,>=4.5 in /Users/bryce/Projects/Lingwave/TransformerLens/.venv/lib/python3.11/site-packages (from aiohttp->datasets>=2.7.1->transformer_lens) (6.0.5)\n",
      "Requirement already satisfied: yarl<2.0,>=1.0 in /Users/bryce/Projects/Lingwave/TransformerLens/.venv/lib/python3.11/site-packages (from aiohttp->datasets>=2.7.1->transformer_lens) (1.9.4)\n",
      "Requirement already satisfied: gitdb<5,>=4.0.1 in /Users/bryce/Projects/Lingwave/TransformerLens/.venv/lib/python3.11/site-packages (from GitPython!=3.1.29,>=1.0.0->wandb>=0.13.5->transformer_lens) (4.0.11)\n",
      "Requirement already satisfied: mdurl~=0.1 in /Users/bryce/Projects/Lingwave/TransformerLens/.venv/lib/python3.11/site-packages (from markdown-it-py>=2.2.0->rich>=12.6.0->transformer_lens) (0.1.2)\n",
      "Requirement already satisfied: charset-normalizer<4,>=2 in /Users/bryce/Projects/Lingwave/TransformerLens/.venv/lib/python3.11/site-packages (from requests>=2.19.0->datasets>=2.7.1->transformer_lens) (3.3.2)\n",
      "Requirement already satisfied: idna<4,>=2.5 in /Users/bryce/Projects/Lingwave/TransformerLens/.venv/lib/python3.11/site-packages (from requests>=2.19.0->datasets>=2.7.1->transformer_lens) (3.6)\n",
      "Requirement already satisfied: urllib3<3,>=1.21.1 in /Users/bryce/Projects/Lingwave/TransformerLens/.venv/lib/python3.11/site-packages (from requests>=2.19.0->datasets>=2.7.1->transformer_lens) (2.2.1)\n",
      "Requirement already satisfied: certifi>=2017.4.17 in /Users/bryce/Projects/Lingwave/TransformerLens/.venv/lib/python3.11/site-packages (from requests>=2.19.0->datasets>=2.7.1->transformer_lens) (2024.2.2)\n",
      "Requirement already satisfied: MarkupSafe>=2.0 in /Users/bryce/Projects/Lingwave/TransformerLens/.venv/lib/python3.11/site-packages (from jinja2->torch!=2.0,!=2.1.0,>=1.10->transformer_lens) (2.1.5)\n",
      "Requirement already satisfied: mpmath>=0.19 in /Users/bryce/Projects/Lingwave/TransformerLens/.venv/lib/python3.11/site-packages (from sympy->torch!=2.0,!=2.1.0,>=1.10->transformer_lens) (1.3.0)\n",
      "Requirement already satisfied: smmap<6,>=3.0.1 in /Users/bryce/Projects/Lingwave/TransformerLens/.venv/lib/python3.11/site-packages (from gitdb<5,>=4.0.1->GitPython!=3.1.29,>=1.0.0->wandb>=0.13.5->transformer_lens) (5.0.1)\n",
      "\n",
      "\u001b[1m[\u001b[0m\u001b[34;49mnotice\u001b[0m\u001b[1;39;49m]\u001b[0m\u001b[39;49m A new release of pip is available: \u001b[0m\u001b[31;49m23.3.1\u001b[0m\u001b[39;49m -> \u001b[0m\u001b[32;49m24.0\u001b[0m\n",
      "\u001b[1m[\u001b[0m\u001b[34;49mnotice\u001b[0m\u001b[1;39;49m]\u001b[0m\u001b[39;49m To update, run: \u001b[0m\u001b[32;49mpip install --upgrade pip\u001b[0m\n",
      "Note: you may need to restart the kernel to use updated packages.\n",
      "Requirement already satisfied: circuitsvis in /Users/bryce/Projects/Lingwave/TransformerLens/.venv/lib/python3.11/site-packages (1.43.2)\n",
      "Requirement already satisfied: importlib-metadata>=5.1.0 in /Users/bryce/Projects/Lingwave/TransformerLens/.venv/lib/python3.11/site-packages (from circuitsvis) (7.1.0)\n",
      "Requirement already satisfied: numpy>=1.24 in /Users/bryce/Projects/Lingwave/TransformerLens/.venv/lib/python3.11/site-packages (from circuitsvis) (1.26.4)\n",
      "Requirement already satisfied: torch>=1.10 in /Users/bryce/Projects/Lingwave/TransformerLens/.venv/lib/python3.11/site-packages (from circuitsvis) (2.1.2)\n",
      "Requirement already satisfied: zipp>=0.5 in /Users/bryce/Projects/Lingwave/TransformerLens/.venv/lib/python3.11/site-packages (from importlib-metadata>=5.1.0->circuitsvis) (3.18.1)\n",
      "Requirement already satisfied: filelock in /Users/bryce/Projects/Lingwave/TransformerLens/.venv/lib/python3.11/site-packages (from torch>=1.10->circuitsvis) (3.13.3)\n",
      "Requirement already satisfied: typing-extensions in /Users/bryce/Projects/Lingwave/TransformerLens/.venv/lib/python3.11/site-packages (from torch>=1.10->circuitsvis) (4.11.0)\n",
      "Requirement already satisfied: sympy in /Users/bryce/Projects/Lingwave/TransformerLens/.venv/lib/python3.11/site-packages (from torch>=1.10->circuitsvis) (1.12)\n",
      "Requirement already satisfied: networkx in /Users/bryce/Projects/Lingwave/TransformerLens/.venv/lib/python3.11/site-packages (from torch>=1.10->circuitsvis) (3.1)\n",
      "Requirement already satisfied: jinja2 in /Users/bryce/Projects/Lingwave/TransformerLens/.venv/lib/python3.11/site-packages (from torch>=1.10->circuitsvis) (3.1.3)\n",
      "Requirement already satisfied: fsspec in /Users/bryce/Projects/Lingwave/TransformerLens/.venv/lib/python3.11/site-packages (from torch>=1.10->circuitsvis) (2024.2.0)\n",
      "Requirement already satisfied: MarkupSafe>=2.0 in /Users/bryce/Projects/Lingwave/TransformerLens/.venv/lib/python3.11/site-packages (from jinja2->torch>=1.10->circuitsvis) (2.1.5)\n",
      "Requirement already satisfied: mpmath>=0.19 in /Users/bryce/Projects/Lingwave/TransformerLens/.venv/lib/python3.11/site-packages (from sympy->torch>=1.10->circuitsvis) (1.3.0)\n",
      "\n",
      "\u001b[1m[\u001b[0m\u001b[34;49mnotice\u001b[0m\u001b[1;39;49m]\u001b[0m\u001b[39;49m A new release of pip is available: \u001b[0m\u001b[31;49m23.3.1\u001b[0m\u001b[39;49m -> \u001b[0m\u001b[32;49m24.0\u001b[0m\n",
      "\u001b[1m[\u001b[0m\u001b[34;49mnotice\u001b[0m\u001b[1;39;49m]\u001b[0m\u001b[39;49m To update, run: \u001b[0m\u001b[32;49mpip install --upgrade pip\u001b[0m\n",
      "Note: you may need to restart the kernel to use updated packages.\n"
     ]
    }
   ],
   "source": [
    "import os\n",
    "\n",
    "# Janky code to do different setup when run in a Colab notebook vs VSCode\n",
    "DEVELOPMENT_MODE = False\n",
    "IN_GITHUB = os.getenv(\"GITHUB_ACTIONS\") == \"true\"\n",
    "try:\n",
    "    import google.colab\n",
    "\n",
    "    IN_COLAB = True\n",
    "    print(\"Running as a Colab notebook\")\n",
    "\n",
    "    # PySvelte is an unmaintained visualization library, use it as a backup if circuitsvis isn't working\n",
    "    # # Install another version of node that makes PySvelte work way faster\n",
    "    # !curl -fsSL https://deb.nodesource.com/setup_16.x | sudo -E bash -; sudo apt-get install -y nodejs\n",
    "    # %pip install git+https://github.com/neelnanda-io/PySvelte.git\n",
    "except:\n",
    "    IN_COLAB = False\n",
    "\n",
    "if not IN_GITHUB and not IN_COLAB:\n",
    "    print(\"Running as a Jupyter notebook - intended for development only!\")\n",
    "    from IPython import get_ipython\n",
    "\n",
    "    ipython = get_ipython()\n",
    "    # Code to automatically update the HookedTransformer code as its edited without restarting the kernel\n",
    "    ipython.magic(\"load_ext autoreload\")\n",
    "    ipython.magic(\"autoreload 2\")\n",
    "\n",
    "if IN_COLAB or IN_GITHUB:\n",
    "    %pip install transformer_lens\n",
    "    %pip install circuitsvis"
   ]
  },
  {
   "cell_type": "code",
   "execution_count": 3,
   "metadata": {},
   "outputs": [
    {
     "name": "stdout",
     "output_type": "stream",
     "text": [
      "Using renderer: colab\n"
     ]
    }
   ],
   "source": [
    "# Plotly needs a different renderer for VSCode/Notebooks vs Colab argh\n",
    "import plotly.io as pio\n",
    "\n",
    "if IN_COLAB or not DEVELOPMENT_MODE:\n",
    "    pio.renderers.default = \"colab\"\n",
    "else:\n",
    "    pio.renderers.default = \"notebook_connected\"\n",
    "print(f\"Using renderer: {pio.renderers.default}\")"
   ]
  },
  {
   "cell_type": "code",
   "execution_count": 4,
   "metadata": {},
   "outputs": [
    {
     "data": {
      "text/html": [
       "<div id=\"circuits-vis-8c91db10-74f4\" style=\"margin: 15px 0;\"/>\n",
       "    <script crossorigin type=\"module\">\n",
       "    import { render, Hello } from \"https://unpkg.com/circuitsvis@1.43.2/dist/cdn/esm.js\";\n",
       "    render(\n",
       "      \"circuits-vis-8c91db10-74f4\",\n",
       "      Hello,\n",
       "      {\"name\": \"Neel\"}\n",
       "    )\n",
       "    </script>"
      ],
      "text/plain": [
       "<circuitsvis.utils.render.RenderedHTML at 0x13a9760d0>"
      ]
     },
     "execution_count": 4,
     "metadata": {},
     "output_type": "execute_result"
    }
   ],
   "source": [
    "import circuitsvis as cv\n",
    "\n",
    "# Testing that the library works\n",
    "cv.examples.hello(\"Neel\")"
   ]
  },
  {
   "cell_type": "code",
   "execution_count": 5,
   "metadata": {},
   "outputs": [],
   "source": [
    "# Import stuff\n",
    "import torch\n",
    "\n",
    "from transformers import AutoTokenizer\n",
    "\n",
    "from transformer_lens import HookedEncoder"
   ]
  },
  {
   "cell_type": "code",
   "execution_count": 6,
   "metadata": {},
   "outputs": [
    {
     "data": {
      "text/plain": [
       "<torch.autograd.grad_mode.set_grad_enabled at 0x2a285a790>"
      ]
     },
     "execution_count": 6,
     "metadata": {},
     "output_type": "execute_result"
    }
   ],
   "source": [
    "torch.set_grad_enabled(False)"
   ]
  },
  {
   "attachments": {},
   "cell_type": "markdown",
   "metadata": {},
   "source": [
    "# BERT\n",
    "\n",
    "In this section, we will load a pretrained BERT model and use it for the Masked Language Modelling task"
   ]
  },
  {
   "cell_type": "code",
   "execution_count": 10,
   "metadata": {},
   "outputs": [
    {
     "name": "stderr",
     "output_type": "stream",
     "text": [
      "WARNING:root:Support for BERT in TransformerLens is currently experimental, until such a time when it has feature parity with HookedTransformer and has been tested on real research tasks. Until then, backward compatibility is not guaranteed. Please see the docs for information on the limitations of the current implementation.\n",
      "If using BERT for interpretability research, keep in mind that BERT has some significant architectural differences to GPT. For example, LayerNorms are applied *after* the attention and MLP components, meaning that the last LayerNorm in a block cannot be folded.\n"
     ]
    },
    {
     "data": {
      "application/vnd.jupyter.widget-view+json": {
       "model_id": "407745de57a144f09c2c0b7345c31edc",
       "version_major": 2,
       "version_minor": 0
      },
      "text/plain": [
       "tokenizer.json:   0%|          | 0.00/436k [00:00<?, ?B/s]"
      ]
     },
     "metadata": {},
     "output_type": "display_data"
    },
    {
     "name": "stdout",
     "output_type": "stream",
     "text": [
      "Moving model to device:  mps\n",
      "Loaded pretrained model bert-base-cased into HookedTransformer\n"
     ]
    }
   ],
   "source": [
    "bert = HookedEncoder.from_pretrained(\"bert-base-cased\")\n",
    "tokenizer = AutoTokenizer.from_pretrained(\"bert-base-cased\")"
   ]
  },
  {
   "attachments": {},
   "cell_type": "markdown",
   "metadata": {},
   "source": [
    "Use the \"[MASK]\" token to mask any tokens which you would like the model to predict."
   ]
  },
  {
   "cell_type": "code",
   "execution_count": 11,
   "metadata": {},
   "outputs": [],
   "source": [
    "prompt = \"BERT: Pre-training of Deep Bidirectional [MASK] for Language Understanding\"\n",
    "\n",
    "input_ids = tokenizer(prompt, return_tensors=\"pt\")[\"input_ids\"]\n",
    "mask_index = (input_ids.squeeze() == tokenizer.mask_token_id).nonzero().item()"
   ]
  },
  {
   "cell_type": "code",
   "execution_count": 12,
   "metadata": {},
   "outputs": [
    {
     "name": "stdout",
     "output_type": "stream",
     "text": [
      "Prompt: BERT: Pre-training of Deep Bidirectional [MASK] for Language Understanding\n",
      "Prediction: \"Systems\"\n"
     ]
    }
   ],
   "source": [
    "logprobs = bert(input_ids)[input_ids == tokenizer.mask_token_id].log_softmax(dim=-1)\n",
    "prediction = tokenizer.decode(logprobs.argmax(dim=-1).item())\n",
    "\n",
    "print(f\"Prompt: {prompt}\")\n",
    "print(f'Prediction: \"{prediction}\"')"
   ]
  },
  {
   "attachments": {},
   "cell_type": "markdown",
   "metadata": {},
   "source": [
    "Better luck next time, BERT."
   ]
  }
 ],
 "metadata": {
  "kernelspec": {
   "display_name": ".venv",
   "language": "python",
   "name": "python3"
  },
  "language_info": {
   "codemirror_mode": {
    "name": "ipython",
    "version": 3
   },
   "file_extension": ".py",
   "mimetype": "text/x-python",
   "name": "python",
   "nbconvert_exporter": "python",
   "pygments_lexer": "ipython3",
   "version": "3.11.8"
  },
  "orig_nbformat": 4
 },
 "nbformat": 4,
 "nbformat_minor": 2
}
