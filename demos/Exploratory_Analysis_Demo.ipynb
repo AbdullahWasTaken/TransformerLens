{
    "cells": [
        {
            "cell_type": "markdown",
            "metadata": {},
            "source": [
                "<a target=\"_blank\" href=\"https://colab.research.google.com/github/neelnanda-io/TransformerLens/blob/main/demos/Exploratory_Analysis_Demo.ipynb\">\n",
                "  <img src=\"https://colab.research.google.com/assets/colab-badge.svg\" alt=\"Open In Colab\"/>\n",
                "</a>"
            ]
        },
        {
            "attachments": {},
            "cell_type": "markdown",
            "metadata": {},
            "source": [
                "# Exploratory Analysis Demo\n",
                "\n",
                "This notebook demonstrates how to use the\n",
                "[TransformerLens](https://github.com/neelnanda-io/TransformerLens/) library to perform exploratory\n",
                "analysis. The notebook tries to replicate the analysis of the Indirect Object Identification circuit\n",
                "in the [Interpretability in the Wild](https://arxiv.org/abs/2211.00593) paper."
            ]
        },
        {
            "attachments": {},
            "cell_type": "markdown",
            "metadata": {},
            "source": [
                "## Tips for Reading This\n",
                "\n",
                "* If running in Google Colab, go to Runtime > Change Runtime Type and select GPU as the hardware\n",
                "accelerator.\n",
                "* Look up unfamiliar terms in [the mech interp explainer](https://neelnanda.io/glossary)\n",
                "* You can run all this code for yourself\n",
                "* The graphs are interactive\n",
                "* Use the table of contents pane in the sidebar to navigate (in Colab) or VSCode's \"Outline\" in the\n",
                "  explorer tab.\n",
                "* Collapse irrelevant sections with the dropdown arrows\n",
                "* Search the page using the search in the sidebar (with Colab) not CTRL+F"
            ]
        },
        {
            "cell_type": "markdown",
            "metadata": {},
            "source": [
                "## Setup"
            ]
        },
        {
            "cell_type": "markdown",
            "metadata": {},
            "source": [
                "### Environment Setup (ignore)"
            ]
        },
        {
            "cell_type": "markdown",
            "metadata": {},
            "source": [
                "**You can ignore this part:** It's just for use internally to setup the tutorial in different\n",
                "environments. You can delete this section if using in your own repo."
            ]
        },
        {
            "cell_type": "code",
            "execution_count": null,
            "metadata": {},
            "outputs": [],
            "source": [
                "# Detect if we're running in Google Colab\n",
                "try:\n",
                "    import google.colab\n",
                "    IN_COLAB = True\n",
                "    print(\"Running as a Colab notebook\")\n",
                "except:\n",
                "    IN_COLAB = False\n",
                "\n",
                "# Install if in Colab\n",
                "if IN_COLAB:\n",
                "    %pip install transformer_lens\n",
                "    %pip install circuitsvis\n",
                "    # Install a faster Node version\n",
                "    !curl -fsSL https://deb.nodesource.com/setup_16.x | sudo -E bash -; sudo apt-get install -y nodejs\n",
                "\n",
                "# Hot reload in development mode \n",
                "if not IN_COLAB:\n",
                "    from IPython import get_ipython\n",
                "    ipython = get_ipython()\n",
                "    ipython.magic(\"load_ext autoreload\")\n",
                "    ipython.magic(\"autoreload 2\")\n",
                "\n",
                "import plotly.io as pio\n"
            ]
        },
        {
            "cell_type": "markdown",
            "metadata": {},
            "source": [
                "### Imports"
            ]
        },
        {
            "cell_type": "code",
            "execution_count": null,
            "metadata": {},
            "outputs": [],
            "source": [
                "from functools import partial\n",
                "from typing import List, Optional, Union\n",
                "\n",
                "import einops\n",
                "import numpy as np\n",
                "import plotly.express as px\n",
                "import torch\n",
                "from circuitsvis.attention import attention_heads\n",
                "from fancy_einsum import einsum\n",
                "from IPython.display import HTML\n",
                "from jaxtyping import Float\n",
                "\n",
                "import transformer_lens.utils as utils\n",
                "from transformer_lens import ActivationCache, HookedTransformer"
            ]
        },
        {
            "cell_type": "markdown",
            "metadata": {},
            "source": [
                "### PyTorch Setup"
            ]
        },
        {
            "cell_type": "markdown",
            "metadata": {},
            "source": [
                "We turn automatic differentiation off, to save GPU memory, as this notebook focuses on model inference not model training."
            ]
        },
        {
            "cell_type": "code",
            "execution_count": null,
            "metadata": {},
            "outputs": [],
            "source": [
                "torch.set_grad_enabled(False)"
            ]
        },
        {
            "cell_type": "markdown",
            "metadata": {},
            "source": [
                "### Plotting Helper Functions (ignore)"
            ]
        },
        {
            "cell_type": "markdown",
            "metadata": {},
            "source": [
                "Some plotting helper functions are included here (for simplicity)."
            ]
        },
        {
            "cell_type": "code",
            "execution_count": null,
            "metadata": {},
            "outputs": [],
            "source": [
                "def imshow(tensor, renderer=None, **kwargs):\n",
                "    px.imshow(\n",
                "        utils.to_numpy(tensor),\n",
                "        color_continuous_midpoint=0.0,\n",
                "        color_continuous_scale=\"RdBu\",\n",
                "        **kwargs\n",
                "    ).show(renderer)\n",
                "\n",
                "\n",
                "def line(tensor, renderer=None, **kwargs):\n",
                "    px.line(y=utils.to_numpy(tensor), **kwargs).show(renderer)\n",
                "\n",
                "\n",
                "def scatter(x, y, xaxis=\"\", yaxis=\"\", caxis=\"\", renderer=None, **kwargs):\n",
                "    x = utils.to_numpy(x)\n",
                "    y = utils.to_numpy(y)\n",
                "    px.scatter(\n",
                "        y=y, x=x, labels={\"x\": xaxis, \"y\": yaxis, \"color\": caxis}, **kwargs\n",
                "    ).show(renderer)"
            ]
        },
        {
            "cell_type": "markdown",
            "metadata": {},
            "source": [
                "# Introduction\n",
                "\n",
                "This is a demo notebook for [TransformerLens](https://github.com/neelnanda-io/TransformerLens), a library for mechanistic interpretability of GPT-2 style transformer language models. A core design principle of the library is to enable exploratory analysis - one of the most fun parts of mechanistic interpretability compared to normal ML is the extremely short feedback loops! The point of this library is to keep the gap between having an experiment idea and seeing the results as small as possible, to make it easy for **research to feel like play** and to enter a flow state.\n",
                "\n",
                "The goal of this notebook is to demonstrate what exploratory analysis looks like in practice with the library. I use my standard toolkit of basic mechanistic interpretability techniques to try interpreting a real circuit in GPT-2 small. Check out [the main demo](https://colab.research.google.com/github/neelnanda-io/TransformerLens/blob/main/demos/Main_Demo.ipynb) for an introduction to the library and how to use it. \n",
                "\n",
                "Stylistically, I will go fairly slowly and explain in detail what I'm doing and why, aiming to help convey how to do this kind of research yourself! But the code itself is written to be simple and generic, and easy to copy and paste into your own projects for different tasks and models.\n",
                "\n",
                "Details tags contain asides, flavour + interpretability intuitions. These are more in the weeds and you don't need to read them or understand them, but they're helpful if you want to learn how to do mechanistic interpretability yourself! I star the ones I think are most important.\n",
                "<details><summary>(*) Example details tag</summary>Example aside!</details>"
            ]
        },
        {
            "cell_type": "markdown",
            "metadata": {},
            "source": [
                "## Indirect Object Identification\n",
                "\n",
                "The first step when trying to reverse engineer a circuit in a model is to identify *what* capability I want to reverse engineer. Indirect Object Identification is a task studied in Redwood Research's excellent [Interpretability in the Wild](https://arxiv.org/abs/2211.00593) paper (see [my interview with the authors](https://www.youtube.com/watch?v=gzwj0jWbvbo) or [Kevin Wang's Twitter thread](https://threadreaderapp.com/thread/1587601532639494146.html) for an overview). The task is to complete sentences like \"After John and Mary went to the shops, John gave a bottle of milk to\" with \" Mary\" rather than \" John\". \n",
                "\n",
                "In the paper they rigorously reverse engineer a 26 head circuit, with 7 separate categories of heads used to perform this capability. Their rigorous methods are fairly involved, so in this notebook, I'm going to skimp on rigour and instead try to speedrun the process of finding suggestive evidence for this circuit!\n",
                "\n",
                "The circuit they found roughly breaks down into three parts:\n",
                "1. Identify what names are in the sentence\n",
                "2. Identify which names are duplicated\n",
                "3. Predict the name that is *not* duplicated"
            ]
        },
        {
            "cell_type": "markdown",
            "metadata": {},
            "source": [
                "The first step is to load in our model, GPT-2 Small, a 12 layer and 80M parameter transformer with `HookedTransformer.from_pretrained`. The various flags are simplifications that preserve the model's output but simplify its internals, see [here](TODO: link) for details."
            ]
        },
        {
            "cell_type": "code",
            "execution_count": null,
            "metadata": {},
            "outputs": [],
            "source": [
                "model = HookedTransformer.from_pretrained(\n",
                "    \"gpt2-small\",\n",
                "    center_unembed=True,\n",
                "    center_writing_weights=True,\n",
                "    fold_ln=True,\n",
                "    refactor_factored_attn_matrices=True,\n",
                ")\n",
                "\n",
                "# Get the default device used\n",
                "device: torch.device = utils.get_device()"
            ]
        },
        {
            "cell_type": "markdown",
            "metadata": {},
            "source": [
                "The next step is to verify that the model can *actually* do the task! Here we use `utils.test_prompt`, and see that the model is significantly better at predicting Mary than John! \n",
                "\n",
                "<details><summary>Asides:</summary>\n",
                "\n",
                "Note: If we were being careful, we'd want to run the model on a range of prompts and find the average performance\n",
                "\n",
                "`prepend_bos` is a flag to add a BOS (beginning of sequence) to the start of the prompt. GPT-2 was not trained with this, but I find that it often makes model behaviour more stable, as the first token is treated weirdly.\n",
                "</details>"
            ]
        },
        {
            "cell_type": "code",
            "execution_count": null,
            "metadata": {},
            "outputs": [],
            "source": [
                "example_prompt = \"After John and Mary went to the store, John gave a bottle of milk to\"\n",
                "example_answer = \" Mary\"\n",
                "utils.test_prompt(example_prompt, example_answer, model, prepend_bos=True)"
            ]
        },
        {
            "cell_type": "markdown",
            "metadata": {},
            "source": [
                "We now want to find a reference prompt to run the model on. Even though our ultimate goal is to reverse engineer how this behaviour is done in general, often the best way to start out in mechanistic interpretability is by zooming in on a concrete example and understanding it in detail, and only *then* zooming out and verifying that our analysis generalises.\n",
                "\n",
                "We'll run the model on 4 instances of this task, each prompt given twice - one with the first name as the indirect object, one with the second name. To make our lives easier, we'll carefully choose prompts with single token names and the corresponding names in the same token positions.\n",
                "\n",
                "<details> <summary>(*) <b>Aside on tokenization</b></summary>\n",
                "\n",
                "We want models that can take in arbitrary text, but models need to have a fixed vocabulary. So the solution is to define a vocabulary of **tokens** and to deterministically break up arbitrary text into tokens. Tokens are, essentially, subwords, and are determined by finding the most frequent substrings - this means that tokens vary a lot in length and frequency! \n",
                "\n",
                "Tokens are a *massive* headache and are one of the most annoying things about reverse engineering language models... Different names will be different numbers of tokens, different prompts will have the relevant tokens at different positions, different prompts will have different total numbers of tokens, etc. Language models often devote significant amounts of parameters in early layers to convert inputs from tokens to a more sensible internal format (and do the reverse in later layers). You really, really want to avoid needing to think about tokenization wherever possible when doing exploratory analysis (though, of course, it's relevant later when trying to flesh out your analysis and make it rigorous!). HookedTransformer comes with several helper methods to deal with tokens: `to_tokens, to_string, to_str_tokens, to_single_token, get_token_position`\n",
                "\n",
                "**Exercise:** I recommend using `model.to_str_tokens` to explore how the model tokenizes different strings. In particular, try adding or removing spaces at the start, or changing capitalization - these change tokenization!</details>"
            ]
        },
        {
            "cell_type": "code",
            "execution_count": null,
            "metadata": {},
            "outputs": [],
            "source": [
                "prompt_format = [\n",
                "    \"When John and Mary went to the shops,{} gave the bag to\",\n",
                "    \"When Tom and James went to the park,{} gave the ball to\",\n",
                "    \"When Dan and Sid went to the shops,{} gave an apple to\",\n",
                "    \"After Martin and Amy went to the park,{} gave a drink to\",\n",
                "]\n",
                "names = [\n",
                "    (\" Mary\", \" John\"),\n",
                "    (\" Tom\", \" James\"),\n",
                "    (\" Dan\", \" Sid\"),\n",
                "    (\" Martin\", \" Amy\"),\n",
                "]\n",
                "# List of prompts\n",
                "prompts = []\n",
                "# List of answers, in the format (correct, incorrect)\n",
                "answers = []\n",
                "# List of the token (ie an integer) corresponding to each answer, in the format (correct_token, incorrect_token)\n",
                "answer_tokens = []\n",
                "for i in range(len(prompt_format)):\n",
                "    for j in range(2):\n",
                "        answers.append((names[i][j], names[i][1 - j]))\n",
                "        answer_tokens.append(\n",
                "            (\n",
                "                model.to_single_token(answers[-1][0]),\n",
                "                model.to_single_token(answers[-1][1]),\n",
                "            )\n",
                "        )\n",
                "        # Insert the *incorrect* answer to the prompt, making the correct answer the indirect object.\n",
                "        prompts.append(prompt_format[i].format(answers[-1][1]))\n",
                "answer_tokens = torch.tensor(answer_tokens).to(device)\n",
                "print(prompts)\n",
                "print(answers)"
            ]
        },
        {
            "attachments": {},
            "cell_type": "markdown",
            "metadata": {},
            "source": [
                "**Gotcha**: It's important that all of your prompts have the same number of tokens. If they're different lengths, then the position of the \"final\" logit where you can check logit difference will differ between prompts, and this will break the below code. The easiest solution is just to choose your prompts carefully to have the same number of tokens (you can eg add filler words like The, or newlines to start).\n",
                "\n",
                "There's a range of other ways of solving this, eg you can index more intelligently to get the final logit. A better way is to just use left padding by setting `model.tokenizer.padding_side = 'left'` before tokenizing the inputs and running the model; this way, you can use something like `logits[:, -1, :]` to easily access the final token outputs without complicated indexing. TransformerLens checks the value of `padding_side` of the tokenizer internally, and if the flag is set to be `'left'`, it adjusts the calculation of absolute position embedding and causal masking accordingly.\n",
                "\n",
                "In this demo, though, we stick to using the prompts of the same number of tokens because we want to show some visualisations aggregated along the batch dimension later in the demo."
            ]
        },
        {
            "cell_type": "code",
            "execution_count": null,
            "metadata": {},
            "outputs": [],
            "source": [
                "for prompt in prompts:\n",
                "    str_tokens = model.to_str_tokens(prompt)\n",
                "    print(\"Prompt length:\", len(str_tokens))\n",
                "    print(\"Prompt as tokens:\", str_tokens)"
            ]
        },
        {
            "cell_type": "markdown",
            "metadata": {},
            "source": [
                "We now run the model on these prompts and use `run_with_cache` to get both the logits and a cache of all internal activations for later analysis"
            ]
        },
        {
            "cell_type": "code",
            "execution_count": null,
            "metadata": {},
            "outputs": [],
            "source": [
                "tokens = model.to_tokens(prompts, prepend_bos=True)\n",
                "\n",
                "# Run the model and cache all activations\n",
                "original_logits, cache = model.run_with_cache(tokens)"
            ]
        },
        {
            "cell_type": "markdown",
            "metadata": {},
            "source": [
                "We'll later be evaluating how model performance differs upon performing various interventions, so it's useful to have a metric to measure model performance. Our metric here will be the **logit difference**, the difference in logit between the indirect object's name and the subject's name (eg, `logit(Mary)-logit(John)`). "
            ]
        },
        {
            "cell_type": "code",
            "execution_count": null,
            "metadata": {},
            "outputs": [],
            "source": [
                "def logits_to_ave_logit_diff(logits, answer_tokens, per_prompt=False):\n",
                "    # Only the final logits are relevant for the answer\n",
                "    final_logits = logits[:, -1, :]\n",
                "    answer_logits = final_logits.gather(dim=-1, index=answer_tokens)\n",
                "    answer_logit_diff = answer_logits[:, 0] - answer_logits[:, 1]\n",
                "    if per_prompt:\n",
                "        return answer_logit_diff\n",
                "    else:\n",
                "        return answer_logit_diff.mean()\n",
                "\n",
                "\n",
                "print(\n",
                "    \"Per prompt logit difference:\",\n",
                "    logits_to_ave_logit_diff(original_logits, answer_tokens, per_prompt=True),\n",
                ")\n",
                "original_average_logit_diff = logits_to_ave_logit_diff(original_logits, answer_tokens)\n",
                "print(\n",
                "    \"Average logit difference:\",\n",
                "    logits_to_ave_logit_diff(original_logits, answer_tokens).item(),\n",
                ")"
            ]
        },
        {
            "cell_type": "markdown",
            "metadata": {},
            "source": [
                "We see that the average logit difference is 3.5 - for context, this represents putting an $e^{3.5}\\approx 33\\times$ higher probability on the correct answer. "
            ]
        },
        {
            "cell_type": "markdown",
            "metadata": {},
            "source": [
                "# Brainstorm What's Actually Going On (Optional)\n",
                "\n",
                "Before diving into running experiments, it's often useful to spend some time actually reasoning about how the behaviour in question could be implemented in the transformer. **This is optional, and you'll likely get the most out of engaging with this section if you have a decent understanding already of what a transformer is and how it works!**\n",
                "\n",
                "You don't have to do this and forming hypotheses after exploration is also reasonable, but I think it's often easier to explore and interpret results with some grounding in what you might find. In this particular case, I'm cheating somewhat, since I know the answer, but I'm trying to simulate the process of reasoning about it!\n",
                "\n",
                "Note that often your hypothesis will be wrong in some ways and often be completely off. We're doing science here, and the goal is to understand how the model *actually* works, and to form true beliefs! There are two separate traps here at two extremes that it's worth tracking:\n",
                "* Confusion: Having no hypotheses at all, getting a lot of data and not knowing what to do with it, and just floundering around\n",
                "* Dogmatism: Being overconfident in an incorrect hypothesis and being unwilling to let go of it when reality contradicts you, or flinching away from running the experiments that might disconfirm it.\n",
                "\n",
                "**Exercise:** Spend some time thinking through how you might imagine this behaviour being implemented in a transformer. Try to think through this for yourself before reading through my thoughts! \n",
                "\n",
                "<details> <summary>(*) <b>My reasoning</b></summary>\n",
                "\n",
                "<h3>Brainstorming:</h3>\n",
                "\n",
                "So, what's hard about the task? Let's focus on the concrete example of the first prompt, \"When John and Mary went to the shops, John gave the bag to\" -> \" Mary\".  \n",
                "\n",
                "A good starting point is thinking though whether a tiny model could do this, eg a <a href=\"https://transformer-circuits.pub/2021/framework/index.html\">1L Attn-Only model</a>. I'm pretty sure the answer is no! Attention is really good at the primitive operations of looking nearby, or copying information. I can believe a tiny model could figure out that at `to` it should look for names and predict that those names came next (eg the skip trigram \" John...to -> John\"). But it's much harder to tell how <i>many</i> of each previous name there are - attending 0.3 to each copy of John will look exactly the same as attending 0.6 to a single John token. So this will be pretty hard to figure out on the \" to\" token!\n",
                "\n",
                "The natural place to break this symmetry is on the second \" John\" token - telling whether there is an earlier copy of the <i>current</i> token should be a much easier task. So I might expect there to be a head which detects duplicate tokens on the second \" John\" token, and then another head which moves that information from the second \" John\" token to the \" to\" token. \n",
                "\n",
                "The model then needs to learn to predict \" Mary\" and <i>not</i> \" John\". I can see two natural ways to do this: \n",
                "1. Detect all preceding names and move this information to \" to\" and then delete the any name corresponding to the duplicate token feature. This feels easier done with a non-linearity, since precisely cancelling out vectors is hard, so I'd imagine an MLP layer deletes the \" John\" direction of the residual stream\n",
                "2. Have a head which attends to all previous names, but where the duplicate token features <i>inhibit</i> it from attending to specific names. So this only attends to Mary. And then the output of this head maps to the logits.  \n",
                "\n",
                "(Spoiler: It's the second one).\n",
                "\n",
                "<h3>Experiment Ideas</h3>\n",
                "\n",
                "A test that could distinguish these two is to look at which components of the model add directly to the logits - if it's mostly attention heads which attend to \" Mary\" and to neither \" John\" it's probably hypothesis 2, if it's mostly MLPs it's probably hypothesis 1.\n",
                "\n",
                "And we should be able to identify duplicate token heads by finding ones which attend from \" John\" to \" John\", and whose outputs are then moved to the \" to\" token by V-Composition with another head (Spoiler: It's more complicated than that!)\n",
                "\n",
                "Note that all of the above reasoning is very simplistic and could easily break in a real model! There'll be significant parts of the model that figure out whether to use this circuit at all (we don't want to inhibit duplicated names when, eg, figuring out what goes at the start of the <i>next</i> sentence), and may be parts towards the end of the model that do \"post-processing\" just before the final output. But it's a good starting point for thinking about what's going on."
            ]
        },
        {
            "cell_type": "markdown",
            "metadata": {},
            "source": [
                "# Direct Logit Attribution"
            ]
        },
        {
            "attachments": {},
            "cell_type": "markdown",
            "metadata": {},
            "source": [
                "*Look up unfamiliar terms in the [mech interp explainer](https://neelnanda.io/glossary)*\n",
                "\n",
                "Further, the easiest part of the model to understand is the output - this is what the model is trained to optimize, and so it can always be directly interpreted! Often the right approach to reverse engineering a circuit is to start at the end, understand how the model produces the right answer, and to then work backwards. The main technique used to do this is called **direct logit attribution**\n",
                "\n",
                "**Background:** The central object of a transformer is the **residual stream**. This is the sum of the outputs of each layer and of the original token and positional embedding. Importantly, this means that any linear function of the residual stream can be perfectly decomposed into the contribution of each layer of the transformer. Further, each attention layer's output can be broken down into the sum of the output of each head (See [A Mathematical Framework for Transformer Circuits](https://transformer-circuits.pub/2021/framework/index.html) for details), and each MLP layer's output can be broken down into the sum of the output of each neuron (and a bias term for each layer). \n",
                "\n",
                "The logits of a model are `logits=Unembed(LayerNorm(final_residual_stream))`. The Unembed is a linear map, and LayerNorm is approximately a linear map, so we can decompose the logits into the sum of the contributions of each component, and look at which components contribute the most to the logit of the correct token! This is called **direct logit attribution**. Here we look at the direct attribution to the logit difference!\n",
                "\n",
                "<details> <summary>(*) <b>Background and motivation of the logit difference</b></summary>\n",
                "\n",
                "Logit difference is actually a *really* nice and elegant metric and is a particularly nice aspect of the setup of Indirect Object Identification. In general, there are two natural ways to interpret the model's outputs: the output logits, or the output log probabilities (or probabilities). \n",
                "\n",
                "The logits are much nicer and easier to understand, as noted above. However, the model is trained to optimize the cross-entropy loss (the average of log probability of the correct token). This means it does not directly optimize the logits, and indeed if the model adds an arbitrary constant to every logit, the log probabilities are unchanged. \n",
                "\n",
                "But `log_probs == logits.log_softmax(dim=-1) == logits - logsumexp(logits)`, and so `log_probs(\" Mary\") - log_probs(\" John\") = logits(\" Mary\") - logits(\" John\")` - the ability to add an arbitrary constant cancels out!\n",
                "\n",
                "Further, the metric helps us isolate the precise capability we care about - figuring out *which* name is the Indirect Object. There are many other components of the task - deciding whether to return an article (the) or pronoun (her) or name, realising that the sentence wants a person next at all, etc. By taking the logit difference we control for all of that.\n",
                "\n",
                "Our metric is further refined, because each prompt is repeated twice, for each possible indirect object. This controls for irrelevant behaviour such as the model learning that John is a more frequent token than Mary (this actually happens! The final layernorm bias increases the John logit by 1 relative to the Mary logit)\n",
                "\n",
                "</details>\n",
                "\n",
                "<details> <summary>Ignoring LayerNorm</summary>\n",
                "\n",
                "LayerNorm is an analogous normalization technique to BatchNorm (that's friendlier to massive parallelization) that transformers use. Every time a transformer layer reads information from the residual stream, it applies a LayerNorm to normalize the vector at each position (translating to set the mean to 0 and scaling to set the variance to 1) and then applying a learned vector of weights and biases to scale and translate the normalized vector. This is *almost* a linear map, apart from the scaling step, because that divides by the norm of the vector and the norm is not a linear function. (The `fold_ln` flag when loading a model factors out all the linear parts).\n",
                "\n",
                "But if we fixed the scale factor, the LayerNorm would be fully linear. And the scale of the residual stream is a global property that's a function of *all* components of the stream, while in practice there is normally just a few directions relevant to any particular component, so in practice this is an acceptable approximation. So when doing direct logit attribution we use the `apply_ln` flag on the `cache` to apply the global layernorm scaling factor to each constant. See [my clean GPT-2 implementation](https://colab.research.google.com/github/neelnanda-io/TransformerLens/blob/clean-transformer-demo/Clean_Transformer_Demo.ipynb#scrollTo=Clean_Transformer_Implementation) for more on LayerNorm.\n",
                "</details>"
            ]
        },
        {
            "cell_type": "markdown",
            "metadata": {},
            "source": [
                "Getting an output logit is equivalent to projecting onto a direction in the residual stream. We use `model.tokens_to_residual_directions` to map the answer tokens to that direction, and then convert this to a logit difference direction for each batch"
            ]
        },
        {
            "cell_type": "code",
            "execution_count": null,
            "metadata": {},
            "outputs": [],
            "source": [
                "answer_residual_directions = model.tokens_to_residual_directions(answer_tokens)\n",
                "print(\"Answer residual directions shape:\", answer_residual_directions.shape)\n",
                "logit_diff_directions = (\n",
                "    answer_residual_directions[:, 0] - answer_residual_directions[:, 1]\n",
                ")\n",
                "print(\"Logit difference directions shape:\", logit_diff_directions.shape)"
            ]
        },
        {
            "cell_type": "markdown",
            "metadata": {},
            "source": [
                "To verify that this works, we can apply this to the final residual stream for our cached prompts (after applying LayerNorm scaling) and verify that we get the same answer. \n",
                "\n",
                "<details> <summary>Technical details</summary>\n",
                "\n",
                "`logits = Unembed(LayerNorm(final_residual_stream))`, so we technically need to account for the centering, and then learned translation and scaling of the layernorm, not just the variance 1 scaling. \n",
                "\n",
                "The centering is accounted for with the preprocessing flag `center_writing_weights` which ensures that every weight matrix writing to the residual stream has mean zero. \n",
                "\n",
                "The learned scaling is folded into the unembedding weights `model.unembed.W_U` via `W_U_fold = layer_norm.weights[:, None] * unembed.W_U`\n",
                "\n",
                "The learned translation is folded to `model.unembed.b_U`, a bias added to the logits (note that GPT-2 is not trained with an existing `b_U`). This roughly represents unigram statistics. But we can ignore this because each prompt occurs twice with names in the opposite order, so this perfectly cancels out. \n",
                "\n",
                "Note that rather than using layernorm scaling we could just study cache[\"ln_final.hook_normalised\"]\n",
                "\n",
                "</details>"
            ]
        },
        {
            "cell_type": "code",
            "execution_count": null,
            "metadata": {},
            "outputs": [],
            "source": [
                "# cache syntax - resid_post is the residual stream at the end of the layer, -1 gets the final layer. The general syntax is [activation_name, layer_index, sub_layer_type].\n",
                "final_residual_stream = cache[\"resid_post\", -1]\n",
                "print(\"Final residual stream shape:\", final_residual_stream.shape)\n",
                "final_token_residual_stream = final_residual_stream[:, -1, :]\n",
                "# Apply LayerNorm scaling\n",
                "# pos_slice is the subset of the positions we take - here the final token of each prompt\n",
                "scaled_final_token_residual_stream = cache.apply_ln_to_stack(\n",
                "    final_token_residual_stream, layer=-1, pos_slice=-1\n",
                ")\n",
                "\n",
                "average_logit_diff = einsum(\n",
                "    \"batch d_model, batch d_model -> \",\n",
                "    scaled_final_token_residual_stream,\n",
                "    logit_diff_directions,\n",
                ") / len(prompts)\n",
                "print(\"Calculated average logit diff:\", average_logit_diff.item())\n",
                "print(\"Original logit difference:\", original_average_logit_diff.item())"
            ]
        },
        {
            "cell_type": "markdown",
            "metadata": {},
            "source": [
                "## Logit Lens"
            ]
        },
        {
            "cell_type": "markdown",
            "metadata": {},
            "source": [
                "We can now decompose the residual stream! First we apply a technique called the [**logit lens**](https://www.alignmentforum.org/posts/AcKRB8wDpdaN6v6ru/interpreting-gpt-the-logit-lens) - this looks at the residual stream after each layer and calculates the logit difference from that. This simulates what happens if we delete all subsequence layers. "
            ]
        },
        {
            "cell_type": "code",
            "execution_count": null,
            "metadata": {},
            "outputs": [],
            "source": [
                "def residual_stack_to_logit_diff(\n",
                "    residual_stack: Float[torch.Tensor, \"components batch d_model\"],\n",
                "    cache: ActivationCache,\n",
                ") -> float:\n",
                "    scaled_residual_stack = cache.apply_ln_to_stack(\n",
                "        residual_stack, layer=-1, pos_slice=-1\n",
                "    )\n",
                "    return einsum(\n",
                "        \"... batch d_model, batch d_model -> ...\",\n",
                "        scaled_residual_stack,\n",
                "        logit_diff_directions,\n",
                "    ) / len(prompts)"
            ]
        },
        {
            "cell_type": "markdown",
            "metadata": {},
            "source": [
                "Fascinatingly, we see that the model is utterly unable to do the task until layer 7, almost all performance comes from attention layer 9, and performance actually *decreases* from there.\n",
                "\n",
                "**Note:** Hover over each data point to see what residual stream position it's from!\n",
                "\n",
                "<details> <summary>Details on `accumulated_resid`</summary>\n",
                "**Key:** `n_pre` means the residual stream at the start of layer n, `n_mid` means the residual stream after the attention part of layer n (`n_post` is the same as `n+1_pre` so is not included)\n",
                "\n",
                "* `layer` is the layer for which we input the residual stream (this is used to identify *which* layer norm scaling factor we want)\n",
                "* `incl_mid` is whether to include the residual stream in the middle of a layer, ie after attention & before MLP\n",
                "* `pos_slice` is the subset of the positions used. See `utils.Slice` for details on the syntax.\n",
                "* return_labels is whether to return the labels for each component returned (useful for plotting)\n",
                "</details>"
            ]
        },
        {
            "cell_type": "code",
            "execution_count": null,
            "metadata": {},
            "outputs": [],
            "source": [
                "accumulated_residual, labels = cache.accumulated_resid(\n",
                "    layer=-1, incl_mid=True, pos_slice=-1, return_labels=True\n",
                ")\n",
                "logit_lens_logit_diffs = residual_stack_to_logit_diff(accumulated_residual, cache)\n",
                "line(\n",
                "    logit_lens_logit_diffs,\n",
                "    x=np.arange(model.cfg.n_layers * 2 + 1) / 2,\n",
                "    hover_name=labels,\n",
                "    title=\"Logit Difference From Accumulate Residual Stream\",\n",
                ")"
            ]
        },
        {
            "cell_type": "markdown",
            "metadata": {},
            "source": [
                "## Layer Attribution"
            ]
        },
        {
            "cell_type": "markdown",
            "metadata": {},
            "source": [
                "We can repeat the above analysis but for each layer (this is equivalent to the differences between adjacent residual streams)\n",
                "\n",
                "Note: Annoying terminology overload - layer k of a transformer means the kth **transformer block**, but each block consists of an **attention layer** (to move information around) *and* an **MLP layer** (to process information). \n",
                "\n",
                "We see that only attention layers matter, which makes sense! The IOI task is about moving information around (ie moving the correct name and not the incorrect name), and less about processing it. And again we note that attention layer 9 improves things a lot, while attention 10 and attention 11 *decrease* performance"
            ]
        },
        {
            "cell_type": "code",
            "execution_count": null,
            "metadata": {},
            "outputs": [],
            "source": [
                "per_layer_residual, labels = cache.decompose_resid(\n",
                "    layer=-1, pos_slice=-1, return_labels=True\n",
                ")\n",
                "per_layer_logit_diffs = residual_stack_to_logit_diff(per_layer_residual, cache)\n",
                "line(per_layer_logit_diffs, hover_name=labels, title=\"Logit Difference From Each Layer\")"
            ]
        },
        {
            "cell_type": "markdown",
            "metadata": {},
            "source": [
                "## Head Attribution"
            ]
        },
        {
            "cell_type": "markdown",
            "metadata": {},
            "source": [
                "We can further break down the output of each attention layer into the sum of the outputs of each attention head. Each attention layer consists of 12 heads, which each act independently and additively.\n",
                "\n",
                "<details> <summary>Decomposing attention output into sums of heads</summary> \n",
                "The standard way to compute the output of an attention layer is by concatenating the mixed values of each head, and multiplying by a big output weight matrix. But as described in [A Mathematical Framework](https://transformer-circuits.pub/2021/framework/index.html) this is equivalent to splitting the output weight matrix into a per-head output (here `model.blocks[k].attn.W_O`) and adding them up (including an overall bias term for the entire layer)\n",
                "</details>\n",
                "\n",
                "We see that only a few heads really matter - heads L9H6 and L9H9 contribute a lot positively (explaining why attention layer 9 is so important), while heads L10H7 and L11H10 contribute a lot negatively (explaining why attention layer 10 and layer 11 are actively harmful). These correspond to (some of) the name movers and negative name movers discussed in the paper. There are also several heads that matter positively or negatively but less strongly (other name movers and backu name movers)\n",
                "\n",
                "There are a few meta observations worth making here - our model has 144 heads, yet we could localise this behaviour to a handful of specific heads, using straightforward, general techniques. This supports the claim in [A Mathematical Framework](https://transformer-circuits.pub/2021/framework/index.html) that attention heads are the right level of abstraction to understand attention. It also really surprising that there are *negative* heads - eg L10H7 makes the incorrect logit 7x *more* likely. I'm not sure what's going on there, though the paper discusses some possibilities."
            ]
        },
        {
            "cell_type": "code",
            "execution_count": null,
            "metadata": {},
            "outputs": [],
            "source": [
                "per_head_residual, labels = cache.stack_head_results(\n",
                "    layer=-1, pos_slice=-1, return_labels=True\n",
                ")\n",
                "per_head_logit_diffs = residual_stack_to_logit_diff(per_head_residual, cache)\n",
                "per_head_logit_diffs = einops.rearrange(\n",
                "    per_head_logit_diffs,\n",
                "    \"(layer head_index) -> layer head_index\",\n",
                "    layer=model.cfg.n_layers,\n",
                "    head_index=model.cfg.n_heads,\n",
                ")\n",
                "imshow(\n",
                "    per_head_logit_diffs,\n",
                "    labels={\"x\": \"Head\", \"y\": \"Layer\"},\n",
                "    title=\"Logit Difference From Each Head\",\n",
                ")"
            ]
        },
        {
            "cell_type": "markdown",
            "metadata": {},
            "source": [
                "## Attention Analysis"
            ]
        },
        {
            "cell_type": "markdown",
            "metadata": {},
            "source": [
                "Attention heads are particularly easy to study because we can look directly at their attention patterns and study from what positions they move information from and two. This is particularly easy here as we're looking at the direct effect on the logits so we need only look at the attention patterns from the final token. \n",
                "\n",
                "We use Alan Cooney's circuitsvis library to visualize the attention patterns! We visualize the top 3 positive and negative heads by direct logit attribution, and show these for the first prompt (as an illustration).\n",
                "\n",
                "<details> <summary>Interpreting Attention Patterns</summary> \n",
                "An easy mistake to make when looking at attention patterns is thinking that they must convey information about the <i>token</i> looked at (maybe accounting for the context of the token). But actually, all we can confidently say is that it moves information from the *residual stream position* corresponding to that input token. Especially later on in the model, there may be components in the residual stream that are nothing to do with the input token! Eg the period at the end of a sentence may contain summary information for that sentence, and the head may solely move that, rather than caring about whether it ends in \".\", \"!\" or \"?\"\n",
                "</details>"
            ]
        },
        {
            "cell_type": "code",
            "execution_count": null,
            "metadata": {},
            "outputs": [],
            "source": [
                "def visualize_attention_patterns(\n",
                "    heads: Union[List[int], int, Float[torch.Tensor, \"heads\"]],\n",
                "    local_cache: ActivationCache,\n",
                "    local_tokens: torch.Tensor,\n",
                "    title: Optional[str],\n",
                "):\n",
                "    # If a single head is given, convert to a list\n",
                "    if isinstance(heads, int):\n",
                "        heads = [heads]\n",
                "\n",
                "    # Create the plotting data\n",
                "    labels: List[str] = []\n",
                "    patterns: List[Float[torch.Tensor, \"dest_pos src_pos\"]] = []\n",
                "\n",
                "    # Assume we have a single batch item\n",
                "    batch_index = 0\n",
                "\n",
                "    for head in heads:\n",
                "        # Set the label\n",
                "        layer = head // model.cfg.n_heads\n",
                "        head_index = head % model.cfg.n_heads\n",
                "        labels.append(f\"L{layer}H{head_index}\")\n",
                "\n",
                "        # Get the attention patterns for the head\n",
                "        # Attention patterns have shape [batch, head_index, query_pos, key_pos]\n",
                "        patterns.append(local_cache[\"attn\", layer][batch_index, head_index])\n",
                "\n",
                "    # Convert the tokens to strings (for the axis labels)\n",
                "    str_tokens = model.to_str_tokens(local_tokens)\n",
                "\n",
                "    # Combine the patterns into a single tensor\n",
                "    patterns: Float[torch.Tensor, \"head_index dest_pos src_pos\"] = torch.stack(\n",
                "        patterns, dim=0\n",
                "    )\n",
                "\n",
                "    # Plot using circuitsvis\n",
                "    attention_vis = attention_heads(\n",
                "        attention=patterns, tokens=str_tokens, attention_head_names=labels\n",
                "    )\n",
                "\n",
                "    # Display the title\n",
                "    if title:\n",
                "        display(HTML(f\"<h3>{title}</h3>\"))\n",
                "\n",
                "    # Display the visualisation\n",
                "    display(attention_vis)"
            ]
        },
        {
            "cell_type": "markdown",
            "metadata": {},
            "source": [
                "Inspecting the patterns, we can see that both types of name movers attend to the indirect object - this suggests they're simply copying the name attended to (with the OV circuit) and that the interesting part is the circuit behind the attention pattern that calculates *where* to move information from (the QK circuit)"
            ]
        },
        {
            "cell_type": "code",
            "execution_count": null,
            "metadata": {},
            "outputs": [],
            "source": [
                "top_k = 3\n",
                "\n",
                "top_positive_logit_attr_heads = torch.topk(\n",
                "    per_head_logit_diffs.flatten(), k=top_k\n",
                ").indices\n",
                "visualize_attention_patterns(\n",
                "    top_positive_logit_attr_heads,\n",
                "    cache,\n",
                "    tokens[0],\n",
                "    f\"Top {top_k} Positive Logit Attribution Heads\",\n",
                ")\n",
                "\n",
                "top_negative_logit_attr_heads = torch.topk(\n",
                "    -per_head_logit_diffs.flatten(), k=top_k\n",
                ").indices\n",
                "visualize_attention_patterns(\n",
                "    top_negative_logit_attr_heads,\n",
                "    cache,\n",
                "    tokens[0],\n",
                "    title=f\"Top {top_k} Negative Logit Attribution Heads\",\n",
                ")"
            ]
        },
        {
            "cell_type": "markdown",
            "metadata": {},
            "source": [
                "# Activation Patching"
            ]
        },
        {
            "attachments": {},
            "cell_type": "markdown",
            "metadata": {},
            "source": [
                "**This section explains how to do activation patching conceptually by implementing it from scratch. To use it in practice with TransformerLens, see [this demonstration instead](https://colab.research.google.com/github/neelnanda-io/TransformerLens/blob/main/demos/Activation_Patching_in_TL_Demo.ipynb)**.\n",
                "\n",
                "The obvious limitation to the techniques used above is that they only look at the very end of the circuit - the parts that directly affect the logits. Clearly this is not sufficient to understand the circuit! We want to understand how things compose together to produce this final output, and ideally to produce an end-to-end circuit fully explaining this behaviour. \n",
                "\n",
                "The technique we'll use to investigate this is called **activation patching**. This was first introduced in [David Bau and Kevin Meng's excellent ROME paper](https://rome.baulab.info/), there called causal tracing. \n",
                "\n",
                "The setup of activation patching is to take two runs of the model on two different inputs, the clean run and the corrupted run. The clean run outputs the correct answer and the corrupted run does not. The key idea is that we give the model the corrupted input, but then **intervene** on a specific activation and **patch** in the corresponding activation from the clean run (ie replace the corrupted activation with the clean activation), and then continue the run. And we then measure how much the output has updated towards the correct answer. \n",
                "\n",
                "We can then iterate over many possible activations and look at how much they affect the corrupted run. If patching in an activation significantly increases the probability of the correct answer, this allows us to *localise* which activations matter. \n",
                "\n",
                "The ability to localise is a key move in mechanistic interpretability - if the computation is diffuse and spread across the entire model, it is likely much harder to form a clean mechanistic story for what's going on. But if we can identify precisely which parts of the model matter, we can then zoom in and determine what they represent and how they connect up with each other, and ultimately reverse engineer the underlying circuit that they represent. \n",
                "\n",
                "Here's an animation from the ROME paper demonstrating this technique (they studied factual recall, and use stars to represent corruption applied to the subject of the sentence, but the same principles apply):\n",
                "\n",
                "![](https://rome.baulab.info/images/small-ct-animation.gif)\n",
                "\n",
                "See also [the explanation in a mech interp explainer](https://dynalist.io/d/n2ZWtnoYHrU1s4vnFSAQ519J#z=qeWBvs-R-taFfcCq-S_hgMqx) and [this piece](https://www.neelnanda.io/mechanistic-interpretability/attribution-patching#how-to-think-about-activation-patching) describing how to think about patching on a conceptual level"
            ]
        },
        {
            "cell_type": "markdown",
            "metadata": {},
            "source": [
                "The above was all fairly abstract, so let's zoom in and lay out a concrete example to understand Indirect Object Identification.\n",
                "\n",
                "Here our clean input will be eg \"After John and Mary went to the store, **John** gave a bottle of milk to\" and our corrupted input will be eg \"After John and Mary went to the store, **Mary** gave a bottle of milk to\". These prompts are identical except for the name of the indirect object, and so patching is a causal intervention which will allow us to understand precisely which parts of the network are identifying the indirect object. \n",
                "\n",
                "One natural thing to patch in is the residual stream at a specific layer and specific position. For example, the model is likely intitially doing some processing on the second subject token to realise that it's a duplicate, but then uses attention to move that information to the \" to\" token. So patching in the residual stream at the \" to\" token will likely matter a lot in later layers but not at all in early layers.\n",
                "\n",
                "We can zoom in much further and patch in specific activations from specific layers. For example, we think that the output of head L9H9 on the final token is significant for directly connecting to the logits\n",
                "\n",
                "We can patch in specific activations, and can zoom in as far as seems reasonable. For example, if we patch in the output of head L9H9 on the final token, we would predict that it will significantly affect performance. \n",
                "\n",
                "Note that this technique does *not* tell us how the components of the circuit connect up, just what they are. \n",
                "\n",
                "<details> <summary>Technical details</summary> \n",
                "The choice of clean and corrupted prompt has both pros and cons. By carefully setting up the counterfactual, that <i>only</i> differs in the second subject, we avoid detecting the parts of the model doing irrelevant computation like detecting that the indirect object task is relevant at all or that it should be outputting a name rather than an article or pronoun. Or even context like that John and Mary are names at all. \n",
                "\n",
                "However, it *also* bakes in some details that *are* relevant to the task. Such as finding the location of the second subject, and of the names in the first clause. Or that the name mover heads have learned to copy whatever they look at. \n",
                "\n",
                "Some of these could be patched by also changing up the order of the names in the original sentence - patching in \"After <b>John and Mary</b> went to the store, John gave a bottle of milk to\" vs \"After <b>Mary and John</b> went to the store, John gave a bottle of milk to\".\n",
                "\n",
                "In the ROME paper they take a different tack. Rather than carefully setting up counterfactuals between two different but related inputs, they **corrupt** the clean input by adding Gaussian noise to the token embedding for the subject. This is in some ways much lower effort (you don't need to set up a similar but different prompt) but can also introduce some issues, such as ways this noise might break things. In practice, you should take care about how you choose your counterfactuals and try out several. Try to reason beforehand about what they will and will not tell you, and compare the results between different counterfactuals.\n",
                "\n",
                "I discuss some of these limitations and how the author's solved them with much more refined usage of these techniques <a href=\"https://www.youtube.com/watch?v=gzwj0jWbvbo\">in our interview</a>\n",
                "</details>"
            ]
        },
        {
            "cell_type": "markdown",
            "metadata": {},
            "source": [
                "## Residual Stream"
            ]
        },
        {
            "cell_type": "markdown",
            "metadata": {},
            "source": [
                "Lets begin by patching in the residual stream at the start of each layer and for each token position. "
            ]
        },
        {
            "cell_type": "markdown",
            "metadata": {},
            "source": [
                "We first create a set of corrupted tokens - where we swap each pair of prompts to have the opposite answer."
            ]
        },
        {
            "cell_type": "code",
            "execution_count": null,
            "metadata": {},
            "outputs": [],
            "source": [
                "corrupted_prompts = []\n",
                "for i in range(0, len(prompts), 2):\n",
                "    corrupted_prompts.append(prompts[i + 1])\n",
                "    corrupted_prompts.append(prompts[i])\n",
                "corrupted_tokens = model.to_tokens(corrupted_prompts, prepend_bos=True)\n",
                "corrupted_logits, corrupted_cache = model.run_with_cache(\n",
                "    corrupted_tokens, return_type=\"logits\"\n",
                ")\n",
                "corrupted_average_logit_diff = logits_to_ave_logit_diff(corrupted_logits, answer_tokens)\n",
                "print(\"Corrupted Average Logit Diff\", corrupted_average_logit_diff)\n",
                "print(\"Clean Average Logit Diff\", original_average_logit_diff)"
            ]
        },
        {
            "cell_type": "code",
            "execution_count": null,
            "metadata": {},
            "outputs": [],
            "source": [
                "model.to_string(corrupted_tokens)"
            ]
        },
        {
            "attachments": {},
            "cell_type": "markdown",
            "metadata": {},
            "source": [
                "We now intervene on the corrupted run and patch in the clean residual stream at a specific layer and position.\n",
                "\n",
                "We do the intervention using TransformerLens's `HookPoint` feature. We can design a hook function that takes in a specific activation and returns an edited copy, and temporarily add it in with `model.run_with_hooks`. "
            ]
        },
        {
            "cell_type": "code",
            "execution_count": null,
            "metadata": {},
            "outputs": [],
            "source": [
                "def patch_residual_component(\n",
                "    corrupted_residual_component: Float[torch.Tensor, \"batch pos d_model\"],\n",
                "    hook,\n",
                "    pos,\n",
                "    clean_cache,\n",
                "):\n",
                "    corrupted_residual_component[:, pos, :] = clean_cache[hook.name][:, pos, :]\n",
                "    return corrupted_residual_component\n",
                "\n",
                "\n",
                "def normalize_patched_logit_diff(patched_logit_diff):\n",
                "    # Subtract corrupted logit diff to measure the improvement, divide by the total improvement from clean to corrupted to normalise\n",
                "    # 0 means zero change, negative means actively made worse, 1 means totally recovered clean performance, >1 means actively *improved* on clean performance\n",
                "    return (patched_logit_diff - corrupted_average_logit_diff) / (\n",
                "        original_average_logit_diff - corrupted_average_logit_diff\n",
                "    )\n",
                "\n",
                "\n",
                "patched_residual_stream_diff = torch.zeros(\n",
                "    model.cfg.n_layers, tokens.shape[1], device=device, dtype=torch.float32\n",
                ")\n",
                "for layer in range(model.cfg.n_layers):\n",
                "    for position in range(tokens.shape[1]):\n",
                "        hook_fn = partial(patch_residual_component, pos=position, clean_cache=cache)\n",
                "        patched_logits = model.run_with_hooks(\n",
                "            corrupted_tokens,\n",
                "            fwd_hooks=[(utils.get_act_name(\"resid_pre\", layer), hook_fn)],\n",
                "            return_type=\"logits\",\n",
                "        )\n",
                "        patched_logit_diff = logits_to_ave_logit_diff(patched_logits, answer_tokens)\n",
                "\n",
                "        patched_residual_stream_diff[layer, position] = normalize_patched_logit_diff(\n",
                "            patched_logit_diff\n",
                "        )"
            ]
        },
        {
            "cell_type": "markdown",
            "metadata": {},
            "source": [
                "We can immediately see that, exactly as predicted, originally all relevant computation happens on the second subject token, and at layers 7 and 8, the information is moved to the final token. Moving the residual stream at the correct position near *exactly* recovers performance!\n",
                "\n",
                "For reference, tokens and their index from the first prompt are on the x-axis. In an abuse of notation, note that the difference here is averaged over *all* 8 prompts, while the labels only come from the *first* prompt. \n",
                "\n",
                "To be easier to interpret, we normalise the logit difference, by subtracting the corrupted logit difference, and dividing by the total improvement from clean to corrupted to normalise\n",
                "0 means zero change, negative means actively made worse, 1 means totally recovered clean performance, >1 means actively *improved* on clean performance"
            ]
        },
        {
            "cell_type": "code",
            "execution_count": null,
            "metadata": {},
            "outputs": [],
            "source": [
                "prompt_position_labels = [\n",
                "    f\"{tok}_{i}\" for i, tok in enumerate(model.to_str_tokens(tokens[0]))\n",
                "]\n",
                "imshow(\n",
                "    patched_residual_stream_diff,\n",
                "    x=prompt_position_labels,\n",
                "    title=\"Logit Difference From Patched Residual Stream\",\n",
                "    labels={\"x\": \"Position\", \"y\": \"Layer\"},\n",
                ")"
            ]
        },
        {
            "cell_type": "markdown",
            "metadata": {},
            "source": [
                "## Layers"
            ]
        },
        {
            "cell_type": "markdown",
            "metadata": {},
            "source": [
                "We can apply exactly the same idea, but this time patching in attention or MLP layers. These are also residual components with identical shapes to the residual stream terms, so we can reuse the same hooks."
            ]
        },
        {
            "cell_type": "code",
            "execution_count": null,
            "metadata": {},
            "outputs": [],
            "source": [
                "patched_attn_diff = torch.zeros(\n",
                "    model.cfg.n_layers, tokens.shape[1], device=device, dtype=torch.float32\n",
                ")\n",
                "patched_mlp_diff = torch.zeros(\n",
                "    model.cfg.n_layers, tokens.shape[1], device=device, dtype=torch.float32\n",
                ")\n",
                "for layer in range(model.cfg.n_layers):\n",
                "    for position in range(tokens.shape[1]):\n",
                "        hook_fn = partial(patch_residual_component, pos=position, clean_cache=cache)\n",
                "        patched_attn_logits = model.run_with_hooks(\n",
                "            corrupted_tokens,\n",
                "            fwd_hooks=[(utils.get_act_name(\"attn_out\", layer), hook_fn)],\n",
                "            return_type=\"logits\",\n",
                "        )\n",
                "        patched_attn_logit_diff = logits_to_ave_logit_diff(\n",
                "            patched_attn_logits, answer_tokens\n",
                "        )\n",
                "        patched_mlp_logits = model.run_with_hooks(\n",
                "            corrupted_tokens,\n",
                "            fwd_hooks=[(utils.get_act_name(\"mlp_out\", layer), hook_fn)],\n",
                "            return_type=\"logits\",\n",
                "        )\n",
                "        patched_mlp_logit_diff = logits_to_ave_logit_diff(\n",
                "            patched_mlp_logits, answer_tokens\n",
                "        )\n",
                "\n",
                "        patched_attn_diff[layer, position] = normalize_patched_logit_diff(\n",
                "            patched_attn_logit_diff\n",
                "        )\n",
                "        patched_mlp_diff[layer, position] = normalize_patched_logit_diff(\n",
                "            patched_mlp_logit_diff\n",
                "        )"
            ]
        },
        {
            "cell_type": "markdown",
            "metadata": {},
            "source": [
                "We see that several attention layers are significant but that, matching the residual stream results, early layers matter on the second subject token, and later layers matter on the final token, and layers essentially don't matter on any other token. Extremely localised! As with direct logit attribution, layer 9 is positive and layers 10 and 11 are not, suggesting that the late layers only matter for direct logit effects, but we also see that layers 7 and 8 matter significantly. Presumably these are the heads that move information about which name is duplicated from the second subject token to the final token."
            ]
        },
        {
            "cell_type": "code",
            "execution_count": null,
            "metadata": {},
            "outputs": [],
            "source": [
                "imshow(\n",
                "    patched_attn_diff,\n",
                "    x=prompt_position_labels,\n",
                "    title=\"Logit Difference From Patched Attention Layer\",\n",
                "    labels={\"x\": \"Position\", \"y\": \"Layer\"},\n",
                ")"
            ]
        },
        {
            "cell_type": "markdown",
            "metadata": {},
            "source": [
                "In contrast, the MLP layers do not matter much. This makes sense, since this is more a task about moving information than about processing it, and the MLP layers specialise in processing information.\n",
                "\n",
                "The one exception is MLP 0, which matters a lot, but I think this is misleading and just a generally true statement about MLP 0 rather than being about the circuit on this task.\n",
                "\n",
                "<details> <summary>My takes on MLP0</summary> \n",
                "It's often observed on GPT-2 Small that MLP0 matters a lot, and that ablating it utterly destroys performance. My current best guess is that the first MLP layer is essentially acting as an extension of the embedding (for whatever reason) and that when later layers want to access the input tokens they mostly read in the output of the first MLP layer, rather than the token embeddings. Within this frame, the first attention layer doesn't do much. \n",
                "\n",
                "In this framing, it makes sense that MLP0 matters on the second subject token, because that's the one position with a different input token!\n",
                "\n",
                "I'm not entirely sure why this happens, but I would guess that it's because the embedding and unembedding matrices in GPT-2 Small are the same. This is pretty unprincipled, as the tasks of embedding and unembedding tokens are <i>not</i> inverses, but this is common practice, and plausibly models want to dedicate some parameters to overcoming this. \n",
                "\n",
                "I only have suggestive evidence of this, and would love to see someone look into this properly!\n",
                "</details>"
            ]
        },
        {
            "cell_type": "code",
            "execution_count": null,
            "metadata": {},
            "outputs": [],
            "source": [
                "imshow(\n",
                "    patched_mlp_diff,\n",
                "    x=prompt_position_labels,\n",
                "    title=\"Logit Difference From Patched MLP Layer\",\n",
                "    labels={\"x\": \"Position\", \"y\": \"Layer\"},\n",
                ")"
            ]
        },
        {
            "cell_type": "markdown",
            "metadata": {},
            "source": [
                "## Heads\n",
                "\n",
                "We can refine the above analysis by patching in individual heads! This is somewhat more annoying, because there are now three dimensions (head_index, position and layer), so for now lets patch in a head's output across all positions.\n",
                "\n",
                "The easiest way to do this is to patch in the activation `z`, the \"mixed value\" of the attention head. That is, the average of all previous values weighted by the attention pattern, ie the activation that is then multiplied by `W_O`, the output weights. "
            ]
        },
        {
            "cell_type": "code",
            "execution_count": null,
            "metadata": {},
            "outputs": [],
            "source": [
                "def patch_head_vector(\n",
                "    corrupted_head_vector: Float[torch.Tensor, \"batch pos head_index d_head\"],\n",
                "    hook,\n",
                "    head_index,\n",
                "    clean_cache,\n",
                "):\n",
                "    corrupted_head_vector[:, :, head_index, :] = clean_cache[hook.name][\n",
                "        :, :, head_index, :\n",
                "    ]\n",
                "    return corrupted_head_vector\n",
                "\n",
                "\n",
                "patched_head_z_diff = torch.zeros(\n",
                "    model.cfg.n_layers, model.cfg.n_heads, device=device, dtype=torch.float32\n",
                ")\n",
                "for layer in range(model.cfg.n_layers):\n",
                "    for head_index in range(model.cfg.n_heads):\n",
                "        hook_fn = partial(patch_head_vector, head_index=head_index, clean_cache=cache)\n",
                "        patched_logits = model.run_with_hooks(\n",
                "            corrupted_tokens,\n",
                "            fwd_hooks=[(utils.get_act_name(\"z\", layer, \"attn\"), hook_fn)],\n",
                "            return_type=\"logits\",\n",
                "        )\n",
                "        patched_logit_diff = logits_to_ave_logit_diff(patched_logits, answer_tokens)\n",
                "\n",
                "        patched_head_z_diff[layer, head_index] = normalize_patched_logit_diff(\n",
                "            patched_logit_diff\n",
                "        )"
            ]
        },
        {
            "cell_type": "markdown",
            "metadata": {},
            "source": [
                "We can now see that, in addition to the name mover heads identified before, in mid-late layers the heads L8H6, L8H10, L7H9 matter and are presumably responsible for moving information from the second subject to the final token. And heads L5H5, L6H9, L3H0 also matter a lot, and are presumably involved in detecting duplicated tokens."
            ]
        },
        {
            "cell_type": "code",
            "execution_count": null,
            "metadata": {},
            "outputs": [],
            "source": [
                "imshow(\n",
                "    patched_head_z_diff,\n",
                "    title=\"Logit Difference From Patched Head Output\",\n",
                "    labels={\"x\": \"Head\", \"y\": \"Layer\"},\n",
                ")"
            ]
        },
        {
            "cell_type": "markdown",
            "metadata": {},
            "source": [
                "## Decomposing Heads"
            ]
        },
        {
            "cell_type": "markdown",
            "metadata": {},
            "source": [
                "Decomposing attention layers into patching in individual heads has already helped us localise the behaviour a lot. But we can understand it further by decomposing heads. An attention head consists of two semi-independent operations - calculating *where* to move information from and to (represented by the attention pattern and implemented via the QK-circuit) and calculating *what* information to move (represented by the value vectors and implemented by the OV circuit). We can disentangle which of these is important by patching in just the attention pattern *or* the value vectors. (See [A Mathematical Framework](https://transformer-circuits.pub/2021/framework/index.html) or [my walkthrough video](https://www.youtube.com/watch?v=KV5gbOmHbjU) for more on this decomposition. If you're not familiar with the details of how attention is implemented, I recommend checking out [my clean transformer implementation](https://colab.research.google.com/github/neelnanda-io/TransformerLens/blob/clean-transformer-demo/Clean_Transformer_Demo.ipynb#scrollTo=3Pb0NYbZ900e) to see how the code works))"
            ]
        },
        {
            "cell_type": "markdown",
            "metadata": {},
            "source": [
                "First let's patch in the value vectors, to measure when figuring out what to move is important. . This has the same shape as z ([batch, pos, head_index, d_head]) so we can reuse the same hook."
            ]
        },
        {
            "cell_type": "code",
            "execution_count": null,
            "metadata": {},
            "outputs": [],
            "source": [
                "patched_head_v_diff = torch.zeros(\n",
                "    model.cfg.n_layers, model.cfg.n_heads, device=device, dtype=torch.float32\n",
                ")\n",
                "for layer in range(model.cfg.n_layers):\n",
                "    for head_index in range(model.cfg.n_heads):\n",
                "        hook_fn = partial(patch_head_vector, head_index=head_index, clean_cache=cache)\n",
                "        patched_logits = model.run_with_hooks(\n",
                "            corrupted_tokens,\n",
                "            fwd_hooks=[(utils.get_act_name(\"v\", layer, \"attn\"), hook_fn)],\n",
                "            return_type=\"logits\",\n",
                "        )\n",
                "        patched_logit_diff = logits_to_ave_logit_diff(patched_logits, answer_tokens)\n",
                "\n",
                "        patched_head_v_diff[layer, head_index] = normalize_patched_logit_diff(\n",
                "            patched_logit_diff\n",
                "        )"
            ]
        },
        {
            "cell_type": "markdown",
            "metadata": {},
            "source": [
                "We can plot this as a heatmap and it's initially hard to interpret."
            ]
        },
        {
            "cell_type": "code",
            "execution_count": null,
            "metadata": {},
            "outputs": [],
            "source": [
                "imshow(\n",
                "    patched_head_v_diff,\n",
                "    title=\"Logit Difference From Patched Head Value\",\n",
                "    labels={\"x\": \"Head\", \"y\": \"Layer\"},\n",
                ")"
            ]
        },
        {
            "cell_type": "markdown",
            "metadata": {},
            "source": [
                "But it's very easy to interpret if we plot a scatter plot against patching head outputs. Here we see that the earlier heads (L5H5, L6H9, L3H0) and late name movers (L9H9, L10H7, L11H10) don't matter at all now, while the mid-late heads (L8H6, L8H10, L7H9) do. \n",
                "\n",
                "Meta lesson: Plot things early, often and in diverse ways as you explore a model's internals!"
            ]
        },
        {
            "cell_type": "code",
            "execution_count": null,
            "metadata": {},
            "outputs": [],
            "source": [
                "head_labels = [\n",
                "    f\"L{l}H{h}\" for l in range(model.cfg.n_layers) for h in range(model.cfg.n_heads)\n",
                "]\n",
                "scatter(\n",
                "    x=utils.to_numpy(patched_head_v_diff.flatten()),\n",
                "    y=utils.to_numpy(patched_head_z_diff.flatten()),\n",
                "    xaxis=\"Value Patch\",\n",
                "    yaxis=\"Output Patch\",\n",
                "    caxis=\"Layer\",\n",
                "    hover_name=head_labels,\n",
                "    color=einops.repeat(\n",
                "        np.arange(model.cfg.n_layers), \"layer -> (layer head)\", head=model.cfg.n_heads\n",
                "    ),\n",
                "    range_x=(-0.5, 0.5),\n",
                "    range_y=(-0.5, 0.5),\n",
                "    title=\"Scatter plot of output patching vs value patching\",\n",
                ")"
            ]
        },
        {
            "attachments": {},
            "cell_type": "markdown",
            "metadata": {},
            "source": [
                "When we patch in attention patterns, we see the opposite effect - early and late heads matter a lot, middle heads don't. (In fact, the sum of value patching and pattern patching is approx the same as output patching)"
            ]
        },
        {
            "cell_type": "code",
            "execution_count": null,
            "metadata": {},
            "outputs": [],
            "source": [
                "def patch_head_pattern(\n",
                "    corrupted_head_pattern: Float[torch.Tensor, \"batch head_index query_pos d_head\"],\n",
                "    hook,\n",
                "    head_index,\n",
                "    clean_cache,\n",
                "):\n",
                "    corrupted_head_pattern[:, head_index, :, :] = clean_cache[hook.name][\n",
                "        :, head_index, :, :\n",
                "    ]\n",
                "    return corrupted_head_pattern\n",
                "\n",
                "\n",
                "patched_head_attn_diff = torch.zeros(\n",
                "    model.cfg.n_layers, model.cfg.n_heads, device=device, dtype=torch.float32\n",
                ")\n",
                "for layer in range(model.cfg.n_layers):\n",
                "    for head_index in range(model.cfg.n_heads):\n",
                "        hook_fn = partial(patch_head_pattern, head_index=head_index, clean_cache=cache)\n",
                "        patched_logits = model.run_with_hooks(\n",
                "            corrupted_tokens,\n",
                "            fwd_hooks=[(utils.get_act_name(\"attn\", layer, \"attn\"), hook_fn)],\n",
                "            return_type=\"logits\",\n",
                "        )\n",
                "        patched_logit_diff = logits_to_ave_logit_diff(patched_logits, answer_tokens)\n",
                "\n",
                "        patched_head_attn_diff[layer, head_index] = normalize_patched_logit_diff(\n",
                "            patched_logit_diff\n",
                "        )"
            ]
        },
        {
            "cell_type": "code",
            "execution_count": null,
            "metadata": {},
            "outputs": [],
            "source": [
                "imshow(\n",
                "    patched_head_attn_diff,\n",
                "    title=\"Logit Difference From Patched Head Pattern\",\n",
                "    labels={\"x\": \"Head\", \"y\": \"Layer\"},\n",
                ")\n",
                "head_labels = [\n",
                "    f\"L{l}H{h}\" for l in range(model.cfg.n_layers) for h in range(model.cfg.n_heads)\n",
                "]\n",
                "scatter(\n",
                "    x=utils.to_numpy(patched_head_attn_diff.flatten()),\n",
                "    y=utils.to_numpy(patched_head_z_diff.flatten()),\n",
                "    hover_name=head_labels,\n",
                "    xaxis=\"Attention Patch\",\n",
                "    yaxis=\"Output Patch\",\n",
                "    title=\"Scatter plot of output patching vs attention patching\",\n",
                ")"
            ]
        },
        {
            "attachments": {},
            "cell_type": "markdown",
            "metadata": {},
            "source": [
                "# Consolidating Understanding\n",
                "\n",
                "OK, let's zoom out and reconsolidate. At a high-level, we find that all the action is on the second subject token until layer 7 and then transitions to the final token. And that attention layers matter a lot, MLP layers not so much (apart from MLP0, likely as an extended embedding).\n",
                "\n",
                "We've further localised important behaviour to several categories of heads. We've found 3 categories of heads that matter a lot - early heads (L5H5, L6H9, L3H0) whose output matters on the second subject and whose behaviour is determined by their attention patterns, mid-late heads (L8H6, L8H10, L7H9, L7H3) whose output matters on the final token and whose behaviour is determined by their value vectors, and late heads (L9H9, L10H7, L11H10) whose output matters on the final token and whose behaviour is determined by their attention patterns.\n",
                "\n",
                "A natural speculation is that early heads detect both that the second subject is a repeated token and *which* is repeated (ie the \" John\" token is repeated), middle heads compose with this and move this duplicated token information from the second subject token to the final token, and the late heads compose with this to *inhibit* their attention to the duplicated token, and then attend to the correct indirect object name and copy that directly to the logits."
            ]
        },
        {
            "attachments": {},
            "cell_type": "markdown",
            "metadata": {},
            "source": [
                "## Visualizing Attention Patterns\n",
                "\n",
                "We can validate this by looking at the attention patterns of these heads! Let's take the top 10 heads by output patching (in absolute value) and split it into early, middle and late.\n",
                "\n",
                "We see that middle heads attend from the final token to the second subject, and late heads attend from the final token to the indirect object, which is completely consistent with the above speculation! But weirdly, while *one* early head attends from the second subject to its first copy, the other two mysteriously attend to the word *after* the first copy."
            ]
        },
        {
            "cell_type": "code",
            "execution_count": null,
            "metadata": {},
            "outputs": [],
            "source": [
                "top_k = 10\n",
                "top_heads_by_output_patch = torch.topk(\n",
                "    patched_head_z_diff.abs().flatten(), k=top_k\n",
                ").indices\n",
                "first_mid_layer = 7\n",
                "first_late_layer = 9\n",
                "early_heads = top_heads_by_output_patch[\n",
                "    top_heads_by_output_patch < model.cfg.n_heads * first_mid_layer\n",
                "]\n",
                "mid_heads = top_heads_by_output_patch[\n",
                "    torch.logical_and(\n",
                "        model.cfg.n_heads * first_mid_layer <= top_heads_by_output_patch,\n",
                "        top_heads_by_output_patch < model.cfg.n_heads * first_late_layer,\n",
                "    )\n",
                "]\n",
                "late_heads = top_heads_by_output_patch[\n",
                "    model.cfg.n_heads * first_late_layer <= top_heads_by_output_patch\n",
                "]\n",
                "visualize_attention_patterns(early_heads, cache, tokens[0], title=f\"Top Early Heads\")\n",
                "visualize_attention_patterns(mid_heads, cache, tokens[0], title=f\"Top Middle Heads\")\n",
                "visualize_attention_patterns(late_heads, cache, tokens[0], title=f\"Top Late Heads\")"
            ]
        },
        {
            "attachments": {},
            "cell_type": "markdown",
            "metadata": {},
            "source": [
                "## Comparing to the Paper\n",
                "\n",
                "We can now refer to the (far, far more rigorous and detailed) analysis in the paper to compare our results! Here's the diagram they give of their results. \n",
                "\n",
                "![](https://pbs.twimg.com/media/FghGkTAWAAAmkhm.jpg)\n",
                "\n",
                "(Head 1.2 in their notation is L1H2 in my notation etc. And note - in the [latest version of the paper](https://arxiv.org/pdf/2211.00593.pdf) they add 9.0 as a backup name mover, and remove 11.3)\n",
                "\n",
                "The heads form three categories corresponding to the early, middle and late categhories we found and we did fairly well! Definitely not perfect, but with some fairly generic techniques and some a priori reasoning, we found the broad strokes of the circuit and what it looks like. We focused on the most important heads, so we didn't find all relevant heads in each category (especially not the heads in brackets, which are more minor), but this serves as a good base for doing more rigorous and involved analysis, especially for finding the *complete* circuit (ie all of the parts of the model which participate in this behaviour) rather than just a partial and suggestive circuit. Go check out [their paper](https://arxiv.org/abs/2211.00593) or [our interview](https://www.youtube.com/watch?v=gzwj0jWbvbo) to learn more about what they did and what they found!\n",
                "\n",
                "Breaking down their categories:\n",
                "\n",
                "* Early: The duplicate token heads, previous token heads and induction heads. These serve the purpose of detecting that the second subject is duplicated and which earlier name is the duplicate.\n",
                "    * We found a direct duplicate token head which behaves exactly as expected, L3H0. Heads L5H0 and L6H9 are induction heads, which explains why they don't attend directly to the earlier copy of John!\n",
                "    * Note that the duplicate token heads and induction heads do not compose with each other - both directly add to the S-Inhibition heads. The diagram is somewhat misleading.\n",
                "* Middle: They call these S-Inhibition heads - they copy the information about the duplicate token from the second subject to the to token, and their output is used to *inhibit* the attention paid from the name movers to the first subject copy. We found all these heads, and had a decent guess for what they did.\n",
                "    * In either case they attend to the second subject, so the patch that mattered was their value vectors!\n",
                "* Late: They call these name movers, and we found some of them. They attend from the final token to the indirect object name and copy that to the logits, using the S-Inhibition heads to inhibit attention to the first copy of the subject token.\n",
                "    * We did find their surprising result of *negative* name movers - name movers that inhibit the correct answer!\n",
                "    * They have an entire category of heads we missed called backup name movers - we'll get to these later.\n",
                "\n",
                "So, now, let's dig into the two anomalies we missed - induction heads and backup name mover heads"
            ]
        },
        {
            "cell_type": "markdown",
            "metadata": {},
            "source": [
                "# Bonus: Exploring Anomalies"
            ]
        },
        {
            "attachments": {},
            "cell_type": "markdown",
            "metadata": {},
            "source": [
                "## Early Heads are Induction Heads(?!)\n",
                "\n",
                "A really weird observation is that some of the early heads detecting duplicated tokens are induction heads, not just direct duplicate token heads. This is very weird! What's up with that? \n",
                "\n",
                "First off, what's an induction head? An induction head is an important type of attention head that can detect and continue repeated sequences. It is the second head in a two head induction circuit, which looks for previous copies of the current token and attends to the token *after* it, and then copies that to the current position and predicts that it will come next. They're enough of a big deal that [we wrote a whole paper on them](https://transformer-circuits.pub/2022/in-context-learning-and-induction-heads/index.html).\n",
                "\n",
                "![](https://pbs.twimg.com/media/FNWAzXjVEAEOGRe.jpg)\n",
                "\n",
                "Second, why is it surprising that they come up here? It's surprising because it feels like overkill. The model doesn't care about *what* token comes after the first copy of the subject, just that it's duplicated. And it already has simpler duplicate token heads. My best guess is that it just already had induction heads around and that, in addition to their main function, they *also* only activate on duplicated tokens. So it was useful to repurpose this existing machinery. \n",
                "\n",
                "This suggests that as we look for circuits in larger models life may get more and more complicated, as components in simpler circuits get repurposed and built upon. "
            ]
        },
        {
            "attachments": {},
            "cell_type": "markdown",
            "metadata": {},
            "source": [
                "We can verify that these are induction heads by running the model on repeated text and plotting the heads."
            ]
        },
        {
            "cell_type": "code",
            "execution_count": null,
            "metadata": {},
            "outputs": [],
            "source": [
                "example_text = \"Research in mechanistic interpretability seeks to explain behaviors of machine learning models in terms of their internal components.\"\n",
                "example_repeated_text = example_text + example_text\n",
                "example_repeated_tokens = model.to_tokens(example_repeated_text, prepend_bos=True)\n",
                "example_repeated_logits, example_repeated_cache = model.run_with_cache(\n",
                "    example_repeated_tokens\n",
                ")\n",
                "induction_head_labels = [81, 65]\n",
                "visualize_attention_patterns(\n",
                "    induction_head_labels,\n",
                "    example_repeated_cache,\n",
                "    example_repeated_tokens,\n",
                "    title=\"Induction Heads\",\n",
                ")"
            ]
        },
        {
            "attachments": {},
            "cell_type": "markdown",
            "metadata": {},
            "source": [
                "One implication of this is that it's useful to categories heads according to whether they occur in simpler circuits, so that as we look for more complex circuits we can easily look for them. This is easy to do here! An interesting fact about induction heads is that they work on a sequence of repeated random tokens - notable for being wildly off distribution from the natural language GPT-2 was trained on. Being able to predict a model's behaviour off distribution is a good mark of success for mechanistic interpretability! This is a good sanity check for whether a head is an induction head or not. \n",
                "\n",
                "We can characterise an induction head by just giving a sequence of random tokens repeated once, and measuring the average attention paid from the second copy of a token to the token after the first copy. At the same time, we can also measure the average attention paid from the second copy of a token to the first copy of the token, which is the attention that the induction head would pay if it were a duplicate token head, and the average attention paid to the previous token to find previous token heads.\n",
                "\n",
                "Note that this is a superficial study of whether something is an induction head - we totally ignore the question of whether it actually does boost the correct token or whether it composes with a single previous head and how. In particular, we sometimes get anti-induction heads which suppress the induction-y token (no clue why!), and this technique will find those too . But given the previous rigorous analysis, we can be pretty confident that this picks up on some true signal about induction heads.\n",
                "\n",
                "<details> <summary>Technical Implementation Details</summary> \n",
                "We can do this again by using hooks, this time just to access the attention patterns rather than to intervene on them. \n",
                "\n",
                "Our hook function acts on the attention pattern activation. This has the name \"blocks.{layer}.{layer_type}.hook_{activation_name}\" in general, here it's \"blocks.{layer}.attn.hook_attn\". And it has shape [batch, head_index, query_pos, token_pos]. Our hook function takes in the attention pattern activation, calculates the score for the relevant type of head, and write it to an external cache.\n",
                "\n",
                "We add in hooks using `model.run_with_hooks(tokens, fwd_hooks=[(names_filter, hook_fn)])` to temporarily add in the hooks and run the model, getting the resulting output. Previously names_filter was the name of the activation, but here it's a boolean function mapping activation names to whether we want to hook them or not. Here it's just whether the name ends with hook_attn. hook_fn must take in the two inputs activation (the activation tensor) and hook (the HookPoint object, which contains the name of the activation and some metadata such as the current layer).\n",
                "\n",
                "Internally our hooks use the function `tensor.diagonal`, this takes the diagonal between two dimensions, and allows an arbitrary offset - offset by 1 to get previous tokens, seq_len to get duplicate tokens (the distance to earlier copies) and seq_len-1 to get induction heads (the distance to the token *after* earlier copies). Different offsets give a different length of output tensor, and we can now just average to get a score in [0, 1] for each head\n",
                "</details>"
            ]
        },
        {
            "cell_type": "code",
            "execution_count": 64,
            "metadata": {},
            "outputs": [
                {
                    "name": "stdout",
                    "output_type": "stream",
                    "text": [
                        "here\n",
                        "here\n",
                        "here\n",
                        "here\n",
                        "here\n",
                        "here\n",
                        "here\n",
                        "here\n",
                        "here\n",
                        "here\n",
                        "here\n",
                        "here\n",
                        "tensor([[3.5346e-02, 2.4406e-04, 3.1787e-02],\n",
                        "        [1.9812e-01, 1.7002e-01, 6.7760e-02],\n",
                        "        [1.6013e-01, 1.9778e-02, 4.7473e-01]], device='mps:0')\n",
                        "tensor([[0.0039, 0.1344, 0.0055],\n",
                        "        [0.0004, 0.0002, 0.0015],\n",
                        "        [0.0032, 0.0099, 0.0008]], device='mps:0')\n",
                        "tensor([[3.7702e-03, 5.3559e-05, 4.1245e-03],\n",
                        "        [8.8578e-04, 1.6098e-04, 1.5069e-03],\n",
                        "        [3.4881e-03, 9.3668e-03, 3.2446e-03]], device='mps:0')\n"
                    ]
                }
            ],
            "source": [
                "seq_len = 100\n",
                "batch_size = 2\n",
                "\n",
                "prev_token_scores = torch.zeros((model.cfg.n_layers, model.cfg.n_heads), device=device)\n",
                "\n",
                "\n",
                "def prev_token_hook(pattern, hook):\n",
                "    layer = hook.layer()\n",
                "    diagonal = pattern.diagonal(offset=1, dim1=-1, dim2=-2)\n",
                "    # print(diagonal)\n",
                "    # print(pattern)\n",
                "    prev_token_scores[layer] = einops.reduce(\n",
                "        diagonal, \"batch head_index diagonal -> head_index\", \"mean\"\n",
                "    )\n",
                "\n",
                "\n",
                "duplicate_token_scores = torch.zeros(\n",
                "    (model.cfg.n_layers, model.cfg.n_heads), device=device\n",
                ")\n",
                "\n",
                "\n",
                "def duplicate_token_hook(pattern, hook):\n",
                "    layer = hook.layer()\n",
                "    diagonal = pattern.diagonal(offset=seq_len, dim1=-1, dim2=-2)\n",
                "    duplicate_token_scores[layer] = einops.reduce(\n",
                "        diagonal, \"batch head_index diagonal -> head_index\", \"mean\"\n",
                "    )\n",
                "\n",
                "\n",
                "induction_scores = torch.zeros((model.cfg.n_layers, model.cfg.n_heads), device=device)\n",
                "\n",
                "\n",
                "def induction_hook(pattern, hook):\n",
                "    layer = hook.layer()\n",
                "    diagonal = pattern.diagonal(offset=seq_len - 1, dim1=-1, dim2=-2)\n",
                "    induction_scores[layer] = einops.reduce(\n",
                "        diagonal, \"batch head_index diagonal -> head_index\", \"mean\"\n",
                "    )\n",
                "\n",
                "\n",
                "original_tokens = torch.randint(100, 20000, size=(batch_size, seq_len))\n",
                "repeated_tokens = einops.repeat(\n",
                "    original_tokens, \"batch seq_len -> batch (2 seq_len)\"\n",
                ").to(device)\n",
                "\n",
                "pattern_filter = lambda act_name: act_name.endswith(\"hook_pattern\")\n",
                "\n",
                "loss = model.run_with_hooks(\n",
                "    repeated_tokens,\n",
                "    return_type=\"loss\",\n",
                "    fwd_hooks=[\n",
                "        (pattern_filter, prev_token_hook),\n",
                "        (pattern_filter, duplicate_token_hook),\n",
                "        (pattern_filter, induction_hook),\n",
                "    ],\n",
                ")\n",
                "print(utils.get_corner(prev_token_scores))\n",
                "print(utils.get_corner(duplicate_token_scores))\n",
                "print(utils.get_corner(induction_scores))"
            ]
        },
        {
            "attachments": {},
            "cell_type": "markdown",
            "metadata": {},
            "source": [
                "We can now plot the head scores, and instantly see that the relevant early heads are induction heads or duplicate token heads (though also that there's a lot of induction heads that are *not* use - I have no idea why!). "
            ]
        },
        {
            "cell_type": "code",
            "execution_count": 65,
            "metadata": {},
            "outputs": [
                {
                    "data": {
                        "application/vnd.plotly.v1+json": {
                            "config": {
                                "plotlyServerURL": "https://plot.ly"
                            },
                            "data": [
                                {
                                    "coloraxis": "coloraxis",
                                    "hovertemplate": "Head: %{x}<br>Layer: %{y}<br>color: %{z}<extra></extra>",
                                    "name": "0",
                                    "type": "heatmap",
                                    "xaxis": "x",
                                    "yaxis": "y",
                                    "z": [
                                        [
                                            0.03534647822380066,
                                            0.00024405769363511354,
                                            0.03178730234503746,
                                            0.010997934266924858,
                                            0.038743458688259125,
                                            0.00026843132218346,
                                            0.03825908899307251,
                                            0.21992458403110504,
                                            0.04046311229467392,
                                            0.041531048715114594,
                                            0.025891508907079697,
                                            0.025703618302941322
                                        ],
                                        [
                                            0.19812355935573578,
                                            0.17002369463443756,
                                            0.06776034832000732,
                                            0.04468786343932152,
                                            0.0778142660856247,
                                            0.031158054247498512,
                                            0.025875022634863853,
                                            0.034394361078739166,
                                            0.026426376774907112,
                                            0.018546756356954575,
                                            0.044658128172159195,
                                            0.006981135345995426
                                        ],
                                        [
                                            0.1601308137178421,
                                            0.019778383895754814,
                                            0.474727600812912,
                                            0.30028772354125977,
                                            0.11000942438840866,
                                            0.350739061832428,
                                            0.09435069561004639,
                                            0.04903975501656532,
                                            0.24592147767543793,
                                            0.35953670740127563,
                                            0.12428033351898193,
                                            0.07865863293409348
                                        ],
                                        [
                                            0.005819371901452541,
                                            0.16255150735378265,
                                            0.4224567711353302,
                                            0.3100491464138031,
                                            0.017245149239897728,
                                            0.036860328167676926,
                                            0.3311190903186798,
                                            0.5514960885047913,
                                            0.354946494102478,
                                            0.10899105668067932,
                                            0.10444621741771698,
                                            0.21832410991191864
                                        ],
                                        [
                                            0.11767974495887756,
                                            0.1223149523139,
                                            0.024343451485037804,
                                            0.2463841587305069,
                                            0.01946725696325302,
                                            0.10913534462451935,
                                            0.17743241786956787,
                                            0.17774300277233124,
                                            0.021381378173828125,
                                            0.11335796117782593,
                                            0.009701098315417767,
                                            0.9839403629302979
                                        ],
                                        [
                                            0.01798361912369728,
                                            0.005617047194391489,
                                            0.17183391749858856,
                                            0.1256326586008072,
                                            0.1809503734111786,
                                            0.008931220509111881,
                                            0.42066317796707153,
                                            0.03252532705664635,
                                            0.05610135197639465,
                                            0.017118453979492188,
                                            0.03336777538061142,
                                            0.025938810780644417
                                        ],
                                        [
                                            0.22683942317962646,
                                            0.03723278269171715,
                                            0.01809008978307247,
                                            0.05726306140422821,
                                            0.033822283148765564,
                                            0.08739367872476578,
                                            0.025978270918130875,
                                            0.10449135303497314,
                                            0.4806266129016876,
                                            0.007729812990874052,
                                            0.026382656767964363,
                                            0.13480305671691895
                                        ],
                                        [
                                            0.2335936576128006,
                                            0.012168366461992264,
                                            0.006536272820085287,
                                            0.04369799420237541,
                                            0.024718262255191803,
                                            0.01858266443014145,
                                            0.02482731081545353,
                                            0.022330110892653465,
                                            0.044892799109220505,
                                            0.026073047891259193,
                                            0.009826771914958954,
                                            0.01961854286491871
                                        ],
                                        [
                                            0.019874420017004013,
                                            0.014172997325658798,
                                            0.021089497953653336,
                                            0.012614607810974121,
                                            0.026005977764725685,
                                            0.0910084992647171,
                                            0.031118571758270264,
                                            0.21790720522403717,
                                            0.024788416922092438,
                                            0.018865743651986122,
                                            0.02280721440911293,
                                            0.03251808136701584
                                        ],
                                        [
                                            0.023259073495864868,
                                            0.01425405964255333,
                                            0.021111110225319862,
                                            0.1392129808664322,
                                            0.010629088617861271,
                                            0.01806172914803028,
                                            0.01110777910798788,
                                            0.024600574746727943,
                                            0.019870037212967873,
                                            0.010605502873659134,
                                            0.03512006998062134,
                                            0.018353695049881935
                                        ],
                                        [
                                            0.020252946764230728,
                                            0.017034336924552917,
                                            0.01622394099831581,
                                            0.018640633672475815,
                                            0.029633963480591774,
                                            0.03710848465561867,
                                            0.017513226717710495,
                                            0.013759412802755833,
                                            0.013731798157095909,
                                            0.04645666852593422,
                                            0.013940120115876198,
                                            0.030993176624178886
                                        ],
                                        [
                                            0.0333593413233757,
                                            0.017233191058039665,
                                            0.013485230505466461,
                                            0.038635607808828354,
                                            0.012496205046772957,
                                            0.015947066247463226,
                                            0.01340364757925272,
                                            0.01640026643872261,
                                            0.0692019835114479,
                                            0.01549199316650629,
                                            0.01821935549378395,
                                            0.02677849307656288
                                        ]
                                    ]
                                }
                            ],
                            "layout": {
                                "coloraxis": {
                                    "cmid": 0,
                                    "colorscale": [
                                        [
                                            0,
                                            "rgb(103,0,31)"
                                        ],
                                        [
                                            0.1,
                                            "rgb(178,24,43)"
                                        ],
                                        [
                                            0.2,
                                            "rgb(214,96,77)"
                                        ],
                                        [
                                            0.3,
                                            "rgb(244,165,130)"
                                        ],
                                        [
                                            0.4,
                                            "rgb(253,219,199)"
                                        ],
                                        [
                                            0.5,
                                            "rgb(247,247,247)"
                                        ],
                                        [
                                            0.6,
                                            "rgb(209,229,240)"
                                        ],
                                        [
                                            0.7,
                                            "rgb(146,197,222)"
                                        ],
                                        [
                                            0.8,
                                            "rgb(67,147,195)"
                                        ],
                                        [
                                            0.9,
                                            "rgb(33,102,172)"
                                        ],
                                        [
                                            1,
                                            "rgb(5,48,97)"
                                        ]
                                    ]
                                },
                                "template": {
                                    "data": {
                                        "bar": [
                                            {
                                                "error_x": {
                                                    "color": "#2a3f5f"
                                                },
                                                "error_y": {
                                                    "color": "#2a3f5f"
                                                },
                                                "marker": {
                                                    "line": {
                                                        "color": "#E5ECF6",
                                                        "width": 0.5
                                                    },
                                                    "pattern": {
                                                        "fillmode": "overlay",
                                                        "size": 10,
                                                        "solidity": 0.2
                                                    }
                                                },
                                                "type": "bar"
                                            }
                                        ],
                                        "barpolar": [
                                            {
                                                "marker": {
                                                    "line": {
                                                        "color": "#E5ECF6",
                                                        "width": 0.5
                                                    },
                                                    "pattern": {
                                                        "fillmode": "overlay",
                                                        "size": 10,
                                                        "solidity": 0.2
                                                    }
                                                },
                                                "type": "barpolar"
                                            }
                                        ],
                                        "carpet": [
                                            {
                                                "aaxis": {
                                                    "endlinecolor": "#2a3f5f",
                                                    "gridcolor": "white",
                                                    "linecolor": "white",
                                                    "minorgridcolor": "white",
                                                    "startlinecolor": "#2a3f5f"
                                                },
                                                "baxis": {
                                                    "endlinecolor": "#2a3f5f",
                                                    "gridcolor": "white",
                                                    "linecolor": "white",
                                                    "minorgridcolor": "white",
                                                    "startlinecolor": "#2a3f5f"
                                                },
                                                "type": "carpet"
                                            }
                                        ],
                                        "choropleth": [
                                            {
                                                "colorbar": {
                                                    "outlinewidth": 0,
                                                    "ticks": ""
                                                },
                                                "type": "choropleth"
                                            }
                                        ],
                                        "contour": [
                                            {
                                                "colorbar": {
                                                    "outlinewidth": 0,
                                                    "ticks": ""
                                                },
                                                "colorscale": [
                                                    [
                                                        0,
                                                        "#0d0887"
                                                    ],
                                                    [
                                                        0.1111111111111111,
                                                        "#46039f"
                                                    ],
                                                    [
                                                        0.2222222222222222,
                                                        "#7201a8"
                                                    ],
                                                    [
                                                        0.3333333333333333,
                                                        "#9c179e"
                                                    ],
                                                    [
                                                        0.4444444444444444,
                                                        "#bd3786"
                                                    ],
                                                    [
                                                        0.5555555555555556,
                                                        "#d8576b"
                                                    ],
                                                    [
                                                        0.6666666666666666,
                                                        "#ed7953"
                                                    ],
                                                    [
                                                        0.7777777777777778,
                                                        "#fb9f3a"
                                                    ],
                                                    [
                                                        0.8888888888888888,
                                                        "#fdca26"
                                                    ],
                                                    [
                                                        1,
                                                        "#f0f921"
                                                    ]
                                                ],
                                                "type": "contour"
                                            }
                                        ],
                                        "contourcarpet": [
                                            {
                                                "colorbar": {
                                                    "outlinewidth": 0,
                                                    "ticks": ""
                                                },
                                                "type": "contourcarpet"
                                            }
                                        ],
                                        "heatmap": [
                                            {
                                                "colorbar": {
                                                    "outlinewidth": 0,
                                                    "ticks": ""
                                                },
                                                "colorscale": [
                                                    [
                                                        0,
                                                        "#0d0887"
                                                    ],
                                                    [
                                                        0.1111111111111111,
                                                        "#46039f"
                                                    ],
                                                    [
                                                        0.2222222222222222,
                                                        "#7201a8"
                                                    ],
                                                    [
                                                        0.3333333333333333,
                                                        "#9c179e"
                                                    ],
                                                    [
                                                        0.4444444444444444,
                                                        "#bd3786"
                                                    ],
                                                    [
                                                        0.5555555555555556,
                                                        "#d8576b"
                                                    ],
                                                    [
                                                        0.6666666666666666,
                                                        "#ed7953"
                                                    ],
                                                    [
                                                        0.7777777777777778,
                                                        "#fb9f3a"
                                                    ],
                                                    [
                                                        0.8888888888888888,
                                                        "#fdca26"
                                                    ],
                                                    [
                                                        1,
                                                        "#f0f921"
                                                    ]
                                                ],
                                                "type": "heatmap"
                                            }
                                        ],
                                        "heatmapgl": [
                                            {
                                                "colorbar": {
                                                    "outlinewidth": 0,
                                                    "ticks": ""
                                                },
                                                "colorscale": [
                                                    [
                                                        0,
                                                        "#0d0887"
                                                    ],
                                                    [
                                                        0.1111111111111111,
                                                        "#46039f"
                                                    ],
                                                    [
                                                        0.2222222222222222,
                                                        "#7201a8"
                                                    ],
                                                    [
                                                        0.3333333333333333,
                                                        "#9c179e"
                                                    ],
                                                    [
                                                        0.4444444444444444,
                                                        "#bd3786"
                                                    ],
                                                    [
                                                        0.5555555555555556,
                                                        "#d8576b"
                                                    ],
                                                    [
                                                        0.6666666666666666,
                                                        "#ed7953"
                                                    ],
                                                    [
                                                        0.7777777777777778,
                                                        "#fb9f3a"
                                                    ],
                                                    [
                                                        0.8888888888888888,
                                                        "#fdca26"
                                                    ],
                                                    [
                                                        1,
                                                        "#f0f921"
                                                    ]
                                                ],
                                                "type": "heatmapgl"
                                            }
                                        ],
                                        "histogram": [
                                            {
                                                "marker": {
                                                    "pattern": {
                                                        "fillmode": "overlay",
                                                        "size": 10,
                                                        "solidity": 0.2
                                                    }
                                                },
                                                "type": "histogram"
                                            }
                                        ],
                                        "histogram2d": [
                                            {
                                                "colorbar": {
                                                    "outlinewidth": 0,
                                                    "ticks": ""
                                                },
                                                "colorscale": [
                                                    [
                                                        0,
                                                        "#0d0887"
                                                    ],
                                                    [
                                                        0.1111111111111111,
                                                        "#46039f"
                                                    ],
                                                    [
                                                        0.2222222222222222,
                                                        "#7201a8"
                                                    ],
                                                    [
                                                        0.3333333333333333,
                                                        "#9c179e"
                                                    ],
                                                    [
                                                        0.4444444444444444,
                                                        "#bd3786"
                                                    ],
                                                    [
                                                        0.5555555555555556,
                                                        "#d8576b"
                                                    ],
                                                    [
                                                        0.6666666666666666,
                                                        "#ed7953"
                                                    ],
                                                    [
                                                        0.7777777777777778,
                                                        "#fb9f3a"
                                                    ],
                                                    [
                                                        0.8888888888888888,
                                                        "#fdca26"
                                                    ],
                                                    [
                                                        1,
                                                        "#f0f921"
                                                    ]
                                                ],
                                                "type": "histogram2d"
                                            }
                                        ],
                                        "histogram2dcontour": [
                                            {
                                                "colorbar": {
                                                    "outlinewidth": 0,
                                                    "ticks": ""
                                                },
                                                "colorscale": [
                                                    [
                                                        0,
                                                        "#0d0887"
                                                    ],
                                                    [
                                                        0.1111111111111111,
                                                        "#46039f"
                                                    ],
                                                    [
                                                        0.2222222222222222,
                                                        "#7201a8"
                                                    ],
                                                    [
                                                        0.3333333333333333,
                                                        "#9c179e"
                                                    ],
                                                    [
                                                        0.4444444444444444,
                                                        "#bd3786"
                                                    ],
                                                    [
                                                        0.5555555555555556,
                                                        "#d8576b"
                                                    ],
                                                    [
                                                        0.6666666666666666,
                                                        "#ed7953"
                                                    ],
                                                    [
                                                        0.7777777777777778,
                                                        "#fb9f3a"
                                                    ],
                                                    [
                                                        0.8888888888888888,
                                                        "#fdca26"
                                                    ],
                                                    [
                                                        1,
                                                        "#f0f921"
                                                    ]
                                                ],
                                                "type": "histogram2dcontour"
                                            }
                                        ],
                                        "mesh3d": [
                                            {
                                                "colorbar": {
                                                    "outlinewidth": 0,
                                                    "ticks": ""
                                                },
                                                "type": "mesh3d"
                                            }
                                        ],
                                        "parcoords": [
                                            {
                                                "line": {
                                                    "colorbar": {
                                                        "outlinewidth": 0,
                                                        "ticks": ""
                                                    }
                                                },
                                                "type": "parcoords"
                                            }
                                        ],
                                        "pie": [
                                            {
                                                "automargin": true,
                                                "type": "pie"
                                            }
                                        ],
                                        "scatter": [
                                            {
                                                "fillpattern": {
                                                    "fillmode": "overlay",
                                                    "size": 10,
                                                    "solidity": 0.2
                                                },
                                                "type": "scatter"
                                            }
                                        ],
                                        "scatter3d": [
                                            {
                                                "line": {
                                                    "colorbar": {
                                                        "outlinewidth": 0,
                                                        "ticks": ""
                                                    }
                                                },
                                                "marker": {
                                                    "colorbar": {
                                                        "outlinewidth": 0,
                                                        "ticks": ""
                                                    }
                                                },
                                                "type": "scatter3d"
                                            }
                                        ],
                                        "scattercarpet": [
                                            {
                                                "marker": {
                                                    "colorbar": {
                                                        "outlinewidth": 0,
                                                        "ticks": ""
                                                    }
                                                },
                                                "type": "scattercarpet"
                                            }
                                        ],
                                        "scattergeo": [
                                            {
                                                "marker": {
                                                    "colorbar": {
                                                        "outlinewidth": 0,
                                                        "ticks": ""
                                                    }
                                                },
                                                "type": "scattergeo"
                                            }
                                        ],
                                        "scattergl": [
                                            {
                                                "marker": {
                                                    "colorbar": {
                                                        "outlinewidth": 0,
                                                        "ticks": ""
                                                    }
                                                },
                                                "type": "scattergl"
                                            }
                                        ],
                                        "scattermapbox": [
                                            {
                                                "marker": {
                                                    "colorbar": {
                                                        "outlinewidth": 0,
                                                        "ticks": ""
                                                    }
                                                },
                                                "type": "scattermapbox"
                                            }
                                        ],
                                        "scatterpolar": [
                                            {
                                                "marker": {
                                                    "colorbar": {
                                                        "outlinewidth": 0,
                                                        "ticks": ""
                                                    }
                                                },
                                                "type": "scatterpolar"
                                            }
                                        ],
                                        "scatterpolargl": [
                                            {
                                                "marker": {
                                                    "colorbar": {
                                                        "outlinewidth": 0,
                                                        "ticks": ""
                                                    }
                                                },
                                                "type": "scatterpolargl"
                                            }
                                        ],
                                        "scatterternary": [
                                            {
                                                "marker": {
                                                    "colorbar": {
                                                        "outlinewidth": 0,
                                                        "ticks": ""
                                                    }
                                                },
                                                "type": "scatterternary"
                                            }
                                        ],
                                        "surface": [
                                            {
                                                "colorbar": {
                                                    "outlinewidth": 0,
                                                    "ticks": ""
                                                },
                                                "colorscale": [
                                                    [
                                                        0,
                                                        "#0d0887"
                                                    ],
                                                    [
                                                        0.1111111111111111,
                                                        "#46039f"
                                                    ],
                                                    [
                                                        0.2222222222222222,
                                                        "#7201a8"
                                                    ],
                                                    [
                                                        0.3333333333333333,
                                                        "#9c179e"
                                                    ],
                                                    [
                                                        0.4444444444444444,
                                                        "#bd3786"
                                                    ],
                                                    [
                                                        0.5555555555555556,
                                                        "#d8576b"
                                                    ],
                                                    [
                                                        0.6666666666666666,
                                                        "#ed7953"
                                                    ],
                                                    [
                                                        0.7777777777777778,
                                                        "#fb9f3a"
                                                    ],
                                                    [
                                                        0.8888888888888888,
                                                        "#fdca26"
                                                    ],
                                                    [
                                                        1,
                                                        "#f0f921"
                                                    ]
                                                ],
                                                "type": "surface"
                                            }
                                        ],
                                        "table": [
                                            {
                                                "cells": {
                                                    "fill": {
                                                        "color": "#EBF0F8"
                                                    },
                                                    "line": {
                                                        "color": "white"
                                                    }
                                                },
                                                "header": {
                                                    "fill": {
                                                        "color": "#C8D4E3"
                                                    },
                                                    "line": {
                                                        "color": "white"
                                                    }
                                                },
                                                "type": "table"
                                            }
                                        ]
                                    },
                                    "layout": {
                                        "annotationdefaults": {
                                            "arrowcolor": "#2a3f5f",
                                            "arrowhead": 0,
                                            "arrowwidth": 1
                                        },
                                        "autotypenumbers": "strict",
                                        "coloraxis": {
                                            "colorbar": {
                                                "outlinewidth": 0,
                                                "ticks": ""
                                            }
                                        },
                                        "colorscale": {
                                            "diverging": [
                                                [
                                                    0,
                                                    "#8e0152"
                                                ],
                                                [
                                                    0.1,
                                                    "#c51b7d"
                                                ],
                                                [
                                                    0.2,
                                                    "#de77ae"
                                                ],
                                                [
                                                    0.3,
                                                    "#f1b6da"
                                                ],
                                                [
                                                    0.4,
                                                    "#fde0ef"
                                                ],
                                                [
                                                    0.5,
                                                    "#f7f7f7"
                                                ],
                                                [
                                                    0.6,
                                                    "#e6f5d0"
                                                ],
                                                [
                                                    0.7,
                                                    "#b8e186"
                                                ],
                                                [
                                                    0.8,
                                                    "#7fbc41"
                                                ],
                                                [
                                                    0.9,
                                                    "#4d9221"
                                                ],
                                                [
                                                    1,
                                                    "#276419"
                                                ]
                                            ],
                                            "sequential": [
                                                [
                                                    0,
                                                    "#0d0887"
                                                ],
                                                [
                                                    0.1111111111111111,
                                                    "#46039f"
                                                ],
                                                [
                                                    0.2222222222222222,
                                                    "#7201a8"
                                                ],
                                                [
                                                    0.3333333333333333,
                                                    "#9c179e"
                                                ],
                                                [
                                                    0.4444444444444444,
                                                    "#bd3786"
                                                ],
                                                [
                                                    0.5555555555555556,
                                                    "#d8576b"
                                                ],
                                                [
                                                    0.6666666666666666,
                                                    "#ed7953"
                                                ],
                                                [
                                                    0.7777777777777778,
                                                    "#fb9f3a"
                                                ],
                                                [
                                                    0.8888888888888888,
                                                    "#fdca26"
                                                ],
                                                [
                                                    1,
                                                    "#f0f921"
                                                ]
                                            ],
                                            "sequentialminus": [
                                                [
                                                    0,
                                                    "#0d0887"
                                                ],
                                                [
                                                    0.1111111111111111,
                                                    "#46039f"
                                                ],
                                                [
                                                    0.2222222222222222,
                                                    "#7201a8"
                                                ],
                                                [
                                                    0.3333333333333333,
                                                    "#9c179e"
                                                ],
                                                [
                                                    0.4444444444444444,
                                                    "#bd3786"
                                                ],
                                                [
                                                    0.5555555555555556,
                                                    "#d8576b"
                                                ],
                                                [
                                                    0.6666666666666666,
                                                    "#ed7953"
                                                ],
                                                [
                                                    0.7777777777777778,
                                                    "#fb9f3a"
                                                ],
                                                [
                                                    0.8888888888888888,
                                                    "#fdca26"
                                                ],
                                                [
                                                    1,
                                                    "#f0f921"
                                                ]
                                            ]
                                        },
                                        "colorway": [
                                            "#636efa",
                                            "#EF553B",
                                            "#00cc96",
                                            "#ab63fa",
                                            "#FFA15A",
                                            "#19d3f3",
                                            "#FF6692",
                                            "#B6E880",
                                            "#FF97FF",
                                            "#FECB52"
                                        ],
                                        "font": {
                                            "color": "#2a3f5f"
                                        },
                                        "geo": {
                                            "bgcolor": "white",
                                            "lakecolor": "white",
                                            "landcolor": "#E5ECF6",
                                            "showlakes": true,
                                            "showland": true,
                                            "subunitcolor": "white"
                                        },
                                        "hoverlabel": {
                                            "align": "left"
                                        },
                                        "hovermode": "closest",
                                        "mapbox": {
                                            "style": "light"
                                        },
                                        "paper_bgcolor": "white",
                                        "plot_bgcolor": "#E5ECF6",
                                        "polar": {
                                            "angularaxis": {
                                                "gridcolor": "white",
                                                "linecolor": "white",
                                                "ticks": ""
                                            },
                                            "bgcolor": "#E5ECF6",
                                            "radialaxis": {
                                                "gridcolor": "white",
                                                "linecolor": "white",
                                                "ticks": ""
                                            }
                                        },
                                        "scene": {
                                            "xaxis": {
                                                "backgroundcolor": "#E5ECF6",
                                                "gridcolor": "white",
                                                "gridwidth": 2,
                                                "linecolor": "white",
                                                "showbackground": true,
                                                "ticks": "",
                                                "zerolinecolor": "white"
                                            },
                                            "yaxis": {
                                                "backgroundcolor": "#E5ECF6",
                                                "gridcolor": "white",
                                                "gridwidth": 2,
                                                "linecolor": "white",
                                                "showbackground": true,
                                                "ticks": "",
                                                "zerolinecolor": "white"
                                            },
                                            "zaxis": {
                                                "backgroundcolor": "#E5ECF6",
                                                "gridcolor": "white",
                                                "gridwidth": 2,
                                                "linecolor": "white",
                                                "showbackground": true,
                                                "ticks": "",
                                                "zerolinecolor": "white"
                                            }
                                        },
                                        "shapedefaults": {
                                            "line": {
                                                "color": "#2a3f5f"
                                            }
                                        },
                                        "ternary": {
                                            "aaxis": {
                                                "gridcolor": "white",
                                                "linecolor": "white",
                                                "ticks": ""
                                            },
                                            "baxis": {
                                                "gridcolor": "white",
                                                "linecolor": "white",
                                                "ticks": ""
                                            },
                                            "bgcolor": "#E5ECF6",
                                            "caxis": {
                                                "gridcolor": "white",
                                                "linecolor": "white",
                                                "ticks": ""
                                            }
                                        },
                                        "title": {
                                            "x": 0.05
                                        },
                                        "xaxis": {
                                            "automargin": true,
                                            "gridcolor": "white",
                                            "linecolor": "white",
                                            "ticks": "",
                                            "title": {
                                                "standoff": 15
                                            },
                                            "zerolinecolor": "white",
                                            "zerolinewidth": 2
                                        },
                                        "yaxis": {
                                            "automargin": true,
                                            "gridcolor": "white",
                                            "linecolor": "white",
                                            "ticks": "",
                                            "title": {
                                                "standoff": 15
                                            },
                                            "zerolinecolor": "white",
                                            "zerolinewidth": 2
                                        }
                                    }
                                },
                                "title": {
                                    "text": "Previous Token Scores"
                                },
                                "xaxis": {
                                    "anchor": "y",
                                    "constrain": "domain",
                                    "domain": [
                                        0,
                                        1
                                    ],
                                    "scaleanchor": "y",
                                    "title": {
                                        "text": "Head"
                                    }
                                },
                                "yaxis": {
                                    "anchor": "x",
                                    "autorange": "reversed",
                                    "constrain": "domain",
                                    "domain": [
                                        0,
                                        1
                                    ],
                                    "title": {
                                        "text": "Layer"
                                    }
                                }
                            }
                        }
                    },
                    "metadata": {},
                    "output_type": "display_data"
                },
                {
                    "data": {
                        "application/vnd.plotly.v1+json": {
                            "config": {
                                "plotlyServerURL": "https://plot.ly"
                            },
                            "data": [
                                {
                                    "coloraxis": "coloraxis",
                                    "hovertemplate": "Head: %{x}<br>Layer: %{y}<br>color: %{z}<extra></extra>",
                                    "name": "0",
                                    "type": "heatmap",
                                    "xaxis": "x",
                                    "yaxis": "y",
                                    "z": [
                                        [
                                            0.003930135164409876,
                                            0.1343916654586792,
                                            0.005512611009180546,
                                            0.0000070786772994324565,
                                            0.0008825405966490507,
                                            0.6979742050170898,
                                            0.004439353942871094,
                                            0.00014548910257872194,
                                            0.002603275701403618,
                                            0.0008261981420218945,
                                            0.019318347796797752,
                                            0.008884201757609844
                                        ],
                                        [
                                            0.00038771345862187445,
                                            0.0001989182346733287,
                                            0.0014914023922756314,
                                            0.005508141592144966,
                                            0.0019256309606134892,
                                            0.009171578101813793,
                                            0.013049041852355003,
                                            0.0022091048303991556,
                                            0.005007920321077108,
                                            0.005105456802994013,
                                            0.005621033720672131,
                                            0.029785823076963425
                                        ],
                                        [
                                            0.003210430731996894,
                                            0.009884955361485481,
                                            0.0007779448060318828,
                                            0.0005297757452353835,
                                            0.0055313133634626865,
                                            0.0010999328223988414,
                                            0.0016451722476631403,
                                            0.005965883377939463,
                                            0.0024785236455500126,
                                            0.0003748925810214132,
                                            0.00015888585767243057,
                                            0.005020955577492714
                                        ],
                                        [
                                            0.648341178894043,
                                            0.0020609295461326838,
                                            0.0001242946309503168,
                                            0.007258608937263489,
                                            0.006044609472155571,
                                            0.0038813427090644836,
                                            0.00012030416110064834,
                                            0.00017104492872022092,
                                            0.0018080081790685654,
                                            0.007796615362167358,
                                            0.0029130589682608843,
                                            0.0014214605325832963
                                        ],
                                        [
                                            0.008780066855251789,
                                            0.006261824164539576,
                                            0.006935868877917528,
                                            0.0024465254973620176,
                                            0.01672576181590557,
                                            0.0056790378876030445,
                                            0.003058024914935231,
                                            0.0004923077067360282,
                                            0.007628962397575378,
                                            0.0067940098233520985,
                                            0.012077737599611282,
                                            4.64369211486404e-13
                                        ],
                                        [
                                            0.012376964092254639,
                                            0.0037301345728337765,
                                            0.0075838216580450535,
                                            0.002797219669446349,
                                            0.006736426148563623,
                                            0.0032456382177770138,
                                            0.007052794564515352,
                                            0.009395722299814224,
                                            0.007464307826012373,
                                            0.004585611633956432,
                                            0.04474421218037605,
                                            0.008504481054842472
                                        ],
                                        [
                                            0.001907441415823996,
                                            0.009498865343630314,
                                            0.005639664828777313,
                                            0.0069732372649014,
                                            0.005620902869850397,
                                            0.005154550541192293,
                                            0.017010945826768875,
                                            0.004864083603024483,
                                            0.002404078608378768,
                                            0.006927915848791599,
                                            0.006568223237991333,
                                            0.006137471180409193
                                        ],
                                        [
                                            0.0036826347932219505,
                                            0.04414603114128113,
                                            0.0366700179874897,
                                            0.008798964321613312,
                                            0.009550677612423897,
                                            0.008905635215342045,
                                            0.007318903226405382,
                                            0.023976709693670273,
                                            0.008532862178981304,
                                            0.009706975892186165,
                                            0.012488914653658867,
                                            0.006347907241433859
                                        ],
                                        [
                                            0.007714724168181419,
                                            0.023921456187963486,
                                            0.006224322598427534,
                                            0.010547379031777382,
                                            0.009126613847911358,
                                            0.005178536754101515,
                                            0.008930742740631104,
                                            0.0047582173720002174,
                                            0.009462003596127033,
                                            0.01129149179905653,
                                            0.009877054020762444,
                                            0.00906627532094717
                                        ],
                                        [
                                            0.02066321112215519,
                                            0.0063425227999687195,
                                            0.01822248473763466,
                                            0.004609707742929459,
                                            0.01338968239724636,
                                            0.012161074206233025,
                                            0.010764066129922867,
                                            0.0073896124958992004,
                                            0.012243914417922497,
                                            0.018313156440854073,
                                            0.008975054137408733,
                                            0.0071327718906104565
                                        ],
                                        [
                                            0.01145907025784254,
                                            0.00999893993139267,
                                            0.006869269534945488,
                                            0.010324414819478989,
                                            0.0062789153307676315,
                                            0.008270859718322754,
                                            0.01384666282683611,
                                            0.004914341028779745,
                                            0.00797888170927763,
                                            0.00927761010825634,
                                            0.01093136053532362,
                                            0.013809003867208958
                                        ],
                                        [
                                            0.005359564442187548,
                                            0.006431064568459988,
                                            0.007692927960306406,
                                            0.0029243293683975935,
                                            0.010277213528752327,
                                            0.007804895285516977,
                                            0.009823285974562168,
                                            0.007539698854088783,
                                            0.0016250648768618703,
                                            0.009896808303892612,
                                            0.006031520199030638,
                                            0.00497396057471633
                                        ]
                                    ]
                                }
                            ],
                            "layout": {
                                "coloraxis": {
                                    "cmid": 0,
                                    "colorscale": [
                                        [
                                            0,
                                            "rgb(103,0,31)"
                                        ],
                                        [
                                            0.1,
                                            "rgb(178,24,43)"
                                        ],
                                        [
                                            0.2,
                                            "rgb(214,96,77)"
                                        ],
                                        [
                                            0.3,
                                            "rgb(244,165,130)"
                                        ],
                                        [
                                            0.4,
                                            "rgb(253,219,199)"
                                        ],
                                        [
                                            0.5,
                                            "rgb(247,247,247)"
                                        ],
                                        [
                                            0.6,
                                            "rgb(209,229,240)"
                                        ],
                                        [
                                            0.7,
                                            "rgb(146,197,222)"
                                        ],
                                        [
                                            0.8,
                                            "rgb(67,147,195)"
                                        ],
                                        [
                                            0.9,
                                            "rgb(33,102,172)"
                                        ],
                                        [
                                            1,
                                            "rgb(5,48,97)"
                                        ]
                                    ]
                                },
                                "template": {
                                    "data": {
                                        "bar": [
                                            {
                                                "error_x": {
                                                    "color": "#2a3f5f"
                                                },
                                                "error_y": {
                                                    "color": "#2a3f5f"
                                                },
                                                "marker": {
                                                    "line": {
                                                        "color": "#E5ECF6",
                                                        "width": 0.5
                                                    },
                                                    "pattern": {
                                                        "fillmode": "overlay",
                                                        "size": 10,
                                                        "solidity": 0.2
                                                    }
                                                },
                                                "type": "bar"
                                            }
                                        ],
                                        "barpolar": [
                                            {
                                                "marker": {
                                                    "line": {
                                                        "color": "#E5ECF6",
                                                        "width": 0.5
                                                    },
                                                    "pattern": {
                                                        "fillmode": "overlay",
                                                        "size": 10,
                                                        "solidity": 0.2
                                                    }
                                                },
                                                "type": "barpolar"
                                            }
                                        ],
                                        "carpet": [
                                            {
                                                "aaxis": {
                                                    "endlinecolor": "#2a3f5f",
                                                    "gridcolor": "white",
                                                    "linecolor": "white",
                                                    "minorgridcolor": "white",
                                                    "startlinecolor": "#2a3f5f"
                                                },
                                                "baxis": {
                                                    "endlinecolor": "#2a3f5f",
                                                    "gridcolor": "white",
                                                    "linecolor": "white",
                                                    "minorgridcolor": "white",
                                                    "startlinecolor": "#2a3f5f"
                                                },
                                                "type": "carpet"
                                            }
                                        ],
                                        "choropleth": [
                                            {
                                                "colorbar": {
                                                    "outlinewidth": 0,
                                                    "ticks": ""
                                                },
                                                "type": "choropleth"
                                            }
                                        ],
                                        "contour": [
                                            {
                                                "colorbar": {
                                                    "outlinewidth": 0,
                                                    "ticks": ""
                                                },
                                                "colorscale": [
                                                    [
                                                        0,
                                                        "#0d0887"
                                                    ],
                                                    [
                                                        0.1111111111111111,
                                                        "#46039f"
                                                    ],
                                                    [
                                                        0.2222222222222222,
                                                        "#7201a8"
                                                    ],
                                                    [
                                                        0.3333333333333333,
                                                        "#9c179e"
                                                    ],
                                                    [
                                                        0.4444444444444444,
                                                        "#bd3786"
                                                    ],
                                                    [
                                                        0.5555555555555556,
                                                        "#d8576b"
                                                    ],
                                                    [
                                                        0.6666666666666666,
                                                        "#ed7953"
                                                    ],
                                                    [
                                                        0.7777777777777778,
                                                        "#fb9f3a"
                                                    ],
                                                    [
                                                        0.8888888888888888,
                                                        "#fdca26"
                                                    ],
                                                    [
                                                        1,
                                                        "#f0f921"
                                                    ]
                                                ],
                                                "type": "contour"
                                            }
                                        ],
                                        "contourcarpet": [
                                            {
                                                "colorbar": {
                                                    "outlinewidth": 0,
                                                    "ticks": ""
                                                },
                                                "type": "contourcarpet"
                                            }
                                        ],
                                        "heatmap": [
                                            {
                                                "colorbar": {
                                                    "outlinewidth": 0,
                                                    "ticks": ""
                                                },
                                                "colorscale": [
                                                    [
                                                        0,
                                                        "#0d0887"
                                                    ],
                                                    [
                                                        0.1111111111111111,
                                                        "#46039f"
                                                    ],
                                                    [
                                                        0.2222222222222222,
                                                        "#7201a8"
                                                    ],
                                                    [
                                                        0.3333333333333333,
                                                        "#9c179e"
                                                    ],
                                                    [
                                                        0.4444444444444444,
                                                        "#bd3786"
                                                    ],
                                                    [
                                                        0.5555555555555556,
                                                        "#d8576b"
                                                    ],
                                                    [
                                                        0.6666666666666666,
                                                        "#ed7953"
                                                    ],
                                                    [
                                                        0.7777777777777778,
                                                        "#fb9f3a"
                                                    ],
                                                    [
                                                        0.8888888888888888,
                                                        "#fdca26"
                                                    ],
                                                    [
                                                        1,
                                                        "#f0f921"
                                                    ]
                                                ],
                                                "type": "heatmap"
                                            }
                                        ],
                                        "heatmapgl": [
                                            {
                                                "colorbar": {
                                                    "outlinewidth": 0,
                                                    "ticks": ""
                                                },
                                                "colorscale": [
                                                    [
                                                        0,
                                                        "#0d0887"
                                                    ],
                                                    [
                                                        0.1111111111111111,
                                                        "#46039f"
                                                    ],
                                                    [
                                                        0.2222222222222222,
                                                        "#7201a8"
                                                    ],
                                                    [
                                                        0.3333333333333333,
                                                        "#9c179e"
                                                    ],
                                                    [
                                                        0.4444444444444444,
                                                        "#bd3786"
                                                    ],
                                                    [
                                                        0.5555555555555556,
                                                        "#d8576b"
                                                    ],
                                                    [
                                                        0.6666666666666666,
                                                        "#ed7953"
                                                    ],
                                                    [
                                                        0.7777777777777778,
                                                        "#fb9f3a"
                                                    ],
                                                    [
                                                        0.8888888888888888,
                                                        "#fdca26"
                                                    ],
                                                    [
                                                        1,
                                                        "#f0f921"
                                                    ]
                                                ],
                                                "type": "heatmapgl"
                                            }
                                        ],
                                        "histogram": [
                                            {
                                                "marker": {
                                                    "pattern": {
                                                        "fillmode": "overlay",
                                                        "size": 10,
                                                        "solidity": 0.2
                                                    }
                                                },
                                                "type": "histogram"
                                            }
                                        ],
                                        "histogram2d": [
                                            {
                                                "colorbar": {
                                                    "outlinewidth": 0,
                                                    "ticks": ""
                                                },
                                                "colorscale": [
                                                    [
                                                        0,
                                                        "#0d0887"
                                                    ],
                                                    [
                                                        0.1111111111111111,
                                                        "#46039f"
                                                    ],
                                                    [
                                                        0.2222222222222222,
                                                        "#7201a8"
                                                    ],
                                                    [
                                                        0.3333333333333333,
                                                        "#9c179e"
                                                    ],
                                                    [
                                                        0.4444444444444444,
                                                        "#bd3786"
                                                    ],
                                                    [
                                                        0.5555555555555556,
                                                        "#d8576b"
                                                    ],
                                                    [
                                                        0.6666666666666666,
                                                        "#ed7953"
                                                    ],
                                                    [
                                                        0.7777777777777778,
                                                        "#fb9f3a"
                                                    ],
                                                    [
                                                        0.8888888888888888,
                                                        "#fdca26"
                                                    ],
                                                    [
                                                        1,
                                                        "#f0f921"
                                                    ]
                                                ],
                                                "type": "histogram2d"
                                            }
                                        ],
                                        "histogram2dcontour": [
                                            {
                                                "colorbar": {
                                                    "outlinewidth": 0,
                                                    "ticks": ""
                                                },
                                                "colorscale": [
                                                    [
                                                        0,
                                                        "#0d0887"
                                                    ],
                                                    [
                                                        0.1111111111111111,
                                                        "#46039f"
                                                    ],
                                                    [
                                                        0.2222222222222222,
                                                        "#7201a8"
                                                    ],
                                                    [
                                                        0.3333333333333333,
                                                        "#9c179e"
                                                    ],
                                                    [
                                                        0.4444444444444444,
                                                        "#bd3786"
                                                    ],
                                                    [
                                                        0.5555555555555556,
                                                        "#d8576b"
                                                    ],
                                                    [
                                                        0.6666666666666666,
                                                        "#ed7953"
                                                    ],
                                                    [
                                                        0.7777777777777778,
                                                        "#fb9f3a"
                                                    ],
                                                    [
                                                        0.8888888888888888,
                                                        "#fdca26"
                                                    ],
                                                    [
                                                        1,
                                                        "#f0f921"
                                                    ]
                                                ],
                                                "type": "histogram2dcontour"
                                            }
                                        ],
                                        "mesh3d": [
                                            {
                                                "colorbar": {
                                                    "outlinewidth": 0,
                                                    "ticks": ""
                                                },
                                                "type": "mesh3d"
                                            }
                                        ],
                                        "parcoords": [
                                            {
                                                "line": {
                                                    "colorbar": {
                                                        "outlinewidth": 0,
                                                        "ticks": ""
                                                    }
                                                },
                                                "type": "parcoords"
                                            }
                                        ],
                                        "pie": [
                                            {
                                                "automargin": true,
                                                "type": "pie"
                                            }
                                        ],
                                        "scatter": [
                                            {
                                                "fillpattern": {
                                                    "fillmode": "overlay",
                                                    "size": 10,
                                                    "solidity": 0.2
                                                },
                                                "type": "scatter"
                                            }
                                        ],
                                        "scatter3d": [
                                            {
                                                "line": {
                                                    "colorbar": {
                                                        "outlinewidth": 0,
                                                        "ticks": ""
                                                    }
                                                },
                                                "marker": {
                                                    "colorbar": {
                                                        "outlinewidth": 0,
                                                        "ticks": ""
                                                    }
                                                },
                                                "type": "scatter3d"
                                            }
                                        ],
                                        "scattercarpet": [
                                            {
                                                "marker": {
                                                    "colorbar": {
                                                        "outlinewidth": 0,
                                                        "ticks": ""
                                                    }
                                                },
                                                "type": "scattercarpet"
                                            }
                                        ],
                                        "scattergeo": [
                                            {
                                                "marker": {
                                                    "colorbar": {
                                                        "outlinewidth": 0,
                                                        "ticks": ""
                                                    }
                                                },
                                                "type": "scattergeo"
                                            }
                                        ],
                                        "scattergl": [
                                            {
                                                "marker": {
                                                    "colorbar": {
                                                        "outlinewidth": 0,
                                                        "ticks": ""
                                                    }
                                                },
                                                "type": "scattergl"
                                            }
                                        ],
                                        "scattermapbox": [
                                            {
                                                "marker": {
                                                    "colorbar": {
                                                        "outlinewidth": 0,
                                                        "ticks": ""
                                                    }
                                                },
                                                "type": "scattermapbox"
                                            }
                                        ],
                                        "scatterpolar": [
                                            {
                                                "marker": {
                                                    "colorbar": {
                                                        "outlinewidth": 0,
                                                        "ticks": ""
                                                    }
                                                },
                                                "type": "scatterpolar"
                                            }
                                        ],
                                        "scatterpolargl": [
                                            {
                                                "marker": {
                                                    "colorbar": {
                                                        "outlinewidth": 0,
                                                        "ticks": ""
                                                    }
                                                },
                                                "type": "scatterpolargl"
                                            }
                                        ],
                                        "scatterternary": [
                                            {
                                                "marker": {
                                                    "colorbar": {
                                                        "outlinewidth": 0,
                                                        "ticks": ""
                                                    }
                                                },
                                                "type": "scatterternary"
                                            }
                                        ],
                                        "surface": [
                                            {
                                                "colorbar": {
                                                    "outlinewidth": 0,
                                                    "ticks": ""
                                                },
                                                "colorscale": [
                                                    [
                                                        0,
                                                        "#0d0887"
                                                    ],
                                                    [
                                                        0.1111111111111111,
                                                        "#46039f"
                                                    ],
                                                    [
                                                        0.2222222222222222,
                                                        "#7201a8"
                                                    ],
                                                    [
                                                        0.3333333333333333,
                                                        "#9c179e"
                                                    ],
                                                    [
                                                        0.4444444444444444,
                                                        "#bd3786"
                                                    ],
                                                    [
                                                        0.5555555555555556,
                                                        "#d8576b"
                                                    ],
                                                    [
                                                        0.6666666666666666,
                                                        "#ed7953"
                                                    ],
                                                    [
                                                        0.7777777777777778,
                                                        "#fb9f3a"
                                                    ],
                                                    [
                                                        0.8888888888888888,
                                                        "#fdca26"
                                                    ],
                                                    [
                                                        1,
                                                        "#f0f921"
                                                    ]
                                                ],
                                                "type": "surface"
                                            }
                                        ],
                                        "table": [
                                            {
                                                "cells": {
                                                    "fill": {
                                                        "color": "#EBF0F8"
                                                    },
                                                    "line": {
                                                        "color": "white"
                                                    }
                                                },
                                                "header": {
                                                    "fill": {
                                                        "color": "#C8D4E3"
                                                    },
                                                    "line": {
                                                        "color": "white"
                                                    }
                                                },
                                                "type": "table"
                                            }
                                        ]
                                    },
                                    "layout": {
                                        "annotationdefaults": {
                                            "arrowcolor": "#2a3f5f",
                                            "arrowhead": 0,
                                            "arrowwidth": 1
                                        },
                                        "autotypenumbers": "strict",
                                        "coloraxis": {
                                            "colorbar": {
                                                "outlinewidth": 0,
                                                "ticks": ""
                                            }
                                        },
                                        "colorscale": {
                                            "diverging": [
                                                [
                                                    0,
                                                    "#8e0152"
                                                ],
                                                [
                                                    0.1,
                                                    "#c51b7d"
                                                ],
                                                [
                                                    0.2,
                                                    "#de77ae"
                                                ],
                                                [
                                                    0.3,
                                                    "#f1b6da"
                                                ],
                                                [
                                                    0.4,
                                                    "#fde0ef"
                                                ],
                                                [
                                                    0.5,
                                                    "#f7f7f7"
                                                ],
                                                [
                                                    0.6,
                                                    "#e6f5d0"
                                                ],
                                                [
                                                    0.7,
                                                    "#b8e186"
                                                ],
                                                [
                                                    0.8,
                                                    "#7fbc41"
                                                ],
                                                [
                                                    0.9,
                                                    "#4d9221"
                                                ],
                                                [
                                                    1,
                                                    "#276419"
                                                ]
                                            ],
                                            "sequential": [
                                                [
                                                    0,
                                                    "#0d0887"
                                                ],
                                                [
                                                    0.1111111111111111,
                                                    "#46039f"
                                                ],
                                                [
                                                    0.2222222222222222,
                                                    "#7201a8"
                                                ],
                                                [
                                                    0.3333333333333333,
                                                    "#9c179e"
                                                ],
                                                [
                                                    0.4444444444444444,
                                                    "#bd3786"
                                                ],
                                                [
                                                    0.5555555555555556,
                                                    "#d8576b"
                                                ],
                                                [
                                                    0.6666666666666666,
                                                    "#ed7953"
                                                ],
                                                [
                                                    0.7777777777777778,
                                                    "#fb9f3a"
                                                ],
                                                [
                                                    0.8888888888888888,
                                                    "#fdca26"
                                                ],
                                                [
                                                    1,
                                                    "#f0f921"
                                                ]
                                            ],
                                            "sequentialminus": [
                                                [
                                                    0,
                                                    "#0d0887"
                                                ],
                                                [
                                                    0.1111111111111111,
                                                    "#46039f"
                                                ],
                                                [
                                                    0.2222222222222222,
                                                    "#7201a8"
                                                ],
                                                [
                                                    0.3333333333333333,
                                                    "#9c179e"
                                                ],
                                                [
                                                    0.4444444444444444,
                                                    "#bd3786"
                                                ],
                                                [
                                                    0.5555555555555556,
                                                    "#d8576b"
                                                ],
                                                [
                                                    0.6666666666666666,
                                                    "#ed7953"
                                                ],
                                                [
                                                    0.7777777777777778,
                                                    "#fb9f3a"
                                                ],
                                                [
                                                    0.8888888888888888,
                                                    "#fdca26"
                                                ],
                                                [
                                                    1,
                                                    "#f0f921"
                                                ]
                                            ]
                                        },
                                        "colorway": [
                                            "#636efa",
                                            "#EF553B",
                                            "#00cc96",
                                            "#ab63fa",
                                            "#FFA15A",
                                            "#19d3f3",
                                            "#FF6692",
                                            "#B6E880",
                                            "#FF97FF",
                                            "#FECB52"
                                        ],
                                        "font": {
                                            "color": "#2a3f5f"
                                        },
                                        "geo": {
                                            "bgcolor": "white",
                                            "lakecolor": "white",
                                            "landcolor": "#E5ECF6",
                                            "showlakes": true,
                                            "showland": true,
                                            "subunitcolor": "white"
                                        },
                                        "hoverlabel": {
                                            "align": "left"
                                        },
                                        "hovermode": "closest",
                                        "mapbox": {
                                            "style": "light"
                                        },
                                        "paper_bgcolor": "white",
                                        "plot_bgcolor": "#E5ECF6",
                                        "polar": {
                                            "angularaxis": {
                                                "gridcolor": "white",
                                                "linecolor": "white",
                                                "ticks": ""
                                            },
                                            "bgcolor": "#E5ECF6",
                                            "radialaxis": {
                                                "gridcolor": "white",
                                                "linecolor": "white",
                                                "ticks": ""
                                            }
                                        },
                                        "scene": {
                                            "xaxis": {
                                                "backgroundcolor": "#E5ECF6",
                                                "gridcolor": "white",
                                                "gridwidth": 2,
                                                "linecolor": "white",
                                                "showbackground": true,
                                                "ticks": "",
                                                "zerolinecolor": "white"
                                            },
                                            "yaxis": {
                                                "backgroundcolor": "#E5ECF6",
                                                "gridcolor": "white",
                                                "gridwidth": 2,
                                                "linecolor": "white",
                                                "showbackground": true,
                                                "ticks": "",
                                                "zerolinecolor": "white"
                                            },
                                            "zaxis": {
                                                "backgroundcolor": "#E5ECF6",
                                                "gridcolor": "white",
                                                "gridwidth": 2,
                                                "linecolor": "white",
                                                "showbackground": true,
                                                "ticks": "",
                                                "zerolinecolor": "white"
                                            }
                                        },
                                        "shapedefaults": {
                                            "line": {
                                                "color": "#2a3f5f"
                                            }
                                        },
                                        "ternary": {
                                            "aaxis": {
                                                "gridcolor": "white",
                                                "linecolor": "white",
                                                "ticks": ""
                                            },
                                            "baxis": {
                                                "gridcolor": "white",
                                                "linecolor": "white",
                                                "ticks": ""
                                            },
                                            "bgcolor": "#E5ECF6",
                                            "caxis": {
                                                "gridcolor": "white",
                                                "linecolor": "white",
                                                "ticks": ""
                                            }
                                        },
                                        "title": {
                                            "x": 0.05
                                        },
                                        "xaxis": {
                                            "automargin": true,
                                            "gridcolor": "white",
                                            "linecolor": "white",
                                            "ticks": "",
                                            "title": {
                                                "standoff": 15
                                            },
                                            "zerolinecolor": "white",
                                            "zerolinewidth": 2
                                        },
                                        "yaxis": {
                                            "automargin": true,
                                            "gridcolor": "white",
                                            "linecolor": "white",
                                            "ticks": "",
                                            "title": {
                                                "standoff": 15
                                            },
                                            "zerolinecolor": "white",
                                            "zerolinewidth": 2
                                        }
                                    }
                                },
                                "title": {
                                    "text": "Duplicate Token Scores"
                                },
                                "xaxis": {
                                    "anchor": "y",
                                    "constrain": "domain",
                                    "domain": [
                                        0,
                                        1
                                    ],
                                    "scaleanchor": "y",
                                    "title": {
                                        "text": "Head"
                                    }
                                },
                                "yaxis": {
                                    "anchor": "x",
                                    "autorange": "reversed",
                                    "constrain": "domain",
                                    "domain": [
                                        0,
                                        1
                                    ],
                                    "title": {
                                        "text": "Layer"
                                    }
                                }
                            }
                        }
                    },
                    "metadata": {},
                    "output_type": "display_data"
                },
                {
                    "data": {
                        "application/vnd.plotly.v1+json": {
                            "config": {
                                "plotlyServerURL": "https://plot.ly"
                            },
                            "data": [
                                {
                                    "coloraxis": "coloraxis",
                                    "hovertemplate": "Head: %{x}<br>Layer: %{y}<br>color: %{z}<extra></extra>",
                                    "name": "0",
                                    "type": "heatmap",
                                    "xaxis": "x",
                                    "yaxis": "y",
                                    "z": [
                                        [
                                            0.0037701772525906563,
                                            0.00005355918619898148,
                                            0.004124488215893507,
                                            6.420645348725884e-8,
                                            0.00005082800635136664,
                                            0.00008576397522119805,
                                            0.004035597201436758,
                                            0.00036480178823694587,
                                            0.003266968997195363,
                                            0.0030432911589741707,
                                            0.002040694234892726,
                                            0.008634282276034355
                                        ],
                                        [
                                            0.0008857783395797014,
                                            0.00016098067862913013,
                                            0.001506858505308628,
                                            0.005779534578323364,
                                            0.0020741180051118135,
                                            0.003871156368404627,
                                            0.005742192268371582,
                                            0.004674970172345638,
                                            0.005988061428070068,
                                            0.007113585248589516,
                                            0.005631864536553621,
                                            0.00014531376655213535
                                        ],
                                        [
                                            0.0034881201572716236,
                                            0.009366769343614578,
                                            0.003244585357606411,
                                            0.0010655922815203667,
                                            0.008882751688361168,
                                            0.002105116844177246,
                                            0.002227446064352989,
                                            0.006333238910883665,
                                            0.0027127820067107677,
                                            0.001030128332786262,
                                            0.00015656700998079032,
                                            0.005313745699822903
                                        ],
                                        [
                                            0.007083452306687832,
                                            0.0039816247299313545,
                                            0.0013222054112702608,
                                            0.007482780143618584,
                                            0.011214409954845905,
                                            0.006669014226645231,
                                            0.0008641431340947747,
                                            0.00029051577439531684,
                                            0.0019875592552125454,
                                            0.007557266857475042,
                                            0.003700577886775136,
                                            0.0027267648838460445
                                        ],
                                        [
                                            0.008521432057023048,
                                            0.007102931849658489,
                                            0.007565686944872141,
                                            0.004840549547225237,
                                            0.009861120954155922,
                                            0.005485636182129383,
                                            0.0037659374065697193,
                                            0.0005205681081861258,
                                            0.00858093798160553,
                                            0.006826617289334536,
                                            0.00917526800185442,
                                            1.8011911961934857e-9
                                        ],
                                        [
                                            0.47447699308395386,
                                            0.939157247543335,
                                            0.008104954846203327,
                                            0.004483647178858519,
                                            0.00425218790769577,
                                            0.9150219559669495,
                                            0.003950656391680241,
                                            0.009352117776870728,
                                            0.00987136922776699,
                                            0.015994038432836533,
                                            0.01175749208778143,
                                            0.009344285354018211
                                        ],
                                        [
                                            0.0042744786478579044,
                                            0.009456762112677097,
                                            0.009362714365124702,
                                            0.006618915591388941,
                                            0.010525497607886791,
                                            0.004672420676797628,
                                            0.018019048497080803,
                                            0.006149690132588148,
                                            0.004304450936615467,
                                            0.9142397046089172,
                                            0.023567643016576767,
                                            0.007906176149845123
                                        ],
                                        [
                                            0.008187612518668175,
                                            0.20559906959533691,
                                            0.8502253293991089,
                                            0.00916045531630516,
                                            0.009684829972684383,
                                            0.008514756336808205,
                                            0.027968794107437134,
                                            0.10260052978992462,
                                            0.00943510141223669,
                                            0.00984928011894226,
                                            0.9084390997886658,
                                            0.029096893966197968
                                        ],
                                        [
                                            0.008483250625431538,
                                            0.3725433051586151,
                                            0.008013066835701466,
                                            0.02713904157280922,
                                            0.009531475603580475,
                                            0.00817643478512764,
                                            0.11765320599079132,
                                            0.006640182342380285,
                                            0.012849411927163601,
                                            0.01838558167219162,
                                            0.034383367747068405,
                                            0.010297057218849659
                                        ],
                                        [
                                            0.2751906216144562,
                                            0.14171352982521057,
                                            0.10534031689167023,
                                            0.006595404352992773,
                                            0.0845080316066742,
                                            0.018556106835603714,
                                            0.48505187034606934,
                                            0.013682574033737183,
                                            0.04384120926260948,
                                            0.5158790349960327,
                                            0.00926600955426693,
                                            0.031942158937454224
                                        ],
                                        [
                                            0.37382641434669495,
                                            0.5120258927345276,
                                            0.027500420808792114,
                                            0.13396985828876495,
                                            0.041310619562864304,
                                            0.008600163273513317,
                                            0.3287211060523987,
                                            0.4093206226825714,
                                            0.028837312012910843,
                                            0.008964627049863338,
                                            0.17297232151031494,
                                            0.25957387685775757
                                        ],
                                        [
                                            0.008465097285807133,
                                            0.0451921746134758,
                                            0.024589018896222115,
                                            0.006326694972813129,
                                            0.02629375457763672,
                                            0.08976934105157852,
                                            0.038762714713811874,
                                            0.05700169503688812,
                                            0.002965979278087616,
                                            0.3101174831390381,
                                            0.3896678388118744,
                                            0.01365591213107109
                                        ]
                                    ]
                                }
                            ],
                            "layout": {
                                "coloraxis": {
                                    "cmid": 0,
                                    "colorscale": [
                                        [
                                            0,
                                            "rgb(103,0,31)"
                                        ],
                                        [
                                            0.1,
                                            "rgb(178,24,43)"
                                        ],
                                        [
                                            0.2,
                                            "rgb(214,96,77)"
                                        ],
                                        [
                                            0.3,
                                            "rgb(244,165,130)"
                                        ],
                                        [
                                            0.4,
                                            "rgb(253,219,199)"
                                        ],
                                        [
                                            0.5,
                                            "rgb(247,247,247)"
                                        ],
                                        [
                                            0.6,
                                            "rgb(209,229,240)"
                                        ],
                                        [
                                            0.7,
                                            "rgb(146,197,222)"
                                        ],
                                        [
                                            0.8,
                                            "rgb(67,147,195)"
                                        ],
                                        [
                                            0.9,
                                            "rgb(33,102,172)"
                                        ],
                                        [
                                            1,
                                            "rgb(5,48,97)"
                                        ]
                                    ]
                                },
                                "template": {
                                    "data": {
                                        "bar": [
                                            {
                                                "error_x": {
                                                    "color": "#2a3f5f"
                                                },
                                                "error_y": {
                                                    "color": "#2a3f5f"
                                                },
                                                "marker": {
                                                    "line": {
                                                        "color": "#E5ECF6",
                                                        "width": 0.5
                                                    },
                                                    "pattern": {
                                                        "fillmode": "overlay",
                                                        "size": 10,
                                                        "solidity": 0.2
                                                    }
                                                },
                                                "type": "bar"
                                            }
                                        ],
                                        "barpolar": [
                                            {
                                                "marker": {
                                                    "line": {
                                                        "color": "#E5ECF6",
                                                        "width": 0.5
                                                    },
                                                    "pattern": {
                                                        "fillmode": "overlay",
                                                        "size": 10,
                                                        "solidity": 0.2
                                                    }
                                                },
                                                "type": "barpolar"
                                            }
                                        ],
                                        "carpet": [
                                            {
                                                "aaxis": {
                                                    "endlinecolor": "#2a3f5f",
                                                    "gridcolor": "white",
                                                    "linecolor": "white",
                                                    "minorgridcolor": "white",
                                                    "startlinecolor": "#2a3f5f"
                                                },
                                                "baxis": {
                                                    "endlinecolor": "#2a3f5f",
                                                    "gridcolor": "white",
                                                    "linecolor": "white",
                                                    "minorgridcolor": "white",
                                                    "startlinecolor": "#2a3f5f"
                                                },
                                                "type": "carpet"
                                            }
                                        ],
                                        "choropleth": [
                                            {
                                                "colorbar": {
                                                    "outlinewidth": 0,
                                                    "ticks": ""
                                                },
                                                "type": "choropleth"
                                            }
                                        ],
                                        "contour": [
                                            {
                                                "colorbar": {
                                                    "outlinewidth": 0,
                                                    "ticks": ""
                                                },
                                                "colorscale": [
                                                    [
                                                        0,
                                                        "#0d0887"
                                                    ],
                                                    [
                                                        0.1111111111111111,
                                                        "#46039f"
                                                    ],
                                                    [
                                                        0.2222222222222222,
                                                        "#7201a8"
                                                    ],
                                                    [
                                                        0.3333333333333333,
                                                        "#9c179e"
                                                    ],
                                                    [
                                                        0.4444444444444444,
                                                        "#bd3786"
                                                    ],
                                                    [
                                                        0.5555555555555556,
                                                        "#d8576b"
                                                    ],
                                                    [
                                                        0.6666666666666666,
                                                        "#ed7953"
                                                    ],
                                                    [
                                                        0.7777777777777778,
                                                        "#fb9f3a"
                                                    ],
                                                    [
                                                        0.8888888888888888,
                                                        "#fdca26"
                                                    ],
                                                    [
                                                        1,
                                                        "#f0f921"
                                                    ]
                                                ],
                                                "type": "contour"
                                            }
                                        ],
                                        "contourcarpet": [
                                            {
                                                "colorbar": {
                                                    "outlinewidth": 0,
                                                    "ticks": ""
                                                },
                                                "type": "contourcarpet"
                                            }
                                        ],
                                        "heatmap": [
                                            {
                                                "colorbar": {
                                                    "outlinewidth": 0,
                                                    "ticks": ""
                                                },
                                                "colorscale": [
                                                    [
                                                        0,
                                                        "#0d0887"
                                                    ],
                                                    [
                                                        0.1111111111111111,
                                                        "#46039f"
                                                    ],
                                                    [
                                                        0.2222222222222222,
                                                        "#7201a8"
                                                    ],
                                                    [
                                                        0.3333333333333333,
                                                        "#9c179e"
                                                    ],
                                                    [
                                                        0.4444444444444444,
                                                        "#bd3786"
                                                    ],
                                                    [
                                                        0.5555555555555556,
                                                        "#d8576b"
                                                    ],
                                                    [
                                                        0.6666666666666666,
                                                        "#ed7953"
                                                    ],
                                                    [
                                                        0.7777777777777778,
                                                        "#fb9f3a"
                                                    ],
                                                    [
                                                        0.8888888888888888,
                                                        "#fdca26"
                                                    ],
                                                    [
                                                        1,
                                                        "#f0f921"
                                                    ]
                                                ],
                                                "type": "heatmap"
                                            }
                                        ],
                                        "heatmapgl": [
                                            {
                                                "colorbar": {
                                                    "outlinewidth": 0,
                                                    "ticks": ""
                                                },
                                                "colorscale": [
                                                    [
                                                        0,
                                                        "#0d0887"
                                                    ],
                                                    [
                                                        0.1111111111111111,
                                                        "#46039f"
                                                    ],
                                                    [
                                                        0.2222222222222222,
                                                        "#7201a8"
                                                    ],
                                                    [
                                                        0.3333333333333333,
                                                        "#9c179e"
                                                    ],
                                                    [
                                                        0.4444444444444444,
                                                        "#bd3786"
                                                    ],
                                                    [
                                                        0.5555555555555556,
                                                        "#d8576b"
                                                    ],
                                                    [
                                                        0.6666666666666666,
                                                        "#ed7953"
                                                    ],
                                                    [
                                                        0.7777777777777778,
                                                        "#fb9f3a"
                                                    ],
                                                    [
                                                        0.8888888888888888,
                                                        "#fdca26"
                                                    ],
                                                    [
                                                        1,
                                                        "#f0f921"
                                                    ]
                                                ],
                                                "type": "heatmapgl"
                                            }
                                        ],
                                        "histogram": [
                                            {
                                                "marker": {
                                                    "pattern": {
                                                        "fillmode": "overlay",
                                                        "size": 10,
                                                        "solidity": 0.2
                                                    }
                                                },
                                                "type": "histogram"
                                            }
                                        ],
                                        "histogram2d": [
                                            {
                                                "colorbar": {
                                                    "outlinewidth": 0,
                                                    "ticks": ""
                                                },
                                                "colorscale": [
                                                    [
                                                        0,
                                                        "#0d0887"
                                                    ],
                                                    [
                                                        0.1111111111111111,
                                                        "#46039f"
                                                    ],
                                                    [
                                                        0.2222222222222222,
                                                        "#7201a8"
                                                    ],
                                                    [
                                                        0.3333333333333333,
                                                        "#9c179e"
                                                    ],
                                                    [
                                                        0.4444444444444444,
                                                        "#bd3786"
                                                    ],
                                                    [
                                                        0.5555555555555556,
                                                        "#d8576b"
                                                    ],
                                                    [
                                                        0.6666666666666666,
                                                        "#ed7953"
                                                    ],
                                                    [
                                                        0.7777777777777778,
                                                        "#fb9f3a"
                                                    ],
                                                    [
                                                        0.8888888888888888,
                                                        "#fdca26"
                                                    ],
                                                    [
                                                        1,
                                                        "#f0f921"
                                                    ]
                                                ],
                                                "type": "histogram2d"
                                            }
                                        ],
                                        "histogram2dcontour": [
                                            {
                                                "colorbar": {
                                                    "outlinewidth": 0,
                                                    "ticks": ""
                                                },
                                                "colorscale": [
                                                    [
                                                        0,
                                                        "#0d0887"
                                                    ],
                                                    [
                                                        0.1111111111111111,
                                                        "#46039f"
                                                    ],
                                                    [
                                                        0.2222222222222222,
                                                        "#7201a8"
                                                    ],
                                                    [
                                                        0.3333333333333333,
                                                        "#9c179e"
                                                    ],
                                                    [
                                                        0.4444444444444444,
                                                        "#bd3786"
                                                    ],
                                                    [
                                                        0.5555555555555556,
                                                        "#d8576b"
                                                    ],
                                                    [
                                                        0.6666666666666666,
                                                        "#ed7953"
                                                    ],
                                                    [
                                                        0.7777777777777778,
                                                        "#fb9f3a"
                                                    ],
                                                    [
                                                        0.8888888888888888,
                                                        "#fdca26"
                                                    ],
                                                    [
                                                        1,
                                                        "#f0f921"
                                                    ]
                                                ],
                                                "type": "histogram2dcontour"
                                            }
                                        ],
                                        "mesh3d": [
                                            {
                                                "colorbar": {
                                                    "outlinewidth": 0,
                                                    "ticks": ""
                                                },
                                                "type": "mesh3d"
                                            }
                                        ],
                                        "parcoords": [
                                            {
                                                "line": {
                                                    "colorbar": {
                                                        "outlinewidth": 0,
                                                        "ticks": ""
                                                    }
                                                },
                                                "type": "parcoords"
                                            }
                                        ],
                                        "pie": [
                                            {
                                                "automargin": true,
                                                "type": "pie"
                                            }
                                        ],
                                        "scatter": [
                                            {
                                                "fillpattern": {
                                                    "fillmode": "overlay",
                                                    "size": 10,
                                                    "solidity": 0.2
                                                },
                                                "type": "scatter"
                                            }
                                        ],
                                        "scatter3d": [
                                            {
                                                "line": {
                                                    "colorbar": {
                                                        "outlinewidth": 0,
                                                        "ticks": ""
                                                    }
                                                },
                                                "marker": {
                                                    "colorbar": {
                                                        "outlinewidth": 0,
                                                        "ticks": ""
                                                    }
                                                },
                                                "type": "scatter3d"
                                            }
                                        ],
                                        "scattercarpet": [
                                            {
                                                "marker": {
                                                    "colorbar": {
                                                        "outlinewidth": 0,
                                                        "ticks": ""
                                                    }
                                                },
                                                "type": "scattercarpet"
                                            }
                                        ],
                                        "scattergeo": [
                                            {
                                                "marker": {
                                                    "colorbar": {
                                                        "outlinewidth": 0,
                                                        "ticks": ""
                                                    }
                                                },
                                                "type": "scattergeo"
                                            }
                                        ],
                                        "scattergl": [
                                            {
                                                "marker": {
                                                    "colorbar": {
                                                        "outlinewidth": 0,
                                                        "ticks": ""
                                                    }
                                                },
                                                "type": "scattergl"
                                            }
                                        ],
                                        "scattermapbox": [
                                            {
                                                "marker": {
                                                    "colorbar": {
                                                        "outlinewidth": 0,
                                                        "ticks": ""
                                                    }
                                                },
                                                "type": "scattermapbox"
                                            }
                                        ],
                                        "scatterpolar": [
                                            {
                                                "marker": {
                                                    "colorbar": {
                                                        "outlinewidth": 0,
                                                        "ticks": ""
                                                    }
                                                },
                                                "type": "scatterpolar"
                                            }
                                        ],
                                        "scatterpolargl": [
                                            {
                                                "marker": {
                                                    "colorbar": {
                                                        "outlinewidth": 0,
                                                        "ticks": ""
                                                    }
                                                },
                                                "type": "scatterpolargl"
                                            }
                                        ],
                                        "scatterternary": [
                                            {
                                                "marker": {
                                                    "colorbar": {
                                                        "outlinewidth": 0,
                                                        "ticks": ""
                                                    }
                                                },
                                                "type": "scatterternary"
                                            }
                                        ],
                                        "surface": [
                                            {
                                                "colorbar": {
                                                    "outlinewidth": 0,
                                                    "ticks": ""
                                                },
                                                "colorscale": [
                                                    [
                                                        0,
                                                        "#0d0887"
                                                    ],
                                                    [
                                                        0.1111111111111111,
                                                        "#46039f"
                                                    ],
                                                    [
                                                        0.2222222222222222,
                                                        "#7201a8"
                                                    ],
                                                    [
                                                        0.3333333333333333,
                                                        "#9c179e"
                                                    ],
                                                    [
                                                        0.4444444444444444,
                                                        "#bd3786"
                                                    ],
                                                    [
                                                        0.5555555555555556,
                                                        "#d8576b"
                                                    ],
                                                    [
                                                        0.6666666666666666,
                                                        "#ed7953"
                                                    ],
                                                    [
                                                        0.7777777777777778,
                                                        "#fb9f3a"
                                                    ],
                                                    [
                                                        0.8888888888888888,
                                                        "#fdca26"
                                                    ],
                                                    [
                                                        1,
                                                        "#f0f921"
                                                    ]
                                                ],
                                                "type": "surface"
                                            }
                                        ],
                                        "table": [
                                            {
                                                "cells": {
                                                    "fill": {
                                                        "color": "#EBF0F8"
                                                    },
                                                    "line": {
                                                        "color": "white"
                                                    }
                                                },
                                                "header": {
                                                    "fill": {
                                                        "color": "#C8D4E3"
                                                    },
                                                    "line": {
                                                        "color": "white"
                                                    }
                                                },
                                                "type": "table"
                                            }
                                        ]
                                    },
                                    "layout": {
                                        "annotationdefaults": {
                                            "arrowcolor": "#2a3f5f",
                                            "arrowhead": 0,
                                            "arrowwidth": 1
                                        },
                                        "autotypenumbers": "strict",
                                        "coloraxis": {
                                            "colorbar": {
                                                "outlinewidth": 0,
                                                "ticks": ""
                                            }
                                        },
                                        "colorscale": {
                                            "diverging": [
                                                [
                                                    0,
                                                    "#8e0152"
                                                ],
                                                [
                                                    0.1,
                                                    "#c51b7d"
                                                ],
                                                [
                                                    0.2,
                                                    "#de77ae"
                                                ],
                                                [
                                                    0.3,
                                                    "#f1b6da"
                                                ],
                                                [
                                                    0.4,
                                                    "#fde0ef"
                                                ],
                                                [
                                                    0.5,
                                                    "#f7f7f7"
                                                ],
                                                [
                                                    0.6,
                                                    "#e6f5d0"
                                                ],
                                                [
                                                    0.7,
                                                    "#b8e186"
                                                ],
                                                [
                                                    0.8,
                                                    "#7fbc41"
                                                ],
                                                [
                                                    0.9,
                                                    "#4d9221"
                                                ],
                                                [
                                                    1,
                                                    "#276419"
                                                ]
                                            ],
                                            "sequential": [
                                                [
                                                    0,
                                                    "#0d0887"
                                                ],
                                                [
                                                    0.1111111111111111,
                                                    "#46039f"
                                                ],
                                                [
                                                    0.2222222222222222,
                                                    "#7201a8"
                                                ],
                                                [
                                                    0.3333333333333333,
                                                    "#9c179e"
                                                ],
                                                [
                                                    0.4444444444444444,
                                                    "#bd3786"
                                                ],
                                                [
                                                    0.5555555555555556,
                                                    "#d8576b"
                                                ],
                                                [
                                                    0.6666666666666666,
                                                    "#ed7953"
                                                ],
                                                [
                                                    0.7777777777777778,
                                                    "#fb9f3a"
                                                ],
                                                [
                                                    0.8888888888888888,
                                                    "#fdca26"
                                                ],
                                                [
                                                    1,
                                                    "#f0f921"
                                                ]
                                            ],
                                            "sequentialminus": [
                                                [
                                                    0,
                                                    "#0d0887"
                                                ],
                                                [
                                                    0.1111111111111111,
                                                    "#46039f"
                                                ],
                                                [
                                                    0.2222222222222222,
                                                    "#7201a8"
                                                ],
                                                [
                                                    0.3333333333333333,
                                                    "#9c179e"
                                                ],
                                                [
                                                    0.4444444444444444,
                                                    "#bd3786"
                                                ],
                                                [
                                                    0.5555555555555556,
                                                    "#d8576b"
                                                ],
                                                [
                                                    0.6666666666666666,
                                                    "#ed7953"
                                                ],
                                                [
                                                    0.7777777777777778,
                                                    "#fb9f3a"
                                                ],
                                                [
                                                    0.8888888888888888,
                                                    "#fdca26"
                                                ],
                                                [
                                                    1,
                                                    "#f0f921"
                                                ]
                                            ]
                                        },
                                        "colorway": [
                                            "#636efa",
                                            "#EF553B",
                                            "#00cc96",
                                            "#ab63fa",
                                            "#FFA15A",
                                            "#19d3f3",
                                            "#FF6692",
                                            "#B6E880",
                                            "#FF97FF",
                                            "#FECB52"
                                        ],
                                        "font": {
                                            "color": "#2a3f5f"
                                        },
                                        "geo": {
                                            "bgcolor": "white",
                                            "lakecolor": "white",
                                            "landcolor": "#E5ECF6",
                                            "showlakes": true,
                                            "showland": true,
                                            "subunitcolor": "white"
                                        },
                                        "hoverlabel": {
                                            "align": "left"
                                        },
                                        "hovermode": "closest",
                                        "mapbox": {
                                            "style": "light"
                                        },
                                        "paper_bgcolor": "white",
                                        "plot_bgcolor": "#E5ECF6",
                                        "polar": {
                                            "angularaxis": {
                                                "gridcolor": "white",
                                                "linecolor": "white",
                                                "ticks": ""
                                            },
                                            "bgcolor": "#E5ECF6",
                                            "radialaxis": {
                                                "gridcolor": "white",
                                                "linecolor": "white",
                                                "ticks": ""
                                            }
                                        },
                                        "scene": {
                                            "xaxis": {
                                                "backgroundcolor": "#E5ECF6",
                                                "gridcolor": "white",
                                                "gridwidth": 2,
                                                "linecolor": "white",
                                                "showbackground": true,
                                                "ticks": "",
                                                "zerolinecolor": "white"
                                            },
                                            "yaxis": {
                                                "backgroundcolor": "#E5ECF6",
                                                "gridcolor": "white",
                                                "gridwidth": 2,
                                                "linecolor": "white",
                                                "showbackground": true,
                                                "ticks": "",
                                                "zerolinecolor": "white"
                                            },
                                            "zaxis": {
                                                "backgroundcolor": "#E5ECF6",
                                                "gridcolor": "white",
                                                "gridwidth": 2,
                                                "linecolor": "white",
                                                "showbackground": true,
                                                "ticks": "",
                                                "zerolinecolor": "white"
                                            }
                                        },
                                        "shapedefaults": {
                                            "line": {
                                                "color": "#2a3f5f"
                                            }
                                        },
                                        "ternary": {
                                            "aaxis": {
                                                "gridcolor": "white",
                                                "linecolor": "white",
                                                "ticks": ""
                                            },
                                            "baxis": {
                                                "gridcolor": "white",
                                                "linecolor": "white",
                                                "ticks": ""
                                            },
                                            "bgcolor": "#E5ECF6",
                                            "caxis": {
                                                "gridcolor": "white",
                                                "linecolor": "white",
                                                "ticks": ""
                                            }
                                        },
                                        "title": {
                                            "x": 0.05
                                        },
                                        "xaxis": {
                                            "automargin": true,
                                            "gridcolor": "white",
                                            "linecolor": "white",
                                            "ticks": "",
                                            "title": {
                                                "standoff": 15
                                            },
                                            "zerolinecolor": "white",
                                            "zerolinewidth": 2
                                        },
                                        "yaxis": {
                                            "automargin": true,
                                            "gridcolor": "white",
                                            "linecolor": "white",
                                            "ticks": "",
                                            "title": {
                                                "standoff": 15
                                            },
                                            "zerolinecolor": "white",
                                            "zerolinewidth": 2
                                        }
                                    }
                                },
                                "title": {
                                    "text": "Induction Head Scores"
                                },
                                "xaxis": {
                                    "anchor": "y",
                                    "constrain": "domain",
                                    "domain": [
                                        0,
                                        1
                                    ],
                                    "scaleanchor": "y",
                                    "title": {
                                        "text": "Head"
                                    }
                                },
                                "yaxis": {
                                    "anchor": "x",
                                    "autorange": "reversed",
                                    "constrain": "domain",
                                    "domain": [
                                        0,
                                        1
                                    ],
                                    "title": {
                                        "text": "Layer"
                                    }
                                }
                            }
                        }
                    },
                    "metadata": {},
                    "output_type": "display_data"
                }
            ],
            "source": [
                "imshow(\n",
                "    prev_token_scores, labels={\"x\": \"Head\", \"y\": \"Layer\"}, title=\"Previous Token Scores\"\n",
                ")\n",
                "imshow(\n",
                "    duplicate_token_scores,\n",
                "    labels={\"x\": \"Head\", \"y\": \"Layer\"},\n",
                "    title=\"Duplicate Token Scores\",\n",
                ")\n",
                "imshow(\n",
                "    induction_scores, labels={\"x\": \"Head\", \"y\": \"Layer\"}, title=\"Induction Head Scores\"\n",
                ")"
            ]
        },
        {
            "attachments": {},
            "cell_type": "markdown",
            "metadata": {},
            "source": [
                "The above suggests that it would be a useful bit of infrastructure to have a \"wiki\" for the heads of a model, giving their scores according to some metrics re head functions, like the ones we've seen here. TransformerLens makes this easy to make, as just changing the name input to `HookedTransformer.from_pretrained` gives a different model but in the same architecture, so the same code should work. If you want to make this, I'd love to see it! \n",
                "\n",
                "As a proof of concept, [I made a mosaic of all induction heads across the 40 models then in TransformerLens](https://www.neelnanda.io/mosaic).\n",
                "\n",
                "![](https://firebasestorage.googleapis.com/v0/b/firescript-577a2.appspot.com/o/imgs%2Fapp%2FNeelNanda%2F5vtuFmdzt_.png?alt=media&token=4d613de4-9d14-48d6-ba9d-e591c562d429)"
            ]
        },
        {
            "attachments": {},
            "cell_type": "markdown",
            "metadata": {},
            "source": [
                "## Backup Name Mover Heads"
            ]
        },
        {
            "attachments": {},
            "cell_type": "markdown",
            "metadata": {},
            "source": [
                "Another fascinating anomaly is that of the **backup name mover heads**. A standard technique to apply when interpreting model internals is ablations, or knock-out. If we run the model but intervene to set a specific head to zero, what happens? If the model is robust to this intervention, then naively we can be confident that the head is not doing anything important, and conversely if the model is much worse at the task this suggests that head was important. There are several conceptual flaws with this approach, making the evidence only suggestive, eg that the average output of the head may be far from zero and so the knockout may send it far from expected activations, breaking internals on *any* task. But it's still an easy technique to apply to give some data.\n",
                "\n",
                "But a wild finding in the paper is that models have **built in redundancy**. If we knock out one of the name movers, then there are some backup name movers in later layers that *change their behaviour* and do (some of) the job of the original name mover head. This means that naive knock-out will significantly underestimate the importance of the name movers.\n"
            ]
        },
        {
            "attachments": {},
            "cell_type": "markdown",
            "metadata": {},
            "source": [
                "Let's test this! Let's ablate the most important name mover (head L9H9) on just the final token using a custom ablation hook and then cache all new activations and compared performance. We focus on the final position because we want to specifically ablate the direct logit effect. When we do this, we see that naively, removing the top name mover should reduce the logit diff massively, from 3.55 to 0.57. **But actually, it only goes down to 2.99!**\n",
                "\n",
                "<details> <summary>Implementation Details</summary> \n",
                "Ablating heads is really easy in TransformerLens! We can just define a hook on the z activation in the relevant attention layer (recall, z is the mixed values, and comes immediately before multiplying by the output weights $W_O$). z has a head_index axis, so we can set the component for the relevant head and for position -1 to zero, and return it. (Technically we could just edit in place without returning it, but by convention we always return an edited activation). \n",
                "\n",
                "We now want to compare all internal activations with a hook, which is hard to do with the nice `run_with_hooks` API. So we can directly access the hook on the z activation with `model.blocks[layer].attn.hook_z` and call its `add_hook` method. This adds in the hook to the *global state* of the model. We can now use run_with_cache, and don't need to care about the global state, because run_with_cache internally adds a bunch of caching hooks, and then removes all hooks after the run, *including* the previously added ablation hook. This can be disabled with the reset_hooks_end flag, but here it's useful! \n",
                "</details>"
            ]
        },
        {
            "cell_type": "code",
            "execution_count": 66,
            "metadata": {},
            "outputs": [
                {
                    "name": "stdout",
                    "output_type": "stream",
                    "text": [
                        "Top Name Mover to ablate: L9H9\n",
                        "Original logit diff: 3.5518715381622314\n",
                        "Post ablation logit diff: 2.9171957969665527\n",
                        "Direct Logit Attribution of top name mover head: 2.985445976257324\n",
                        "Naive prediction of post ablation logit diff: 0.5664255619049072\n"
                    ]
                }
            ],
            "source": [
                "top_name_mover = per_head_logit_diffs.flatten().argmax().item()\n",
                "top_name_mover_layer = top_name_mover // model.cfg.n_heads\n",
                "top_name_mover_head = top_name_mover % model.cfg.n_heads\n",
                "print(f\"Top Name Mover to ablate: L{top_name_mover_layer}H{top_name_mover_head}\")\n",
                "\n",
                "\n",
                "def ablate_top_head_hook(z: Float[torch.Tensor, \"batch pos head_index d_head\"], hook):\n",
                "    z[:, -1, top_name_mover_head, :] = 0\n",
                "    return z\n",
                "\n",
                "\n",
                "# Adds a hook into global model state\n",
                "model.blocks[top_name_mover_layer].attn.hook_z.add_hook(ablate_top_head_hook)\n",
                "# Runs the model, temporarily adds caching hooks and then removes *all* hooks after running, including the ablation hook.\n",
                "ablated_logits, ablated_cache = model.run_with_cache(tokens)\n",
                "print(f\"Original logit diff: {original_average_logit_diff}\")\n",
                "print(\n",
                "    f\"Post ablation logit diff: {logits_to_ave_logit_diff(ablated_logits, answer_tokens).item()}\"\n",
                ")\n",
                "print(\n",
                "    f\"Direct Logit Attribution of top name mover head: {per_head_logit_diffs.flatten()[top_name_mover].item()}\"\n",
                ")\n",
                "print(\n",
                "    f\"Naive prediction of post ablation logit diff: {original_average_logit_diff - per_head_logit_diffs.flatten()[top_name_mover].item()}\"\n",
                ")"
            ]
        },
        {
            "attachments": {},
            "cell_type": "markdown",
            "metadata": {},
            "source": [
                "So what's up with this? As before, we can look at the direct logit attribution of each head to see what's going on. It's easiest to interpret if plotted as a scatter plot against the initial per head logit difference.\n",
                "\n",
                "And we can see a *really* big difference in a few heads! (Hover to see labels) In particular the negative name mover L10H7 decreases its negative effect a lot, adding +1 to the logit diff, and the backup name mover L10H10 adjusts its effect to be more positive, adding +0.8 to the logit diff (with several other marginal changes). (And obviously the ablated head has gone down to zero!)"
            ]
        },
        {
            "cell_type": "code",
            "execution_count": 67,
            "metadata": {},
            "outputs": [
                {
                    "name": "stdout",
                    "output_type": "stream",
                    "text": [
                        "Tried to stack head results when they weren't cached. Computing head results now\n"
                    ]
                },
                {
                    "data": {
                        "application/vnd.plotly.v1+json": {
                            "config": {
                                "plotlyServerURL": "https://plot.ly"
                            },
                            "data": [
                                {
                                    "coloraxis": "coloraxis",
                                    "hovertemplate": "Head: %{x}<br>Layer: %{y}<br>color: %{z}<extra></extra>",
                                    "name": "0",
                                    "type": "heatmap",
                                    "xaxis": "x",
                                    "yaxis": "y",
                                    "z": [
                                        [
                                            -0.002156503964215517,
                                            -0.0004650682385545224,
                                            0.00024167183437384665,
                                            0.0002806585980579257,
                                            -0.0004162999684922397,
                                            -0.0004892416181974113,
                                            -0.002620948012918234,
                                            -0.002935677068307996,
                                            0.00042561208829283714,
                                            0.0005418329383246601,
                                            0.00023754138965159655,
                                            -0.0000748957390896976
                                        ],
                                        [
                                            -0.000658505829051137,
                                            0.0004060641804244369,
                                            -0.0009330413886345923,
                                            0.0008937822422012687,
                                            -0.0009785268921405077,
                                            -0.000533820129930973,
                                            -0.0027988189831376076,
                                            -0.004214101936668158,
                                            0.002578593324869871,
                                            0.0024506838526576757,
                                            0.0005351756699383259,
                                            0.0012349633034318686
                                        ],
                                        [
                                            0.0009405204327777028,
                                            -0.0011168691562488675,
                                            -0.0011541967978700995,
                                            -0.0015697095077484846,
                                            -0.0005699327448382974,
                                            0.001451514894142747,
                                            0.002439911477267742,
                                            0.003158293664455414,
                                            0.000923738582059741,
                                            -0.003578126197680831,
                                            -0.0010650777257978916,
                                            -0.0003558753523975611
                                        ],
                                        [
                                            -0.0005624951445497572,
                                            -0.000011960582924075425,
                                            0.0011531109921634197,
                                            0.0007360265008173883,
                                            0.0016493839211761951,
                                            0.0008800819050520658,
                                            -0.0006905529880896211,
                                            -0.003031972097232938,
                                            0.0008080147090367973,
                                            0.00010368914809077978,
                                            -0.0005807994166389108,
                                            -0.0011067037703469396
                                        ],
                                        [
                                            -0.0026375530287623405,
                                            0.0002691895351745188,
                                            -0.0016417437000200152,
                                            -0.003406986128538847,
                                            0.0017449699807912111,
                                            0.00046454701805487275,
                                            -0.0007899806369096041,
                                            0.0018328562146052718,
                                            -0.00086324627045542,
                                            -0.0003978293389081955,
                                            0.0007879206677898765,
                                            -0.00012048585631418973
                                        ],
                                        [
                                            0.0008688560919836164,
                                            0.0009473530226387084,
                                            -0.0022812988609075546,
                                            -0.0011803123634308577,
                                            0.0002407809515716508,
                                            -0.0004318578285165131,
                                            -0.0003728170122485608,
                                            -0.000738416681997478,
                                            0.0008113418589346111,
                                            -0.00040444196201860905,
                                            -0.007074396125972271,
                                            0.003946478478610516
                                        ],
                                        [
                                            -0.014917617663741112,
                                            -0.0022801742888987064,
                                            0.0022679336834698915,
                                            -0.00008302251808345318,
                                            -0.004980948753654957,
                                            0.0027670026756823063,
                                            0.006266288459300995,
                                            -0.003485947148874402,
                                            -0.0013348984066396952,
                                            -0.0017918883822858334,
                                            -0.0012231896398589015,
                                            0.00040514359716326
                                        ],
                                        [
                                            -0.0002460568503011018,
                                            -0.005790225230157375,
                                            -0.0004975841729901731,
                                            0.142182856798172,
                                            -0.0014961492270231247,
                                            -0.019006317481398582,
                                            0.003133433870971203,
                                            -0.001858205534517765,
                                            -0.011305196210741997,
                                            0.1922595500946045,
                                            -0.0011892566690221429,
                                            -0.0010282933944836259
                                        ],
                                        [
                                            -0.0038003993686288595,
                                            -0.0008570950012654066,
                                            -0.013956742361187935,
                                            0.00828910805284977,
                                            0.004315475933253765,
                                            -0.009073829278349876,
                                            -0.08315148949623108,
                                            0.0034569751005619764,
                                            -0.01805492490530014,
                                            0.002178061753511429,
                                            0.29780513048171997,
                                            0.02409379370510578
                                        ],
                                        [
                                            0.08904723823070526,
                                            -0.0007931794971227646,
                                            0.07247699797153473,
                                            0.015016308054327965,
                                            -0.02120928093791008,
                                            0.05205465108156204,
                                            1.4411165714263916,
                                            0.04743674397468567,
                                            -0.03229031339287758,
                                            0,
                                            0.0019993737805634737,
                                            -0.00807223655283451
                                        ],
                                        [
                                            0.8600788116455078,
                                            0.3260062038898468,
                                            0.16344408690929413,
                                            0.07133537530899048,
                                            -0.00444837287068367,
                                            0.000681330740917474,
                                            0.36613449454307556,
                                            -0.7105098962783813,
                                            -0.002031375654041767,
                                            -0.032143525779247284,
                                            1.2294330596923828,
                                            0.0018453558441251516
                                        ],
                                        [
                                            0.016877274960279465,
                                            -0.001730365096591413,
                                            -0.5010868310928345,
                                            0.02749764919281006,
                                            -0.0059662917628884315,
                                            -0.004944110754877329,
                                            -0.08855228126049042,
                                            0.006622308399528265,
                                            0.044124361127614975,
                                            -0.02726735547184944,
                                            -1.134916067123413,
                                            0.02287953346967697
                                        ]
                                    ]
                                }
                            ],
                            "layout": {
                                "coloraxis": {
                                    "cmid": 0,
                                    "colorscale": [
                                        [
                                            0,
                                            "rgb(103,0,31)"
                                        ],
                                        [
                                            0.1,
                                            "rgb(178,24,43)"
                                        ],
                                        [
                                            0.2,
                                            "rgb(214,96,77)"
                                        ],
                                        [
                                            0.3,
                                            "rgb(244,165,130)"
                                        ],
                                        [
                                            0.4,
                                            "rgb(253,219,199)"
                                        ],
                                        [
                                            0.5,
                                            "rgb(247,247,247)"
                                        ],
                                        [
                                            0.6,
                                            "rgb(209,229,240)"
                                        ],
                                        [
                                            0.7,
                                            "rgb(146,197,222)"
                                        ],
                                        [
                                            0.8,
                                            "rgb(67,147,195)"
                                        ],
                                        [
                                            0.9,
                                            "rgb(33,102,172)"
                                        ],
                                        [
                                            1,
                                            "rgb(5,48,97)"
                                        ]
                                    ]
                                },
                                "margin": {
                                    "t": 60
                                },
                                "template": {
                                    "data": {
                                        "bar": [
                                            {
                                                "error_x": {
                                                    "color": "#2a3f5f"
                                                },
                                                "error_y": {
                                                    "color": "#2a3f5f"
                                                },
                                                "marker": {
                                                    "line": {
                                                        "color": "#E5ECF6",
                                                        "width": 0.5
                                                    },
                                                    "pattern": {
                                                        "fillmode": "overlay",
                                                        "size": 10,
                                                        "solidity": 0.2
                                                    }
                                                },
                                                "type": "bar"
                                            }
                                        ],
                                        "barpolar": [
                                            {
                                                "marker": {
                                                    "line": {
                                                        "color": "#E5ECF6",
                                                        "width": 0.5
                                                    },
                                                    "pattern": {
                                                        "fillmode": "overlay",
                                                        "size": 10,
                                                        "solidity": 0.2
                                                    }
                                                },
                                                "type": "barpolar"
                                            }
                                        ],
                                        "carpet": [
                                            {
                                                "aaxis": {
                                                    "endlinecolor": "#2a3f5f",
                                                    "gridcolor": "white",
                                                    "linecolor": "white",
                                                    "minorgridcolor": "white",
                                                    "startlinecolor": "#2a3f5f"
                                                },
                                                "baxis": {
                                                    "endlinecolor": "#2a3f5f",
                                                    "gridcolor": "white",
                                                    "linecolor": "white",
                                                    "minorgridcolor": "white",
                                                    "startlinecolor": "#2a3f5f"
                                                },
                                                "type": "carpet"
                                            }
                                        ],
                                        "choropleth": [
                                            {
                                                "colorbar": {
                                                    "outlinewidth": 0,
                                                    "ticks": ""
                                                },
                                                "type": "choropleth"
                                            }
                                        ],
                                        "contour": [
                                            {
                                                "colorbar": {
                                                    "outlinewidth": 0,
                                                    "ticks": ""
                                                },
                                                "colorscale": [
                                                    [
                                                        0,
                                                        "#0d0887"
                                                    ],
                                                    [
                                                        0.1111111111111111,
                                                        "#46039f"
                                                    ],
                                                    [
                                                        0.2222222222222222,
                                                        "#7201a8"
                                                    ],
                                                    [
                                                        0.3333333333333333,
                                                        "#9c179e"
                                                    ],
                                                    [
                                                        0.4444444444444444,
                                                        "#bd3786"
                                                    ],
                                                    [
                                                        0.5555555555555556,
                                                        "#d8576b"
                                                    ],
                                                    [
                                                        0.6666666666666666,
                                                        "#ed7953"
                                                    ],
                                                    [
                                                        0.7777777777777778,
                                                        "#fb9f3a"
                                                    ],
                                                    [
                                                        0.8888888888888888,
                                                        "#fdca26"
                                                    ],
                                                    [
                                                        1,
                                                        "#f0f921"
                                                    ]
                                                ],
                                                "type": "contour"
                                            }
                                        ],
                                        "contourcarpet": [
                                            {
                                                "colorbar": {
                                                    "outlinewidth": 0,
                                                    "ticks": ""
                                                },
                                                "type": "contourcarpet"
                                            }
                                        ],
                                        "heatmap": [
                                            {
                                                "colorbar": {
                                                    "outlinewidth": 0,
                                                    "ticks": ""
                                                },
                                                "colorscale": [
                                                    [
                                                        0,
                                                        "#0d0887"
                                                    ],
                                                    [
                                                        0.1111111111111111,
                                                        "#46039f"
                                                    ],
                                                    [
                                                        0.2222222222222222,
                                                        "#7201a8"
                                                    ],
                                                    [
                                                        0.3333333333333333,
                                                        "#9c179e"
                                                    ],
                                                    [
                                                        0.4444444444444444,
                                                        "#bd3786"
                                                    ],
                                                    [
                                                        0.5555555555555556,
                                                        "#d8576b"
                                                    ],
                                                    [
                                                        0.6666666666666666,
                                                        "#ed7953"
                                                    ],
                                                    [
                                                        0.7777777777777778,
                                                        "#fb9f3a"
                                                    ],
                                                    [
                                                        0.8888888888888888,
                                                        "#fdca26"
                                                    ],
                                                    [
                                                        1,
                                                        "#f0f921"
                                                    ]
                                                ],
                                                "type": "heatmap"
                                            }
                                        ],
                                        "heatmapgl": [
                                            {
                                                "colorbar": {
                                                    "outlinewidth": 0,
                                                    "ticks": ""
                                                },
                                                "colorscale": [
                                                    [
                                                        0,
                                                        "#0d0887"
                                                    ],
                                                    [
                                                        0.1111111111111111,
                                                        "#46039f"
                                                    ],
                                                    [
                                                        0.2222222222222222,
                                                        "#7201a8"
                                                    ],
                                                    [
                                                        0.3333333333333333,
                                                        "#9c179e"
                                                    ],
                                                    [
                                                        0.4444444444444444,
                                                        "#bd3786"
                                                    ],
                                                    [
                                                        0.5555555555555556,
                                                        "#d8576b"
                                                    ],
                                                    [
                                                        0.6666666666666666,
                                                        "#ed7953"
                                                    ],
                                                    [
                                                        0.7777777777777778,
                                                        "#fb9f3a"
                                                    ],
                                                    [
                                                        0.8888888888888888,
                                                        "#fdca26"
                                                    ],
                                                    [
                                                        1,
                                                        "#f0f921"
                                                    ]
                                                ],
                                                "type": "heatmapgl"
                                            }
                                        ],
                                        "histogram": [
                                            {
                                                "marker": {
                                                    "pattern": {
                                                        "fillmode": "overlay",
                                                        "size": 10,
                                                        "solidity": 0.2
                                                    }
                                                },
                                                "type": "histogram"
                                            }
                                        ],
                                        "histogram2d": [
                                            {
                                                "colorbar": {
                                                    "outlinewidth": 0,
                                                    "ticks": ""
                                                },
                                                "colorscale": [
                                                    [
                                                        0,
                                                        "#0d0887"
                                                    ],
                                                    [
                                                        0.1111111111111111,
                                                        "#46039f"
                                                    ],
                                                    [
                                                        0.2222222222222222,
                                                        "#7201a8"
                                                    ],
                                                    [
                                                        0.3333333333333333,
                                                        "#9c179e"
                                                    ],
                                                    [
                                                        0.4444444444444444,
                                                        "#bd3786"
                                                    ],
                                                    [
                                                        0.5555555555555556,
                                                        "#d8576b"
                                                    ],
                                                    [
                                                        0.6666666666666666,
                                                        "#ed7953"
                                                    ],
                                                    [
                                                        0.7777777777777778,
                                                        "#fb9f3a"
                                                    ],
                                                    [
                                                        0.8888888888888888,
                                                        "#fdca26"
                                                    ],
                                                    [
                                                        1,
                                                        "#f0f921"
                                                    ]
                                                ],
                                                "type": "histogram2d"
                                            }
                                        ],
                                        "histogram2dcontour": [
                                            {
                                                "colorbar": {
                                                    "outlinewidth": 0,
                                                    "ticks": ""
                                                },
                                                "colorscale": [
                                                    [
                                                        0,
                                                        "#0d0887"
                                                    ],
                                                    [
                                                        0.1111111111111111,
                                                        "#46039f"
                                                    ],
                                                    [
                                                        0.2222222222222222,
                                                        "#7201a8"
                                                    ],
                                                    [
                                                        0.3333333333333333,
                                                        "#9c179e"
                                                    ],
                                                    [
                                                        0.4444444444444444,
                                                        "#bd3786"
                                                    ],
                                                    [
                                                        0.5555555555555556,
                                                        "#d8576b"
                                                    ],
                                                    [
                                                        0.6666666666666666,
                                                        "#ed7953"
                                                    ],
                                                    [
                                                        0.7777777777777778,
                                                        "#fb9f3a"
                                                    ],
                                                    [
                                                        0.8888888888888888,
                                                        "#fdca26"
                                                    ],
                                                    [
                                                        1,
                                                        "#f0f921"
                                                    ]
                                                ],
                                                "type": "histogram2dcontour"
                                            }
                                        ],
                                        "mesh3d": [
                                            {
                                                "colorbar": {
                                                    "outlinewidth": 0,
                                                    "ticks": ""
                                                },
                                                "type": "mesh3d"
                                            }
                                        ],
                                        "parcoords": [
                                            {
                                                "line": {
                                                    "colorbar": {
                                                        "outlinewidth": 0,
                                                        "ticks": ""
                                                    }
                                                },
                                                "type": "parcoords"
                                            }
                                        ],
                                        "pie": [
                                            {
                                                "automargin": true,
                                                "type": "pie"
                                            }
                                        ],
                                        "scatter": [
                                            {
                                                "fillpattern": {
                                                    "fillmode": "overlay",
                                                    "size": 10,
                                                    "solidity": 0.2
                                                },
                                                "type": "scatter"
                                            }
                                        ],
                                        "scatter3d": [
                                            {
                                                "line": {
                                                    "colorbar": {
                                                        "outlinewidth": 0,
                                                        "ticks": ""
                                                    }
                                                },
                                                "marker": {
                                                    "colorbar": {
                                                        "outlinewidth": 0,
                                                        "ticks": ""
                                                    }
                                                },
                                                "type": "scatter3d"
                                            }
                                        ],
                                        "scattercarpet": [
                                            {
                                                "marker": {
                                                    "colorbar": {
                                                        "outlinewidth": 0,
                                                        "ticks": ""
                                                    }
                                                },
                                                "type": "scattercarpet"
                                            }
                                        ],
                                        "scattergeo": [
                                            {
                                                "marker": {
                                                    "colorbar": {
                                                        "outlinewidth": 0,
                                                        "ticks": ""
                                                    }
                                                },
                                                "type": "scattergeo"
                                            }
                                        ],
                                        "scattergl": [
                                            {
                                                "marker": {
                                                    "colorbar": {
                                                        "outlinewidth": 0,
                                                        "ticks": ""
                                                    }
                                                },
                                                "type": "scattergl"
                                            }
                                        ],
                                        "scattermapbox": [
                                            {
                                                "marker": {
                                                    "colorbar": {
                                                        "outlinewidth": 0,
                                                        "ticks": ""
                                                    }
                                                },
                                                "type": "scattermapbox"
                                            }
                                        ],
                                        "scatterpolar": [
                                            {
                                                "marker": {
                                                    "colorbar": {
                                                        "outlinewidth": 0,
                                                        "ticks": ""
                                                    }
                                                },
                                                "type": "scatterpolar"
                                            }
                                        ],
                                        "scatterpolargl": [
                                            {
                                                "marker": {
                                                    "colorbar": {
                                                        "outlinewidth": 0,
                                                        "ticks": ""
                                                    }
                                                },
                                                "type": "scatterpolargl"
                                            }
                                        ],
                                        "scatterternary": [
                                            {
                                                "marker": {
                                                    "colorbar": {
                                                        "outlinewidth": 0,
                                                        "ticks": ""
                                                    }
                                                },
                                                "type": "scatterternary"
                                            }
                                        ],
                                        "surface": [
                                            {
                                                "colorbar": {
                                                    "outlinewidth": 0,
                                                    "ticks": ""
                                                },
                                                "colorscale": [
                                                    [
                                                        0,
                                                        "#0d0887"
                                                    ],
                                                    [
                                                        0.1111111111111111,
                                                        "#46039f"
                                                    ],
                                                    [
                                                        0.2222222222222222,
                                                        "#7201a8"
                                                    ],
                                                    [
                                                        0.3333333333333333,
                                                        "#9c179e"
                                                    ],
                                                    [
                                                        0.4444444444444444,
                                                        "#bd3786"
                                                    ],
                                                    [
                                                        0.5555555555555556,
                                                        "#d8576b"
                                                    ],
                                                    [
                                                        0.6666666666666666,
                                                        "#ed7953"
                                                    ],
                                                    [
                                                        0.7777777777777778,
                                                        "#fb9f3a"
                                                    ],
                                                    [
                                                        0.8888888888888888,
                                                        "#fdca26"
                                                    ],
                                                    [
                                                        1,
                                                        "#f0f921"
                                                    ]
                                                ],
                                                "type": "surface"
                                            }
                                        ],
                                        "table": [
                                            {
                                                "cells": {
                                                    "fill": {
                                                        "color": "#EBF0F8"
                                                    },
                                                    "line": {
                                                        "color": "white"
                                                    }
                                                },
                                                "header": {
                                                    "fill": {
                                                        "color": "#C8D4E3"
                                                    },
                                                    "line": {
                                                        "color": "white"
                                                    }
                                                },
                                                "type": "table"
                                            }
                                        ]
                                    },
                                    "layout": {
                                        "annotationdefaults": {
                                            "arrowcolor": "#2a3f5f",
                                            "arrowhead": 0,
                                            "arrowwidth": 1
                                        },
                                        "autotypenumbers": "strict",
                                        "coloraxis": {
                                            "colorbar": {
                                                "outlinewidth": 0,
                                                "ticks": ""
                                            }
                                        },
                                        "colorscale": {
                                            "diverging": [
                                                [
                                                    0,
                                                    "#8e0152"
                                                ],
                                                [
                                                    0.1,
                                                    "#c51b7d"
                                                ],
                                                [
                                                    0.2,
                                                    "#de77ae"
                                                ],
                                                [
                                                    0.3,
                                                    "#f1b6da"
                                                ],
                                                [
                                                    0.4,
                                                    "#fde0ef"
                                                ],
                                                [
                                                    0.5,
                                                    "#f7f7f7"
                                                ],
                                                [
                                                    0.6,
                                                    "#e6f5d0"
                                                ],
                                                [
                                                    0.7,
                                                    "#b8e186"
                                                ],
                                                [
                                                    0.8,
                                                    "#7fbc41"
                                                ],
                                                [
                                                    0.9,
                                                    "#4d9221"
                                                ],
                                                [
                                                    1,
                                                    "#276419"
                                                ]
                                            ],
                                            "sequential": [
                                                [
                                                    0,
                                                    "#0d0887"
                                                ],
                                                [
                                                    0.1111111111111111,
                                                    "#46039f"
                                                ],
                                                [
                                                    0.2222222222222222,
                                                    "#7201a8"
                                                ],
                                                [
                                                    0.3333333333333333,
                                                    "#9c179e"
                                                ],
                                                [
                                                    0.4444444444444444,
                                                    "#bd3786"
                                                ],
                                                [
                                                    0.5555555555555556,
                                                    "#d8576b"
                                                ],
                                                [
                                                    0.6666666666666666,
                                                    "#ed7953"
                                                ],
                                                [
                                                    0.7777777777777778,
                                                    "#fb9f3a"
                                                ],
                                                [
                                                    0.8888888888888888,
                                                    "#fdca26"
                                                ],
                                                [
                                                    1,
                                                    "#f0f921"
                                                ]
                                            ],
                                            "sequentialminus": [
                                                [
                                                    0,
                                                    "#0d0887"
                                                ],
                                                [
                                                    0.1111111111111111,
                                                    "#46039f"
                                                ],
                                                [
                                                    0.2222222222222222,
                                                    "#7201a8"
                                                ],
                                                [
                                                    0.3333333333333333,
                                                    "#9c179e"
                                                ],
                                                [
                                                    0.4444444444444444,
                                                    "#bd3786"
                                                ],
                                                [
                                                    0.5555555555555556,
                                                    "#d8576b"
                                                ],
                                                [
                                                    0.6666666666666666,
                                                    "#ed7953"
                                                ],
                                                [
                                                    0.7777777777777778,
                                                    "#fb9f3a"
                                                ],
                                                [
                                                    0.8888888888888888,
                                                    "#fdca26"
                                                ],
                                                [
                                                    1,
                                                    "#f0f921"
                                                ]
                                            ]
                                        },
                                        "colorway": [
                                            "#636efa",
                                            "#EF553B",
                                            "#00cc96",
                                            "#ab63fa",
                                            "#FFA15A",
                                            "#19d3f3",
                                            "#FF6692",
                                            "#B6E880",
                                            "#FF97FF",
                                            "#FECB52"
                                        ],
                                        "font": {
                                            "color": "#2a3f5f"
                                        },
                                        "geo": {
                                            "bgcolor": "white",
                                            "lakecolor": "white",
                                            "landcolor": "#E5ECF6",
                                            "showlakes": true,
                                            "showland": true,
                                            "subunitcolor": "white"
                                        },
                                        "hoverlabel": {
                                            "align": "left"
                                        },
                                        "hovermode": "closest",
                                        "mapbox": {
                                            "style": "light"
                                        },
                                        "paper_bgcolor": "white",
                                        "plot_bgcolor": "#E5ECF6",
                                        "polar": {
                                            "angularaxis": {
                                                "gridcolor": "white",
                                                "linecolor": "white",
                                                "ticks": ""
                                            },
                                            "bgcolor": "#E5ECF6",
                                            "radialaxis": {
                                                "gridcolor": "white",
                                                "linecolor": "white",
                                                "ticks": ""
                                            }
                                        },
                                        "scene": {
                                            "xaxis": {
                                                "backgroundcolor": "#E5ECF6",
                                                "gridcolor": "white",
                                                "gridwidth": 2,
                                                "linecolor": "white",
                                                "showbackground": true,
                                                "ticks": "",
                                                "zerolinecolor": "white"
                                            },
                                            "yaxis": {
                                                "backgroundcolor": "#E5ECF6",
                                                "gridcolor": "white",
                                                "gridwidth": 2,
                                                "linecolor": "white",
                                                "showbackground": true,
                                                "ticks": "",
                                                "zerolinecolor": "white"
                                            },
                                            "zaxis": {
                                                "backgroundcolor": "#E5ECF6",
                                                "gridcolor": "white",
                                                "gridwidth": 2,
                                                "linecolor": "white",
                                                "showbackground": true,
                                                "ticks": "",
                                                "zerolinecolor": "white"
                                            }
                                        },
                                        "shapedefaults": {
                                            "line": {
                                                "color": "#2a3f5f"
                                            }
                                        },
                                        "ternary": {
                                            "aaxis": {
                                                "gridcolor": "white",
                                                "linecolor": "white",
                                                "ticks": ""
                                            },
                                            "baxis": {
                                                "gridcolor": "white",
                                                "linecolor": "white",
                                                "ticks": ""
                                            },
                                            "bgcolor": "#E5ECF6",
                                            "caxis": {
                                                "gridcolor": "white",
                                                "linecolor": "white",
                                                "ticks": ""
                                            }
                                        },
                                        "title": {
                                            "x": 0.05
                                        },
                                        "xaxis": {
                                            "automargin": true,
                                            "gridcolor": "white",
                                            "linecolor": "white",
                                            "ticks": "",
                                            "title": {
                                                "standoff": 15
                                            },
                                            "zerolinecolor": "white",
                                            "zerolinewidth": 2
                                        },
                                        "yaxis": {
                                            "automargin": true,
                                            "gridcolor": "white",
                                            "linecolor": "white",
                                            "ticks": "",
                                            "title": {
                                                "standoff": 15
                                            },
                                            "zerolinecolor": "white",
                                            "zerolinewidth": 2
                                        }
                                    }
                                },
                                "xaxis": {
                                    "anchor": "y",
                                    "constrain": "domain",
                                    "domain": [
                                        0,
                                        1
                                    ],
                                    "scaleanchor": "y",
                                    "title": {
                                        "text": "Head"
                                    }
                                },
                                "yaxis": {
                                    "anchor": "x",
                                    "autorange": "reversed",
                                    "constrain": "domain",
                                    "domain": [
                                        0,
                                        1
                                    ],
                                    "title": {
                                        "text": "Layer"
                                    }
                                }
                            }
                        }
                    },
                    "metadata": {},
                    "output_type": "display_data"
                },
                {
                    "data": {
                        "application/vnd.plotly.v1+json": {
                            "config": {
                                "plotlyServerURL": "https://plot.ly"
                            },
                            "data": [
                                {
                                    "hovertemplate": "<b>%{hovertext}</b><br><br>Ablated=%{x}<br>Original=%{y}<extra></extra>",
                                    "hovertext": [
                                        "L0H0",
                                        "L0H1",
                                        "L0H2",
                                        "L0H3",
                                        "L0H4",
                                        "L0H5",
                                        "L0H6",
                                        "L0H7",
                                        "L0H8",
                                        "L0H9",
                                        "L0H10",
                                        "L0H11",
                                        "L1H0",
                                        "L1H1",
                                        "L1H2",
                                        "L1H3",
                                        "L1H4",
                                        "L1H5",
                                        "L1H6",
                                        "L1H7",
                                        "L1H8",
                                        "L1H9",
                                        "L1H10",
                                        "L1H11",
                                        "L2H0",
                                        "L2H1",
                                        "L2H2",
                                        "L2H3",
                                        "L2H4",
                                        "L2H5",
                                        "L2H6",
                                        "L2H7",
                                        "L2H8",
                                        "L2H9",
                                        "L2H10",
                                        "L2H11",
                                        "L3H0",
                                        "L3H1",
                                        "L3H2",
                                        "L3H3",
                                        "L3H4",
                                        "L3H5",
                                        "L3H6",
                                        "L3H7",
                                        "L3H8",
                                        "L3H9",
                                        "L3H10",
                                        "L3H11",
                                        "L4H0",
                                        "L4H1",
                                        "L4H2",
                                        "L4H3",
                                        "L4H4",
                                        "L4H5",
                                        "L4H6",
                                        "L4H7",
                                        "L4H8",
                                        "L4H9",
                                        "L4H10",
                                        "L4H11",
                                        "L5H0",
                                        "L5H1",
                                        "L5H2",
                                        "L5H3",
                                        "L5H4",
                                        "L5H5",
                                        "L5H6",
                                        "L5H7",
                                        "L5H8",
                                        "L5H9",
                                        "L5H10",
                                        "L5H11",
                                        "L6H0",
                                        "L6H1",
                                        "L6H2",
                                        "L6H3",
                                        "L6H4",
                                        "L6H5",
                                        "L6H6",
                                        "L6H7",
                                        "L6H8",
                                        "L6H9",
                                        "L6H10",
                                        "L6H11",
                                        "L7H0",
                                        "L7H1",
                                        "L7H2",
                                        "L7H3",
                                        "L7H4",
                                        "L7H5",
                                        "L7H6",
                                        "L7H7",
                                        "L7H8",
                                        "L7H9",
                                        "L7H10",
                                        "L7H11",
                                        "L8H0",
                                        "L8H1",
                                        "L8H2",
                                        "L8H3",
                                        "L8H4",
                                        "L8H5",
                                        "L8H6",
                                        "L8H7",
                                        "L8H8",
                                        "L8H9",
                                        "L8H10",
                                        "L8H11",
                                        "L9H0",
                                        "L9H1",
                                        "L9H2",
                                        "L9H3",
                                        "L9H4",
                                        "L9H5",
                                        "L9H6",
                                        "L9H7",
                                        "L9H8",
                                        "L9H9",
                                        "L9H10",
                                        "L9H11",
                                        "L10H0",
                                        "L10H1",
                                        "L10H2",
                                        "L10H3",
                                        "L10H4",
                                        "L10H5",
                                        "L10H6",
                                        "L10H7",
                                        "L10H8",
                                        "L10H9",
                                        "L10H10",
                                        "L10H11",
                                        "L11H0",
                                        "L11H1",
                                        "L11H2",
                                        "L11H3",
                                        "L11H4",
                                        "L11H5",
                                        "L11H6",
                                        "L11H7",
                                        "L11H8",
                                        "L11H9",
                                        "L11H10",
                                        "L11H11"
                                    ],
                                    "legendgroup": "",
                                    "marker": {
                                        "color": "#636efa",
                                        "symbol": "circle"
                                    },
                                    "mode": "markers",
                                    "name": "",
                                    "orientation": "v",
                                    "showlegend": false,
                                    "type": "scatter",
                                    "x": [
                                        -0.002156503964215517,
                                        -0.0004650682385545224,
                                        0.00024167183437384665,
                                        0.0002806585980579257,
                                        -0.0004162999684922397,
                                        -0.0004892416181974113,
                                        -0.002620948012918234,
                                        -0.002935677068307996,
                                        0.00042561208829283714,
                                        0.0005418329383246601,
                                        0.00023754138965159655,
                                        -0.0000748957390896976,
                                        -0.000658505829051137,
                                        0.0004060641804244369,
                                        -0.0009330413886345923,
                                        0.0008937822422012687,
                                        -0.0009785268921405077,
                                        -0.000533820129930973,
                                        -0.0027988189831376076,
                                        -0.004214101936668158,
                                        0.002578593324869871,
                                        0.0024506838526576757,
                                        0.0005351756699383259,
                                        0.0012349633034318686,
                                        0.0009405204327777028,
                                        -0.0011168691562488675,
                                        -0.0011541967978700995,
                                        -0.0015697095077484846,
                                        -0.0005699327448382974,
                                        0.001451514894142747,
                                        0.002439911477267742,
                                        0.003158293664455414,
                                        0.000923738582059741,
                                        -0.003578126197680831,
                                        -0.0010650777257978916,
                                        -0.0003558753523975611,
                                        -0.0005624951445497572,
                                        -0.000011960582924075425,
                                        0.0011531109921634197,
                                        0.0007360265008173883,
                                        0.0016493839211761951,
                                        0.0008800819050520658,
                                        -0.0006905529880896211,
                                        -0.003031972097232938,
                                        0.0008080147090367973,
                                        0.00010368914809077978,
                                        -0.0005807994166389108,
                                        -0.0011067037703469396,
                                        -0.0026375530287623405,
                                        0.0002691895351745188,
                                        -0.0016417437000200152,
                                        -0.003406986128538847,
                                        0.0017449699807912111,
                                        0.00046454701805487275,
                                        -0.0007899806369096041,
                                        0.0018328562146052718,
                                        -0.00086324627045542,
                                        -0.0003978293389081955,
                                        0.0007879206677898765,
                                        -0.00012048585631418973,
                                        0.0008688560919836164,
                                        0.0009473530226387084,
                                        -0.0022812988609075546,
                                        -0.0011803123634308577,
                                        0.0002407809515716508,
                                        -0.0004318578285165131,
                                        -0.0003728170122485608,
                                        -0.000738416681997478,
                                        0.0008113418589346111,
                                        -0.00040444196201860905,
                                        -0.007074396125972271,
                                        0.003946478478610516,
                                        -0.014917617663741112,
                                        -0.0022801742888987064,
                                        0.0022679336834698915,
                                        -0.00008302251808345318,
                                        -0.004980948753654957,
                                        0.0027670026756823063,
                                        0.006266288459300995,
                                        -0.003485947148874402,
                                        -0.0013348984066396952,
                                        -0.0017918883822858334,
                                        -0.0012231896398589015,
                                        0.00040514359716326,
                                        -0.0002460568503011018,
                                        -0.005790225230157375,
                                        -0.0004975841729901731,
                                        0.142182856798172,
                                        -0.0014961492270231247,
                                        -0.019006317481398582,
                                        0.003133433870971203,
                                        -0.001858205534517765,
                                        -0.011305196210741997,
                                        0.1922595500946045,
                                        -0.0011892566690221429,
                                        -0.0010282933944836259,
                                        -0.0038003993686288595,
                                        -0.0008570950012654066,
                                        -0.013956742361187935,
                                        0.00828910805284977,
                                        0.004315475933253765,
                                        -0.009073829278349876,
                                        -0.08315148949623108,
                                        0.0034569751005619764,
                                        -0.01805492490530014,
                                        0.002178061753511429,
                                        0.29780513048171997,
                                        0.02409379370510578,
                                        0.08904723823070526,
                                        -0.0007931794971227646,
                                        0.07247699797153473,
                                        0.015016308054327965,
                                        -0.02120928093791008,
                                        0.05205465108156204,
                                        1.4411165714263916,
                                        0.04743674397468567,
                                        -0.03229031339287758,
                                        0,
                                        0.0019993737805634737,
                                        -0.00807223655283451,
                                        0.8600788116455078,
                                        0.3260062038898468,
                                        0.16344408690929413,
                                        0.07133537530899048,
                                        -0.00444837287068367,
                                        0.000681330740917474,
                                        0.36613449454307556,
                                        -0.7105098962783813,
                                        -0.002031375654041767,
                                        -0.032143525779247284,
                                        1.2294330596923828,
                                        0.0018453558441251516,
                                        0.016877274960279465,
                                        -0.001730365096591413,
                                        -0.5010868310928345,
                                        0.02749764919281006,
                                        -0.0059662917628884315,
                                        -0.004944110754877329,
                                        -0.08855228126049042,
                                        0.006622308399528265,
                                        0.044124361127614975,
                                        -0.02726735547184944,
                                        -1.134916067123413,
                                        0.02287953346967697
                                    ],
                                    "xaxis": "x",
                                    "y": [
                                        -0.0020563392899930477,
                                        -0.0005101899732835591,
                                        0.0004685786843765527,
                                        0.00012512074317783117,
                                        -0.0006028738571330905,
                                        -0.0002429460291750729,
                                        -0.0023189077619463205,
                                        -0.002758360467851162,
                                        0.000564602785743773,
                                        0.0009697531932033598,
                                        -0.0002504526637494564,
                                        0.000004737317794933915,
                                        -0.0010070882271975279,
                                        0.00039470894262194633,
                                        -0.00154874159488827,
                                        0.0014034928753972054,
                                        -0.0012653048615902662,
                                        -0.0011358022456988692,
                                        -0.00281596090644598,
                                        -0.0029645217582583427,
                                        0.0029190476052463055,
                                        0.0025743592996150255,
                                        0.00036239007022231817,
                                        0.0017548729665577412,
                                        0.0005569400964304805,
                                        -0.001126631861552596,
                                        -0.0017353934235870838,
                                        -0.0014514457434415817,
                                        -0.00028735760133713484,
                                        0.0017211002996191382,
                                        0.0026658899150788784,
                                        0.00311466702260077,
                                        0.0005667927907779813,
                                        -0.003666515462100506,
                                        -0.0018847601022571325,
                                        0.000007039372576400638,
                                        -0.0007264417363330722,
                                        0.00011364505917299539,
                                        0.0014301587361842394,
                                        0.0007490540738217533,
                                        0.0020184689201414585,
                                        0.0007436950691044331,
                                        -0.00046178390039131045,
                                        -0.0039057559333741665,
                                        0.0011406694538891315,
                                        -0.00004022853681817651,
                                        -0.0013293239753693342,
                                        -0.0017636751290410757,
                                        -0.0028280913829803467,
                                        0.00033634810824878514,
                                        -0.0014248639345169067,
                                        -0.003777273464947939,
                                        0.0015998880844563246,
                                        0.0002989505883306265,
                                        -0.000804675742983818,
                                        0.002038792008534074,
                                        -0.0015593919670209289,
                                        -0.0006436670082621276,
                                        0.0011168173514306545,
                                        -0.00035012533771805465,
                                        0.0011338205076754093,
                                        0.0011259170714765787,
                                        -0.002516670385375619,
                                        -0.0014790185960009694,
                                        0.0003878737334161997,
                                        -0.00006408110493794084,
                                        -0.0005096744280308485,
                                        -0.0008840755908749998,
                                        0.0006398351397365332,
                                        -0.0010097370250150561,
                                        -0.006759158335626125,
                                        0.0033667823299765587,
                                        -0.01514742337167263,
                                        -0.0021350777242332697,
                                        0.002593174111098051,
                                        -0.00042678468162193894,
                                        -0.005558924749493599,
                                        0.0026658528950065374,
                                        0.006411008536815643,
                                        -0.003826778382062912,
                                        -0.0003843410813715309,
                                        -0.0016430341638624668,
                                        -0.0013344454346224666,
                                        -0.0000920506427064538,
                                        -0.00009476230479776859,
                                        -0.0057889921590685844,
                                        -0.0006383581785485148,
                                        0.13493388891220093,
                                        -0.001768707763403654,
                                        -0.018917907029390335,
                                        0.003873429261147976,
                                        -0.0021450775675475597,
                                        -0.010327338241040707,
                                        0.18325845897197723,
                                        -0.0007747983909212053,
                                        -0.00104526337236166,
                                        -0.003833949100226164,
                                        -0.0008046097937040031,
                                        -0.012673400342464447,
                                        0.00804573018103838,
                                        0.003604492638260126,
                                        -0.009398287162184715,
                                        -0.08272082358598709,
                                        0.003555194940418005,
                                        -0.018404025584459305,
                                        0.0017587244510650635,
                                        0.2896133363246918,
                                        0.022854052484035492,
                                        0.08595258742570877,
                                        -0.0006932877004146576,
                                        0.06817055493593216,
                                        0.013111240230500698,
                                        -0.021098043769598007,
                                        0.05112447217106819,
                                        1.3844914436340332,
                                        0.045836858451366425,
                                        -0.03830280900001526,
                                        2.985445976257324,
                                        0.0019662054255604744,
                                        -0.008030137047171593,
                                        0.5608693957328796,
                                        0.17083050310611725,
                                        -0.03361757844686508,
                                        0.05821544677019119,
                                        -0.0024530249647796154,
                                        0.0018771197646856308,
                                        0.28827205300331116,
                                        -1.8986485004425049,
                                        -0.0015286931302398443,
                                        -0.035129792988300323,
                                        0.4802178740501404,
                                        -0.0009115453576669097,
                                        0.016075748950242996,
                                        -0.03986122086644173,
                                        -0.3879126012325287,
                                        0.011123123578727245,
                                        -0.005477819126099348,
                                        -0.0025129620917141438,
                                        -0.08056175708770752,
                                        0.007518616039305925,
                                        0.0430111438035965,
                                        -0.040082238614559174,
                                        -0.9702364802360535,
                                        0.011862239800393581
                                    ],
                                    "yaxis": "y"
                                }
                            ],
                            "layout": {
                                "legend": {
                                    "tracegroupgap": 0
                                },
                                "template": {
                                    "data": {
                                        "bar": [
                                            {
                                                "error_x": {
                                                    "color": "#2a3f5f"
                                                },
                                                "error_y": {
                                                    "color": "#2a3f5f"
                                                },
                                                "marker": {
                                                    "line": {
                                                        "color": "#E5ECF6",
                                                        "width": 0.5
                                                    },
                                                    "pattern": {
                                                        "fillmode": "overlay",
                                                        "size": 10,
                                                        "solidity": 0.2
                                                    }
                                                },
                                                "type": "bar"
                                            }
                                        ],
                                        "barpolar": [
                                            {
                                                "marker": {
                                                    "line": {
                                                        "color": "#E5ECF6",
                                                        "width": 0.5
                                                    },
                                                    "pattern": {
                                                        "fillmode": "overlay",
                                                        "size": 10,
                                                        "solidity": 0.2
                                                    }
                                                },
                                                "type": "barpolar"
                                            }
                                        ],
                                        "carpet": [
                                            {
                                                "aaxis": {
                                                    "endlinecolor": "#2a3f5f",
                                                    "gridcolor": "white",
                                                    "linecolor": "white",
                                                    "minorgridcolor": "white",
                                                    "startlinecolor": "#2a3f5f"
                                                },
                                                "baxis": {
                                                    "endlinecolor": "#2a3f5f",
                                                    "gridcolor": "white",
                                                    "linecolor": "white",
                                                    "minorgridcolor": "white",
                                                    "startlinecolor": "#2a3f5f"
                                                },
                                                "type": "carpet"
                                            }
                                        ],
                                        "choropleth": [
                                            {
                                                "colorbar": {
                                                    "outlinewidth": 0,
                                                    "ticks": ""
                                                },
                                                "type": "choropleth"
                                            }
                                        ],
                                        "contour": [
                                            {
                                                "colorbar": {
                                                    "outlinewidth": 0,
                                                    "ticks": ""
                                                },
                                                "colorscale": [
                                                    [
                                                        0,
                                                        "#0d0887"
                                                    ],
                                                    [
                                                        0.1111111111111111,
                                                        "#46039f"
                                                    ],
                                                    [
                                                        0.2222222222222222,
                                                        "#7201a8"
                                                    ],
                                                    [
                                                        0.3333333333333333,
                                                        "#9c179e"
                                                    ],
                                                    [
                                                        0.4444444444444444,
                                                        "#bd3786"
                                                    ],
                                                    [
                                                        0.5555555555555556,
                                                        "#d8576b"
                                                    ],
                                                    [
                                                        0.6666666666666666,
                                                        "#ed7953"
                                                    ],
                                                    [
                                                        0.7777777777777778,
                                                        "#fb9f3a"
                                                    ],
                                                    [
                                                        0.8888888888888888,
                                                        "#fdca26"
                                                    ],
                                                    [
                                                        1,
                                                        "#f0f921"
                                                    ]
                                                ],
                                                "type": "contour"
                                            }
                                        ],
                                        "contourcarpet": [
                                            {
                                                "colorbar": {
                                                    "outlinewidth": 0,
                                                    "ticks": ""
                                                },
                                                "type": "contourcarpet"
                                            }
                                        ],
                                        "heatmap": [
                                            {
                                                "colorbar": {
                                                    "outlinewidth": 0,
                                                    "ticks": ""
                                                },
                                                "colorscale": [
                                                    [
                                                        0,
                                                        "#0d0887"
                                                    ],
                                                    [
                                                        0.1111111111111111,
                                                        "#46039f"
                                                    ],
                                                    [
                                                        0.2222222222222222,
                                                        "#7201a8"
                                                    ],
                                                    [
                                                        0.3333333333333333,
                                                        "#9c179e"
                                                    ],
                                                    [
                                                        0.4444444444444444,
                                                        "#bd3786"
                                                    ],
                                                    [
                                                        0.5555555555555556,
                                                        "#d8576b"
                                                    ],
                                                    [
                                                        0.6666666666666666,
                                                        "#ed7953"
                                                    ],
                                                    [
                                                        0.7777777777777778,
                                                        "#fb9f3a"
                                                    ],
                                                    [
                                                        0.8888888888888888,
                                                        "#fdca26"
                                                    ],
                                                    [
                                                        1,
                                                        "#f0f921"
                                                    ]
                                                ],
                                                "type": "heatmap"
                                            }
                                        ],
                                        "heatmapgl": [
                                            {
                                                "colorbar": {
                                                    "outlinewidth": 0,
                                                    "ticks": ""
                                                },
                                                "colorscale": [
                                                    [
                                                        0,
                                                        "#0d0887"
                                                    ],
                                                    [
                                                        0.1111111111111111,
                                                        "#46039f"
                                                    ],
                                                    [
                                                        0.2222222222222222,
                                                        "#7201a8"
                                                    ],
                                                    [
                                                        0.3333333333333333,
                                                        "#9c179e"
                                                    ],
                                                    [
                                                        0.4444444444444444,
                                                        "#bd3786"
                                                    ],
                                                    [
                                                        0.5555555555555556,
                                                        "#d8576b"
                                                    ],
                                                    [
                                                        0.6666666666666666,
                                                        "#ed7953"
                                                    ],
                                                    [
                                                        0.7777777777777778,
                                                        "#fb9f3a"
                                                    ],
                                                    [
                                                        0.8888888888888888,
                                                        "#fdca26"
                                                    ],
                                                    [
                                                        1,
                                                        "#f0f921"
                                                    ]
                                                ],
                                                "type": "heatmapgl"
                                            }
                                        ],
                                        "histogram": [
                                            {
                                                "marker": {
                                                    "pattern": {
                                                        "fillmode": "overlay",
                                                        "size": 10,
                                                        "solidity": 0.2
                                                    }
                                                },
                                                "type": "histogram"
                                            }
                                        ],
                                        "histogram2d": [
                                            {
                                                "colorbar": {
                                                    "outlinewidth": 0,
                                                    "ticks": ""
                                                },
                                                "colorscale": [
                                                    [
                                                        0,
                                                        "#0d0887"
                                                    ],
                                                    [
                                                        0.1111111111111111,
                                                        "#46039f"
                                                    ],
                                                    [
                                                        0.2222222222222222,
                                                        "#7201a8"
                                                    ],
                                                    [
                                                        0.3333333333333333,
                                                        "#9c179e"
                                                    ],
                                                    [
                                                        0.4444444444444444,
                                                        "#bd3786"
                                                    ],
                                                    [
                                                        0.5555555555555556,
                                                        "#d8576b"
                                                    ],
                                                    [
                                                        0.6666666666666666,
                                                        "#ed7953"
                                                    ],
                                                    [
                                                        0.7777777777777778,
                                                        "#fb9f3a"
                                                    ],
                                                    [
                                                        0.8888888888888888,
                                                        "#fdca26"
                                                    ],
                                                    [
                                                        1,
                                                        "#f0f921"
                                                    ]
                                                ],
                                                "type": "histogram2d"
                                            }
                                        ],
                                        "histogram2dcontour": [
                                            {
                                                "colorbar": {
                                                    "outlinewidth": 0,
                                                    "ticks": ""
                                                },
                                                "colorscale": [
                                                    [
                                                        0,
                                                        "#0d0887"
                                                    ],
                                                    [
                                                        0.1111111111111111,
                                                        "#46039f"
                                                    ],
                                                    [
                                                        0.2222222222222222,
                                                        "#7201a8"
                                                    ],
                                                    [
                                                        0.3333333333333333,
                                                        "#9c179e"
                                                    ],
                                                    [
                                                        0.4444444444444444,
                                                        "#bd3786"
                                                    ],
                                                    [
                                                        0.5555555555555556,
                                                        "#d8576b"
                                                    ],
                                                    [
                                                        0.6666666666666666,
                                                        "#ed7953"
                                                    ],
                                                    [
                                                        0.7777777777777778,
                                                        "#fb9f3a"
                                                    ],
                                                    [
                                                        0.8888888888888888,
                                                        "#fdca26"
                                                    ],
                                                    [
                                                        1,
                                                        "#f0f921"
                                                    ]
                                                ],
                                                "type": "histogram2dcontour"
                                            }
                                        ],
                                        "mesh3d": [
                                            {
                                                "colorbar": {
                                                    "outlinewidth": 0,
                                                    "ticks": ""
                                                },
                                                "type": "mesh3d"
                                            }
                                        ],
                                        "parcoords": [
                                            {
                                                "line": {
                                                    "colorbar": {
                                                        "outlinewidth": 0,
                                                        "ticks": ""
                                                    }
                                                },
                                                "type": "parcoords"
                                            }
                                        ],
                                        "pie": [
                                            {
                                                "automargin": true,
                                                "type": "pie"
                                            }
                                        ],
                                        "scatter": [
                                            {
                                                "fillpattern": {
                                                    "fillmode": "overlay",
                                                    "size": 10,
                                                    "solidity": 0.2
                                                },
                                                "type": "scatter"
                                            }
                                        ],
                                        "scatter3d": [
                                            {
                                                "line": {
                                                    "colorbar": {
                                                        "outlinewidth": 0,
                                                        "ticks": ""
                                                    }
                                                },
                                                "marker": {
                                                    "colorbar": {
                                                        "outlinewidth": 0,
                                                        "ticks": ""
                                                    }
                                                },
                                                "type": "scatter3d"
                                            }
                                        ],
                                        "scattercarpet": [
                                            {
                                                "marker": {
                                                    "colorbar": {
                                                        "outlinewidth": 0,
                                                        "ticks": ""
                                                    }
                                                },
                                                "type": "scattercarpet"
                                            }
                                        ],
                                        "scattergeo": [
                                            {
                                                "marker": {
                                                    "colorbar": {
                                                        "outlinewidth": 0,
                                                        "ticks": ""
                                                    }
                                                },
                                                "type": "scattergeo"
                                            }
                                        ],
                                        "scattergl": [
                                            {
                                                "marker": {
                                                    "colorbar": {
                                                        "outlinewidth": 0,
                                                        "ticks": ""
                                                    }
                                                },
                                                "type": "scattergl"
                                            }
                                        ],
                                        "scattermapbox": [
                                            {
                                                "marker": {
                                                    "colorbar": {
                                                        "outlinewidth": 0,
                                                        "ticks": ""
                                                    }
                                                },
                                                "type": "scattermapbox"
                                            }
                                        ],
                                        "scatterpolar": [
                                            {
                                                "marker": {
                                                    "colorbar": {
                                                        "outlinewidth": 0,
                                                        "ticks": ""
                                                    }
                                                },
                                                "type": "scatterpolar"
                                            }
                                        ],
                                        "scatterpolargl": [
                                            {
                                                "marker": {
                                                    "colorbar": {
                                                        "outlinewidth": 0,
                                                        "ticks": ""
                                                    }
                                                },
                                                "type": "scatterpolargl"
                                            }
                                        ],
                                        "scatterternary": [
                                            {
                                                "marker": {
                                                    "colorbar": {
                                                        "outlinewidth": 0,
                                                        "ticks": ""
                                                    }
                                                },
                                                "type": "scatterternary"
                                            }
                                        ],
                                        "surface": [
                                            {
                                                "colorbar": {
                                                    "outlinewidth": 0,
                                                    "ticks": ""
                                                },
                                                "colorscale": [
                                                    [
                                                        0,
                                                        "#0d0887"
                                                    ],
                                                    [
                                                        0.1111111111111111,
                                                        "#46039f"
                                                    ],
                                                    [
                                                        0.2222222222222222,
                                                        "#7201a8"
                                                    ],
                                                    [
                                                        0.3333333333333333,
                                                        "#9c179e"
                                                    ],
                                                    [
                                                        0.4444444444444444,
                                                        "#bd3786"
                                                    ],
                                                    [
                                                        0.5555555555555556,
                                                        "#d8576b"
                                                    ],
                                                    [
                                                        0.6666666666666666,
                                                        "#ed7953"
                                                    ],
                                                    [
                                                        0.7777777777777778,
                                                        "#fb9f3a"
                                                    ],
                                                    [
                                                        0.8888888888888888,
                                                        "#fdca26"
                                                    ],
                                                    [
                                                        1,
                                                        "#f0f921"
                                                    ]
                                                ],
                                                "type": "surface"
                                            }
                                        ],
                                        "table": [
                                            {
                                                "cells": {
                                                    "fill": {
                                                        "color": "#EBF0F8"
                                                    },
                                                    "line": {
                                                        "color": "white"
                                                    }
                                                },
                                                "header": {
                                                    "fill": {
                                                        "color": "#C8D4E3"
                                                    },
                                                    "line": {
                                                        "color": "white"
                                                    }
                                                },
                                                "type": "table"
                                            }
                                        ]
                                    },
                                    "layout": {
                                        "annotationdefaults": {
                                            "arrowcolor": "#2a3f5f",
                                            "arrowhead": 0,
                                            "arrowwidth": 1
                                        },
                                        "autotypenumbers": "strict",
                                        "coloraxis": {
                                            "colorbar": {
                                                "outlinewidth": 0,
                                                "ticks": ""
                                            }
                                        },
                                        "colorscale": {
                                            "diverging": [
                                                [
                                                    0,
                                                    "#8e0152"
                                                ],
                                                [
                                                    0.1,
                                                    "#c51b7d"
                                                ],
                                                [
                                                    0.2,
                                                    "#de77ae"
                                                ],
                                                [
                                                    0.3,
                                                    "#f1b6da"
                                                ],
                                                [
                                                    0.4,
                                                    "#fde0ef"
                                                ],
                                                [
                                                    0.5,
                                                    "#f7f7f7"
                                                ],
                                                [
                                                    0.6,
                                                    "#e6f5d0"
                                                ],
                                                [
                                                    0.7,
                                                    "#b8e186"
                                                ],
                                                [
                                                    0.8,
                                                    "#7fbc41"
                                                ],
                                                [
                                                    0.9,
                                                    "#4d9221"
                                                ],
                                                [
                                                    1,
                                                    "#276419"
                                                ]
                                            ],
                                            "sequential": [
                                                [
                                                    0,
                                                    "#0d0887"
                                                ],
                                                [
                                                    0.1111111111111111,
                                                    "#46039f"
                                                ],
                                                [
                                                    0.2222222222222222,
                                                    "#7201a8"
                                                ],
                                                [
                                                    0.3333333333333333,
                                                    "#9c179e"
                                                ],
                                                [
                                                    0.4444444444444444,
                                                    "#bd3786"
                                                ],
                                                [
                                                    0.5555555555555556,
                                                    "#d8576b"
                                                ],
                                                [
                                                    0.6666666666666666,
                                                    "#ed7953"
                                                ],
                                                [
                                                    0.7777777777777778,
                                                    "#fb9f3a"
                                                ],
                                                [
                                                    0.8888888888888888,
                                                    "#fdca26"
                                                ],
                                                [
                                                    1,
                                                    "#f0f921"
                                                ]
                                            ],
                                            "sequentialminus": [
                                                [
                                                    0,
                                                    "#0d0887"
                                                ],
                                                [
                                                    0.1111111111111111,
                                                    "#46039f"
                                                ],
                                                [
                                                    0.2222222222222222,
                                                    "#7201a8"
                                                ],
                                                [
                                                    0.3333333333333333,
                                                    "#9c179e"
                                                ],
                                                [
                                                    0.4444444444444444,
                                                    "#bd3786"
                                                ],
                                                [
                                                    0.5555555555555556,
                                                    "#d8576b"
                                                ],
                                                [
                                                    0.6666666666666666,
                                                    "#ed7953"
                                                ],
                                                [
                                                    0.7777777777777778,
                                                    "#fb9f3a"
                                                ],
                                                [
                                                    0.8888888888888888,
                                                    "#fdca26"
                                                ],
                                                [
                                                    1,
                                                    "#f0f921"
                                                ]
                                            ]
                                        },
                                        "colorway": [
                                            "#636efa",
                                            "#EF553B",
                                            "#00cc96",
                                            "#ab63fa",
                                            "#FFA15A",
                                            "#19d3f3",
                                            "#FF6692",
                                            "#B6E880",
                                            "#FF97FF",
                                            "#FECB52"
                                        ],
                                        "font": {
                                            "color": "#2a3f5f"
                                        },
                                        "geo": {
                                            "bgcolor": "white",
                                            "lakecolor": "white",
                                            "landcolor": "#E5ECF6",
                                            "showlakes": true,
                                            "showland": true,
                                            "subunitcolor": "white"
                                        },
                                        "hoverlabel": {
                                            "align": "left"
                                        },
                                        "hovermode": "closest",
                                        "mapbox": {
                                            "style": "light"
                                        },
                                        "paper_bgcolor": "white",
                                        "plot_bgcolor": "#E5ECF6",
                                        "polar": {
                                            "angularaxis": {
                                                "gridcolor": "white",
                                                "linecolor": "white",
                                                "ticks": ""
                                            },
                                            "bgcolor": "#E5ECF6",
                                            "radialaxis": {
                                                "gridcolor": "white",
                                                "linecolor": "white",
                                                "ticks": ""
                                            }
                                        },
                                        "scene": {
                                            "xaxis": {
                                                "backgroundcolor": "#E5ECF6",
                                                "gridcolor": "white",
                                                "gridwidth": 2,
                                                "linecolor": "white",
                                                "showbackground": true,
                                                "ticks": "",
                                                "zerolinecolor": "white"
                                            },
                                            "yaxis": {
                                                "backgroundcolor": "#E5ECF6",
                                                "gridcolor": "white",
                                                "gridwidth": 2,
                                                "linecolor": "white",
                                                "showbackground": true,
                                                "ticks": "",
                                                "zerolinecolor": "white"
                                            },
                                            "zaxis": {
                                                "backgroundcolor": "#E5ECF6",
                                                "gridcolor": "white",
                                                "gridwidth": 2,
                                                "linecolor": "white",
                                                "showbackground": true,
                                                "ticks": "",
                                                "zerolinecolor": "white"
                                            }
                                        },
                                        "shapedefaults": {
                                            "line": {
                                                "color": "#2a3f5f"
                                            }
                                        },
                                        "ternary": {
                                            "aaxis": {
                                                "gridcolor": "white",
                                                "linecolor": "white",
                                                "ticks": ""
                                            },
                                            "baxis": {
                                                "gridcolor": "white",
                                                "linecolor": "white",
                                                "ticks": ""
                                            },
                                            "bgcolor": "#E5ECF6",
                                            "caxis": {
                                                "gridcolor": "white",
                                                "linecolor": "white",
                                                "ticks": ""
                                            }
                                        },
                                        "title": {
                                            "x": 0.05
                                        },
                                        "xaxis": {
                                            "automargin": true,
                                            "gridcolor": "white",
                                            "linecolor": "white",
                                            "ticks": "",
                                            "title": {
                                                "standoff": 15
                                            },
                                            "zerolinecolor": "white",
                                            "zerolinewidth": 2
                                        },
                                        "yaxis": {
                                            "automargin": true,
                                            "gridcolor": "white",
                                            "linecolor": "white",
                                            "ticks": "",
                                            "title": {
                                                "standoff": 15
                                            },
                                            "zerolinecolor": "white",
                                            "zerolinewidth": 2
                                        }
                                    }
                                },
                                "title": {
                                    "text": "Original vs Post-Ablation Direct Logit Attribution of Heads"
                                },
                                "xaxis": {
                                    "anchor": "y",
                                    "domain": [
                                        0,
                                        1
                                    ],
                                    "range": [
                                        -3,
                                        3
                                    ],
                                    "title": {
                                        "text": "Ablated"
                                    }
                                },
                                "yaxis": {
                                    "anchor": "x",
                                    "domain": [
                                        0,
                                        1
                                    ],
                                    "range": [
                                        -3,
                                        3
                                    ],
                                    "title": {
                                        "text": "Original"
                                    }
                                }
                            }
                        }
                    },
                    "metadata": {},
                    "output_type": "display_data"
                }
            ],
            "source": [
                "per_head_ablated_residual, labels = ablated_cache.stack_head_results(\n",
                "    layer=-1, pos_slice=-1, return_labels=True\n",
                ")\n",
                "per_head_ablated_logit_diffs = residual_stack_to_logit_diff(\n",
                "    per_head_ablated_residual, ablated_cache\n",
                ")\n",
                "per_head_ablated_logit_diffs = per_head_ablated_logit_diffs.reshape(\n",
                "    model.cfg.n_layers, model.cfg.n_heads\n",
                ")\n",
                "imshow(per_head_ablated_logit_diffs, labels={\"x\": \"Head\", \"y\": \"Layer\"})\n",
                "scatter(\n",
                "    y=per_head_logit_diffs.flatten(),\n",
                "    x=per_head_ablated_logit_diffs.flatten(),\n",
                "    hover_name=head_labels,\n",
                "    range_x=(-3, 3),\n",
                "    range_y=(-3, 3),\n",
                "    xaxis=\"Ablated\",\n",
                "    yaxis=\"Original\",\n",
                "    title=\"Original vs Post-Ablation Direct Logit Attribution of Heads\",\n",
                ")"
            ]
        },
        {
            "attachments": {},
            "cell_type": "markdown",
            "metadata": {},
            "source": [
                "One natural hypothesis is that this is because the final LayerNorm scaling has changed, which can scale up or down the final residual stream. This is slightly true, and we can see that the typical head is a bit off from the x=y line. But the average LN scaling ratio is 1.04, and this should uniformly change *all* heads by the same factor, so this can't be sufficient"
            ]
        },
        {
            "cell_type": "code",
            "execution_count": 68,
            "metadata": {},
            "outputs": [
                {
                    "name": "stdout",
                    "output_type": "stream",
                    "text": [
                        "Average LN scaling ratio: 1.0417320728302002\n",
                        "Ablation LN scale tensor([[18.5222],\n",
                        "        [17.4693],\n",
                        "        [17.8205],\n",
                        "        [17.5067],\n",
                        "        [17.2627],\n",
                        "        [18.2538],\n",
                        "        [16.1797],\n",
                        "        [17.4297]], device='mps:0')\n",
                        "Original LN scale tensor([[19.5685],\n",
                        "        [18.3547],\n",
                        "        [18.2853],\n",
                        "        [18.6833],\n",
                        "        [17.4876],\n",
                        "        [18.8691],\n",
                        "        [16.4214],\n",
                        "        [18.6797]], device='mps:0')\n"
                    ]
                }
            ],
            "source": [
                "print(\n",
                "    \"Average LN scaling ratio:\",\n",
                "    (cache[\"ln_final.hook_scale\"][:, -1] / ablated_cache[\"ln_final.hook_scale\"][:, -1])\n",
                "    .mean()\n",
                "    .item(),\n",
                ")\n",
                "print(\"Ablation LN scale\", ablated_cache[\"ln_final.hook_scale\"][:, -1])\n",
                "print(\"Original LN scale\", cache[\"ln_final.hook_scale\"][:, -1])"
            ]
        },
        {
            "attachments": {},
            "cell_type": "markdown",
            "metadata": {},
            "source": [
                "**Exercise to the reader:** Can you finish off this analysis? What's going on here? Why are the backup name movers changing their behaviour? Why is one negative name mover becoming significantly less important?"
            ]
        }
    ],
    "metadata": {
        "kernelspec": {
            "display_name": ".venv",
            "language": "python",
            "name": "python3"
        },
        "language_info": {
            "codemirror_mode": {
                "name": "ipython",
                "version": 3
            },
            "file_extension": ".py",
            "mimetype": "text/x-python",
            "name": "python",
            "nbconvert_exporter": "python",
            "pygments_lexer": "ipython3",
            "version": "3.11.5"
        },
        "vscode": {
            "interpreter": {
                "hash": "eb812820b5094695c8a581672e17220e30dd2c15d704c018326e3cc2e1a566f1"
            }
        }
    },
    "nbformat": 4,
    "nbformat_minor": 2
}
